{
    "metadata": {
        "kernelspec": {
            "name": "SQL",
            "display_name": "SQL",
            "language": "sql"
        },
        "language_info": {
            "name": "sql",
            "version": ""
        }
    },
    "nbformat_minor": 2,
    "nbformat": 4,
    "cells": [
        {
            "cell_type": "markdown",
            "source": [
                "1\\. feladat"
            ],
            "metadata": {
                "azdata_cell_guid": "110de045-87c8-4ec0-a4f4-da32959df18d"
            },
            "attachments": {}
        },
        {
            "cell_type": "code",
            "source": [
                "SELECT ROGZITETTE, SZALLAS_NEV, CIM,*\r\n",
                "FROM Szallashely\r\n",
                "WHERE Hely Like 'Balaton%' and Month(ROGZ_IDO)=3\r\n",
                "ORDER BY CSILLAGOK_SZAMA DESC"
            ],
            "metadata": {
                "azdata_cell_guid": "51f8007b-436c-416f-a85c-5040bf22aafc",
                "language": "sql"
            },
            "outputs": [
                {
                    "output_type": "display_data",
                    "data": {
                        "text/html": "(7 rows affected)"
                    },
                    "metadata": {}
                },
                {
                    "output_type": "display_data",
                    "data": {
                        "text/html": "Total execution time: 00:00:00.008"
                    },
                    "metadata": {}
                },
                {
                    "output_type": "execute_result",
                    "metadata": {},
                    "execution_count": 9,
                    "data": {
                        "application/vnd.dataresource+json": {
                            "schema": {
                                "fields": [
                                    {
                                        "name": "ROGZITETTE"
                                    },
                                    {
                                        "name": "SZALLAS_NEV"
                                    },
                                    {
                                        "name": "CIM"
                                    },
                                    {
                                        "name": "SZALLAS_ID"
                                    },
                                    {
                                        "name": "SZALLAS_NEV"
                                    },
                                    {
                                        "name": "HELY"
                                    },
                                    {
                                        "name": "CSILLAGOK_SZAMA"
                                    },
                                    {
                                        "name": "TIPUS"
                                    },
                                    {
                                        "name": "ROGZITETTE"
                                    },
                                    {
                                        "name": "ROGZ_IDO"
                                    },
                                    {
                                        "name": "CIM"
                                    }
                                ]
                            },
                            "data": [
                                {
                                    "ROGZITETTE": "Béla",
                                    "SZALLAS_NEV": "Hotel Három Hattyú",
                                    "CIM": "8623 Balatonföldvár, Rákóczi Ferenc út 45.",
                                    "SZALLAS_ID": "8",
                                    "HELY": "Balaton-dél",
                                    "CSILLAGOK_SZAMA": "4",
                                    "TIPUS": "Hotel",
                                    "ROGZ_IDO": "2016-03-13"
                                },
                                {
                                    "ROGZITETTE": "Mari",
                                    "SZALLAS_NEV": "Jáde panzió",
                                    "CIM": "8624 Balatonföldvár, Kiss u.2.",
                                    "SZALLAS_ID": "9",
                                    "HELY": "Balaton-dél",
                                    "CSILLAGOK_SZAMA": "3",
                                    "TIPUS": "panzió",
                                    "ROGZ_IDO": "2016-03-16"
                                },
                                {
                                    "ROGZITETTE": "Béla",
                                    "SZALLAS_NEV": "Kentaur Hotel",
                                    "CIM": "8600 Siófok (Széplak), Akácfa utca 1",
                                    "SZALLAS_ID": "6",
                                    "HELY": "Balaton-dél",
                                    "CSILLAGOK_SZAMA": "3",
                                    "TIPUS": "Hotel",
                                    "ROGZ_IDO": "2016-03-08"
                                },
                                {
                                    "ROGZITETTE": "Béla",
                                    "SZALLAS_NEV": "Tímárház Panzió",
                                    "CIM": "8600 Siófok, Virág utca 1",
                                    "SZALLAS_ID": "15",
                                    "HELY": "Balaton-dél",
                                    "CSILLAGOK_SZAMA": "3",
                                    "TIPUS": "panzió",
                                    "ROGZ_IDO": "2016-03-29"
                                },
                                {
                                    "ROGZITETTE": "Béla",
                                    "SZALLAS_NEV": "Családi Ház",
                                    "CIM": "8630 Balatonboglár, József Attila utca 25",
                                    "SZALLAS_ID": "2",
                                    "HELY": "Balaton-dél",
                                    "CSILLAGOK_SZAMA": "0",
                                    "TIPUS": "vendégház",
                                    "ROGZ_IDO": "2016-03-02"
                                },
                                {
                                    "ROGZITETTE": "Mari",
                                    "SZALLAS_NEV": "Szieszta Apartmanház",
                                    "CIM": "8630 Balatonboglár, Dózsa György utca 108",
                                    "SZALLAS_ID": "7",
                                    "HELY": "Balaton-dél",
                                    "CSILLAGOK_SZAMA": "0",
                                    "TIPUS": "Apartman",
                                    "ROGZ_IDO": "2016-03-11"
                                },
                                {
                                    "ROGZITETTE": "Béla",
                                    "SZALLAS_NEV": "Partiszél Vendégház",
                                    "CIM": "8220 Balatonalmádi Neptun u. 23.",
                                    "SZALLAS_ID": "11",
                                    "HELY": "Balaton-észak",
                                    "CSILLAGOK_SZAMA": "0",
                                    "TIPUS": "vendégház",
                                    "ROGZ_IDO": "2016-03-22"
                                }
                            ]
                        },
                        "text/html": [
                            "<table>",
                            "<tr><th>ROGZITETTE</th><th>SZALLAS_NEV</th><th>CIM</th><th>SZALLAS_ID</th><th>SZALLAS_NEV</th><th>HELY</th><th>CSILLAGOK_SZAMA</th><th>TIPUS</th><th>ROGZITETTE</th><th>ROGZ_IDO</th><th>CIM</th></tr>",
                            "<tr><td>Béla</td><td>Hotel Három Hattyú</td><td>8623 Balatonföldvár, Rákóczi Ferenc út 45.</td><td>8</td><td>Hotel Három Hattyú</td><td>Balaton-dél</td><td>4</td><td>Hotel</td><td>Béla</td><td>2016-03-13</td><td>8623 Balatonföldvár, Rákóczi Ferenc út 45.</td></tr>",
                            "<tr><td>Mari</td><td>Jáde panzió</td><td>8624 Balatonföldvár, Kiss u.2.</td><td>9</td><td>Jáde panzió</td><td>Balaton-dél</td><td>3</td><td>panzió</td><td>Mari</td><td>2016-03-16</td><td>8624 Balatonföldvár, Kiss u.2.</td></tr>",
                            "<tr><td>Béla</td><td>Kentaur Hotel</td><td>8600 Siófok (Széplak), Akácfa utca 1</td><td>6</td><td>Kentaur Hotel</td><td>Balaton-dél</td><td>3</td><td>Hotel</td><td>Béla</td><td>2016-03-08</td><td>8600 Siófok (Széplak), Akácfa utca 1</td></tr>",
                            "<tr><td>Béla</td><td>Tímárház Panzió</td><td>8600 Siófok, Virág utca 1</td><td>15</td><td>Tímárház Panzió</td><td>Balaton-dél</td><td>3</td><td>panzió</td><td>Béla</td><td>2016-03-29</td><td>8600 Siófok, Virág utca 1</td></tr>",
                            "<tr><td>Béla</td><td>Családi Ház</td><td>8630 Balatonboglár, József Attila utca 25</td><td>2</td><td>Családi Ház</td><td>Balaton-dél</td><td>0</td><td>vendégház</td><td>Béla</td><td>2016-03-02</td><td>8630 Balatonboglár, József Attila utca 25</td></tr>",
                            "<tr><td>Mari</td><td>Szieszta Apartmanház</td><td>8630 Balatonboglár, Dózsa György utca 108</td><td>7</td><td>Szieszta Apartmanház</td><td>Balaton-dél</td><td>0</td><td>Apartman</td><td>Mari</td><td>2016-03-11</td><td>8630 Balatonboglár, Dózsa György utca 108</td></tr>",
                            "<tr><td>Béla</td><td>Partiszél Vendégház</td><td>8220 Balatonalmádi Neptun u. 23.</td><td>11</td><td>Partiszél Vendégház</td><td>Balaton-észak</td><td>0</td><td>vendégház</td><td>Béla</td><td>2016-03-22</td><td>8220 Balatonalmádi Neptun u. 23.</td></tr>",
                            "</table>"
                        ]
                    }
                }
            ],
            "execution_count": 9
        },
        {
            "cell_type": "markdown",
            "source": [
                "2\\. feladat"
            ],
            "metadata": {
                "azdata_cell_guid": "9a11d630-1fcb-415d-8a6f-c514fe598c58"
            },
            "attachments": {}
        },
        {
            "cell_type": "code",
            "source": [
                "SELECT szh.SZALLAS_ID, szh.SZALLAS_NEV, Count(sz.KLIMAS)\r\n",
                "FROM Szallashely szh JOIN Szoba sz ON szh.SZALLAS_ID=sz.SZALLAS_FK\r\n",
                "WHERE sz.KLIMAS='i'\r\n",
                "GROUP BY szh.SZALLAS_ID,szh.SZALLAS_NEV"
            ],
            "metadata": {
                "azdata_cell_guid": "fe62cd1e-09de-4437-972a-05a751490ea1",
                "language": "sql"
            },
            "outputs": [
                {
                    "output_type": "display_data",
                    "data": {
                        "text/html": "(20 rows affected)"
                    },
                    "metadata": {}
                },
                {
                    "output_type": "display_data",
                    "data": {
                        "text/html": "Total execution time: 00:00:00.005"
                    },
                    "metadata": {}
                },
                {
                    "output_type": "execute_result",
                    "metadata": {},
                    "execution_count": 15,
                    "data": {
                        "application/vnd.dataresource+json": {
                            "schema": {
                                "fields": [
                                    {
                                        "name": "SZALLAS_ID"
                                    },
                                    {
                                        "name": "SZALLAS_NEV"
                                    },
                                    {
                                        "name": "(No column name)"
                                    }
                                ]
                            },
                            "data": [
                                {
                                    "SZALLAS_ID": "1",
                                    "SZALLAS_NEV": "Sába-Ház",
                                    "(No column name)": "10"
                                },
                                {
                                    "SZALLAS_ID": "2",
                                    "SZALLAS_NEV": "Családi Ház",
                                    "(No column name)": "4"
                                },
                                {
                                    "SZALLAS_ID": "3",
                                    "SZALLAS_NEV": "Fortuna Apartman",
                                    "(No column name)": "5"
                                },
                                {
                                    "SZALLAS_ID": "4",
                                    "SZALLAS_NEV": "Fortuna panzió",
                                    "(No column name)": "12"
                                },
                                {
                                    "SZALLAS_ID": "5",
                                    "SZALLAS_NEV": "Fortuna Panzió",
                                    "(No column name)": "8"
                                },
                                {
                                    "SZALLAS_ID": "6",
                                    "SZALLAS_NEV": "Kentaur Hotel",
                                    "(No column name)": "22"
                                },
                                {
                                    "SZALLAS_ID": "7",
                                    "SZALLAS_NEV": "Szieszta Apartmanház",
                                    "(No column name)": "4"
                                },
                                {
                                    "SZALLAS_ID": "8",
                                    "SZALLAS_NEV": "Hotel Három Hattyú",
                                    "(No column name)": "28"
                                },
                                {
                                    "SZALLAS_ID": "9",
                                    "SZALLAS_NEV": "Jáde panzió",
                                    "(No column name)": "2"
                                },
                                {
                                    "SZALLAS_ID": "10",
                                    "SZALLAS_NEV": "Lagúna Hotel",
                                    "(No column name)": "15"
                                },
                                {
                                    "SZALLAS_ID": "11",
                                    "SZALLAS_NEV": "Partiszél Vendégház",
                                    "(No column name)": "4"
                                },
                                {
                                    "SZALLAS_ID": "12",
                                    "SZALLAS_NEV": "Gold Hotel",
                                    "(No column name)": "42"
                                },
                                {
                                    "SZALLAS_ID": "13",
                                    "SZALLAS_NEV": "Riviéra Panzió",
                                    "(No column name)": "8"
                                },
                                {
                                    "SZALLAS_ID": "14",
                                    "SZALLAS_NEV": "Nyárfás Vendégház",
                                    "(No column name)": "4"
                                },
                                {
                                    "SZALLAS_ID": "15",
                                    "SZALLAS_NEV": "Tímárház Panzió",
                                    "(No column name)": "9"
                                },
                                {
                                    "SZALLAS_ID": "16",
                                    "SZALLAS_NEV": "Bagoly Hotel",
                                    "(No column name)": "14"
                                },
                                {
                                    "SZALLAS_ID": "17",
                                    "SZALLAS_NEV": "Szarvas Hotel",
                                    "(No column name)": "11"
                                },
                                {
                                    "SZALLAS_ID": "18",
                                    "SZALLAS_NEV": "Fortuna Apartman",
                                    "(No column name)": "2"
                                },
                                {
                                    "SZALLAS_ID": "19",
                                    "SZALLAS_NEV": "Nyárfás Vendégház",
                                    "(No column name)": "2"
                                },
                                {
                                    "SZALLAS_ID": "20",
                                    "SZALLAS_NEV": "Kollégium",
                                    "(No column name)": "9"
                                }
                            ]
                        },
                        "text/html": [
                            "<table>",
                            "<tr><th>SZALLAS_ID</th><th>SZALLAS_NEV</th><th>(No column name)</th></tr>",
                            "<tr><td>1</td><td>Sába-Ház</td><td>10</td></tr>",
                            "<tr><td>2</td><td>Családi Ház</td><td>4</td></tr>",
                            "<tr><td>3</td><td>Fortuna Apartman</td><td>5</td></tr>",
                            "<tr><td>4</td><td>Fortuna panzió</td><td>12</td></tr>",
                            "<tr><td>5</td><td>Fortuna Panzió</td><td>8</td></tr>",
                            "<tr><td>6</td><td>Kentaur Hotel</td><td>22</td></tr>",
                            "<tr><td>7</td><td>Szieszta Apartmanház</td><td>4</td></tr>",
                            "<tr><td>8</td><td>Hotel Három Hattyú</td><td>28</td></tr>",
                            "<tr><td>9</td><td>Jáde panzió</td><td>2</td></tr>",
                            "<tr><td>10</td><td>Lagúna Hotel</td><td>15</td></tr>",
                            "<tr><td>11</td><td>Partiszél Vendégház</td><td>4</td></tr>",
                            "<tr><td>12</td><td>Gold Hotel</td><td>42</td></tr>",
                            "<tr><td>13</td><td>Riviéra Panzió</td><td>8</td></tr>",
                            "<tr><td>14</td><td>Nyárfás Vendégház</td><td>4</td></tr>",
                            "<tr><td>15</td><td>Tímárház Panzió</td><td>9</td></tr>",
                            "<tr><td>16</td><td>Bagoly Hotel</td><td>14</td></tr>",
                            "<tr><td>17</td><td>Szarvas Hotel</td><td>11</td></tr>",
                            "<tr><td>18</td><td>Fortuna Apartman</td><td>2</td></tr>",
                            "<tr><td>19</td><td>Nyárfás Vendégház</td><td>2</td></tr>",
                            "<tr><td>20</td><td>Kollégium</td><td>9</td></tr>",
                            "</table>"
                        ]
                    }
                }
            ],
            "execution_count": 15
        },
        {
            "cell_type": "markdown",
            "source": [
                "3\\. feladat"
            ],
            "metadata": {
                "azdata_cell_guid": "499dac34-a279-4440-9b25-86d8866b3b40"
            },
            "attachments": {}
        },
        {
            "cell_type": "code",
            "source": [
                "SELECT szh.SZALLAS_NEV,\r\n",
                "        IIF(szh.TIPUS='panzió','Igen','Nem') as 'panzió_e',\r\n",
                "        sz.*\r\n",
                "FROM Szoba sz LEFT JOIN Foglalas f ON sz.SZOBA_ID = f.SZOBA_FK\r\n",
                "                JOIN Szallashely szh ON sz.SZALLAS_FK=szh.SZALLAS_ID\r\n",
                "WHERE f.SZOBA_FK IS NULL"
            ],
            "metadata": {
                "azdata_cell_guid": "f2f5d170-76f5-4b4c-887d-dd7bc67744ce",
                "language": "sql"
            },
            "outputs": [
{
    "output_type": "display_data",
    "data": {
        "text/html": "(97 rows affected)"
    },
    "metadata": {}
}, {
    "output_type": "display_data",
    "data": {
        "text/html": "Total execution time: 00:00:00.016"
    },
    "metadata": {}
}, {
    "output_type": "execute_result",
    "metadata": {},
    "execution_count": 28,
    "data": {
        "application/vnd.dataresource+json": {
            "schema": {
                "fields": [
                    {
                        "name": "SZALLAS_NEV"
                    },
                    {
                        "name": "panzió_e"
                    },
                    {
                        "name": "SZOBA_ID"
                    },
                    {
                        "name": "SZOBA_SZAMA"
                    },
                    {
                        "name": "FEROHELY"
                    },
                    {
                        "name": "POTAGY"
                    },
                    {
                        "name": "KLIMAS"
                    },
                    {
                        "name": "SZALLAS_FK"
                    }
                ]
            },
            "data": [
                {
                    "SZALLAS_NEV": "Lagúna Hotel",
                    "panzió_e": "Nem",
                    "SZOBA_ID": "159",
                    "SZOBA_SZAMA": "25",
                    "FEROHELY": "3",
                    "POTAGY": "1",
                    "KLIMAS": "n",
                    "SZALLAS_FK": "10"
                },
                {
                    "SZALLAS_NEV": "Gold Hotel",
                    "panzió_e": "Nem",
                    "SZOBA_ID": "199",
                    "SZOBA_SZAMA": "35",
                    "FEROHELY": "3",
                    "POTAGY": "2",
                    "KLIMAS": "i",
                    "SZALLAS_FK": "12"
                },
                {
                    "SZALLAS_NEV": "Gold Hotel",
                    "panzió_e": "Nem",
                    "SZOBA_ID": "200",
                    "SZOBA_SZAMA": "36",
                    "FEROHELY": "2",
                    "POTAGY": "0",
                    "KLIMAS": "i",
                    "SZALLAS_FK": "12"
                },
                {
                    "SZALLAS_NEV": "Gold Hotel",
                    "panzió_e": "Nem",
                    "SZOBA_ID": "201",
                    "SZOBA_SZAMA": "37",
                    "FEROHELY": "3",
                    "POTAGY": "1",
                    "KLIMAS": "n",
                    "SZALLAS_FK": "12"
                },
                {
                    "SZALLAS_NEV": "Gold Hotel",
                    "panzió_e": "Nem",
                    "SZOBA_ID": "202",
                    "SZOBA_SZAMA": "38",
                    "FEROHELY": "3",
                    "POTAGY": "1",
                    "KLIMAS": "i",
                    "SZALLAS_FK": "12"
                },
                {
                    "SZALLAS_NEV": "Gold Hotel",
                    "panzió_e": "Nem",
                    "SZOBA_ID": "203",
                    "SZOBA_SZAMA": "39",
                    "FEROHELY": "3",
                    "POTAGY": "0",
                    "KLIMAS": "i",
                    "SZALLAS_FK": "12"
                },
                {
                    "SZALLAS_NEV": "Gold Hotel",
                    "panzió_e": "Nem",
                    "SZOBA_ID": "204",
                    "SZOBA_SZAMA": "40",
                    "FEROHELY": "3",
                    "POTAGY": "1",
                    "KLIMAS": "i",
                    "SZALLAS_FK": "12"
                },
                {
                    "SZALLAS_NEV": "Gold Hotel",
                    "panzió_e": "Nem",
                    "SZOBA_ID": "205",
                    "SZOBA_SZAMA": "41",
                    "FEROHELY": "3",
                    "POTAGY": "0",
                    "KLIMAS": "i",
                    "SZALLAS_FK": "12"
                },
                {
                    "SZALLAS_NEV": "Gold Hotel",
                    "panzió_e": "Nem",
                    "SZOBA_ID": "206",
                    "SZOBA_SZAMA": "42",
                    "FEROHELY": "2",
                    "POTAGY": "1",
                    "KLIMAS": "i",
                    "SZALLAS_FK": "12"
                },
                {
                    "SZALLAS_NEV": "Gold Hotel",
                    "panzió_e": "Nem",
                    "SZOBA_ID": "207",
                    "SZOBA_SZAMA": "43",
                    "FEROHELY": "2",
                    "POTAGY": "1",
                    "KLIMAS": "i",
                    "SZALLAS_FK": "12"
                },
                {
                    "SZALLAS_NEV": "Gold Hotel",
                    "panzió_e": "Nem",
                    "SZOBA_ID": "208",
                    "SZOBA_SZAMA": "44",
                    "FEROHELY": "2",
                    "POTAGY": "1",
                    "KLIMAS": "i",
                    "SZALLAS_FK": "12"
                },
                {
                    "SZALLAS_NEV": "Gold Hotel",
                    "panzió_e": "Nem",
                    "SZOBA_ID": "209",
                    "SZOBA_SZAMA": "45",
                    "FEROHELY": "3",
                    "POTAGY": "2",
                    "KLIMAS": "n",
                    "SZALLAS_FK": "12"
                },
                {
                    "SZALLAS_NEV": "Gold Hotel",
                    "panzió_e": "Nem",
                    "SZOBA_ID": "210",
                    "SZOBA_SZAMA": "46",
                    "FEROHELY": "2",
                    "POTAGY": "0",
                    "KLIMAS": "i",
                    "SZALLAS_FK": "12"
                },
                {
                    "SZALLAS_NEV": "Gold Hotel",
                    "panzió_e": "Nem",
                    "SZOBA_ID": "211",
                    "SZOBA_SZAMA": "47",
                    "FEROHELY": "2",
                    "POTAGY": "1",
                    "KLIMAS": "i",
                    "SZALLAS_FK": "12"
                },
                {
                    "SZALLAS_NEV": "Gold Hotel",
                    "panzió_e": "Nem",
                    "SZOBA_ID": "212",
                    "SZOBA_SZAMA": "48",
                    "FEROHELY": "3",
                    "POTAGY": "0",
                    "KLIMAS": "n",
                    "SZALLAS_FK": "12"
                },
                {
                    "SZALLAS_NEV": "Gold Hotel",
                    "panzió_e": "Nem",
                    "SZOBA_ID": "213",
                    "SZOBA_SZAMA": "49",
                    "FEROHELY": "3",
                    "POTAGY": "0",
                    "KLIMAS": "i",
                    "SZALLAS_FK": "12"
                },
                {
                    "SZALLAS_NEV": "Gold Hotel",
                    "panzió_e": "Nem",
                    "SZOBA_ID": "214",
                    "SZOBA_SZAMA": "50",
                    "FEROHELY": "3",
                    "POTAGY": "1",
                    "KLIMAS": "i",
                    "SZALLAS_FK": "12"
                },
                {
                    "SZALLAS_NEV": "Riviéra Panzió",
                    "panzió_e": "Igen",
                    "SZOBA_ID": "215",
                    "SZOBA_SZAMA": "1",
                    "FEROHELY": "2",
                    "POTAGY": "1",
                    "KLIMAS": "i",
                    "SZALLAS_FK": "13"
                },
                {
                    "SZALLAS_NEV": "Riviéra Panzió",
                    "panzió_e": "Igen",
                    "SZOBA_ID": "216",
                    "SZOBA_SZAMA": "2",
                    "FEROHELY": "3",
                    "POTAGY": "1",
                    "KLIMAS": "i",
                    "SZALLAS_FK": "13"
                },
                {
                    "SZALLAS_NEV": "Riviéra Panzió",
                    "panzió_e": "Igen",
                    "SZOBA_ID": "217",
                    "SZOBA_SZAMA": "3",
                    "FEROHELY": "2",
                    "POTAGY": "1",
                    "KLIMAS": "n",
                    "SZALLAS_FK": "13"
                },
                {
                    "SZALLAS_NEV": "Riviéra Panzió",
                    "panzió_e": "Igen",
                    "SZOBA_ID": "218",
                    "SZOBA_SZAMA": "4",
                    "FEROHELY": "3",
                    "POTAGY": "0",
                    "KLIMAS": "i",
                    "SZALLAS_FK": "13"
                },
                {
                    "SZALLAS_NEV": "Riviéra Panzió",
                    "panzió_e": "Igen",
                    "SZOBA_ID": "219",
                    "SZOBA_SZAMA": "5",
                    "FEROHELY": "2",
                    "POTAGY": "0",
                    "KLIMAS": "n",
                    "SZALLAS_FK": "13"
                },
                {
                    "SZALLAS_NEV": "Riviéra Panzió",
                    "panzió_e": "Igen",
                    "SZOBA_ID": "220",
                    "SZOBA_SZAMA": "6",
                    "FEROHELY": "3",
                    "POTAGY": "0",
                    "KLIMAS": "i",
                    "SZALLAS_FK": "13"
                },
                {
                    "SZALLAS_NEV": "Riviéra Panzió",
                    "panzió_e": "Igen",
                    "SZOBA_ID": "221",
                    "SZOBA_SZAMA": "7",
                    "FEROHELY": "3",
                    "POTAGY": "0",
                    "KLIMAS": "i",
                    "SZALLAS_FK": "13"
                },
                {
                    "SZALLAS_NEV": "Riviéra Panzió",
                    "panzió_e": "Igen",
                    "SZOBA_ID": "222",
                    "SZOBA_SZAMA": "8",
                    "FEROHELY": "2",
                    "POTAGY": "0",
                    "KLIMAS": "n",
                    "SZALLAS_FK": "13"
                },
                {
                    "SZALLAS_NEV": "Riviéra Panzió",
                    "panzió_e": "Igen",
                    "SZOBA_ID": "223",
                    "SZOBA_SZAMA": "9",
                    "FEROHELY": "2",
                    "POTAGY": "1",
                    "KLIMAS": "i",
                    "SZALLAS_FK": "13"
                },
                {
                    "SZALLAS_NEV": "Riviéra Panzió",
                    "panzió_e": "Igen",
                    "SZOBA_ID": "224",
                    "SZOBA_SZAMA": "10",
                    "FEROHELY": "2",
                    "POTAGY": "0",
                    "KLIMAS": "i",
                    "SZALLAS_FK": "13"
                },
                {
                    "SZALLAS_NEV": "Riviéra Panzió",
                    "panzió_e": "Igen",
                    "SZOBA_ID": "225",
                    "SZOBA_SZAMA": "11",
                    "FEROHELY": "2",
                    "POTAGY": "1",
                    "KLIMAS": "i",
                    "SZALLAS_FK": "13"
                },
                {
                    "SZALLAS_NEV": "Riviéra Panzió",
                    "panzió_e": "Igen",
                    "SZOBA_ID": "226",
                    "SZOBA_SZAMA": "12",
                    "FEROHELY": "3",
                    "POTAGY": "1",
                    "KLIMAS": "n",
                    "SZALLAS_FK": "13"
                },
                {
                    "SZALLAS_NEV": "Nyárfás Vendégház",
                    "panzió_e": "Nem",
                    "SZOBA_ID": "227",
                    "SZOBA_SZAMA": "1",
                    "FEROHELY": "2",
                    "POTAGY": "1",
                    "KLIMAS": "i",
                    "SZALLAS_FK": "14"
                },
                {
                    "SZALLAS_NEV": "Nyárfás Vendégház",
                    "panzió_e": "Nem",
                    "SZOBA_ID": "228",
                    "SZOBA_SZAMA": "2",
                    "FEROHELY": "3",
                    "POTAGY": "0",
                    "KLIMAS": "i",
                    "SZALLAS_FK": "14"
                },
                {
                    "SZALLAS_NEV": "Nyárfás Vendégház",
                    "panzió_e": "Nem",
                    "SZOBA_ID": "229",
                    "SZOBA_SZAMA": "3",
                    "FEROHELY": "2",
                    "POTAGY": "0",
                    "KLIMAS": "i",
                    "SZALLAS_FK": "14"
                },
                {
                    "SZALLAS_NEV": "Nyárfás Vendégház",
                    "panzió_e": "Nem",
                    "SZOBA_ID": "230",
                    "SZOBA_SZAMA": "4",
                    "FEROHELY": "3",
                    "POTAGY": "2",
                    "KLIMAS": "i",
                    "SZALLAS_FK": "14"
                },
                {
                    "SZALLAS_NEV": "Tímárház Panzió",
                    "panzió_e": "Igen",
                    "SZOBA_ID": "231",
                    "SZOBA_SZAMA": "1",
                    "FEROHELY": "2",
                    "POTAGY": "0",
                    "KLIMAS": "i",
                    "SZALLAS_FK": "15"
                },
                {
                    "SZALLAS_NEV": "Tímárház Panzió",
                    "panzió_e": "Igen",
                    "SZOBA_ID": "232",
                    "SZOBA_SZAMA": "2",
                    "FEROHELY": "2",
                    "POTAGY": "0",
                    "KLIMAS": "i",
                    "SZALLAS_FK": "15"
                },
                {
                    "SZALLAS_NEV": "Tímárház Panzió",
                    "panzió_e": "Igen",
                    "SZOBA_ID": "233",
                    "SZOBA_SZAMA": "3",
                    "FEROHELY": "3",
                    "POTAGY": "0",
                    "KLIMAS": "n",
                    "SZALLAS_FK": "15"
                },
                {
                    "SZALLAS_NEV": "Tímárház Panzió",
                    "panzió_e": "Igen",
                    "SZOBA_ID": "234",
                    "SZOBA_SZAMA": "4",
                    "FEROHELY": "3",
                    "POTAGY": "1",
                    "KLIMAS": "i",
                    "SZALLAS_FK": "15"
                },
                {
                    "SZALLAS_NEV": "Tímárház Panzió",
                    "panzió_e": "Igen",
                    "SZOBA_ID": "235",
                    "SZOBA_SZAMA": "5",
                    "FEROHELY": "3",
                    "POTAGY": "0",
                    "KLIMAS": "i",
                    "SZALLAS_FK": "15"
                },
                {
                    "SZALLAS_NEV": "Tímárház Panzió",
                    "panzió_e": "Igen",
                    "SZOBA_ID": "236",
                    "SZOBA_SZAMA": "6",
                    "FEROHELY": "3",
                    "POTAGY": "1",
                    "KLIMAS": "n",
                    "SZALLAS_FK": "15"
                },
                {
                    "SZALLAS_NEV": "Tímárház Panzió",
                    "panzió_e": "Igen",
                    "SZOBA_ID": "237",
                    "SZOBA_SZAMA": "7",
                    "FEROHELY": "2",
                    "POTAGY": "2",
                    "KLIMAS": "n",
                    "SZALLAS_FK": "15"
                },
                {
                    "SZALLAS_NEV": "Tímárház Panzió",
                    "panzió_e": "Igen",
                    "SZOBA_ID": "238",
                    "SZOBA_SZAMA": "8",
                    "FEROHELY": "3",
                    "POTAGY": "1",
                    "KLIMAS": "i",
                    "SZALLAS_FK": "15"
                },
                {
                    "SZALLAS_NEV": "Tímárház Panzió",
                    "panzió_e": "Igen",
                    "SZOBA_ID": "239",
                    "SZOBA_SZAMA": "9",
                    "FEROHELY": "2",
                    "POTAGY": "2",
                    "KLIMAS": "i",
                    "SZALLAS_FK": "15"
                },
                {
                    "SZALLAS_NEV": "Tímárház Panzió",
                    "panzió_e": "Igen",
                    "SZOBA_ID": "240",
                    "SZOBA_SZAMA": "10",
                    "FEROHELY": "3",
                    "POTAGY": "0",
                    "KLIMAS": "i",
                    "SZALLAS_FK": "15"
                },
                {
                    "SZALLAS_NEV": "Tímárház Panzió",
                    "panzió_e": "Igen",
                    "SZOBA_ID": "241",
                    "SZOBA_SZAMA": "11",
                    "FEROHELY": "2",
                    "POTAGY": "0",
                    "KLIMAS": "i",
                    "SZALLAS_FK": "15"
                },
                {
                    "SZALLAS_NEV": "Tímárház Panzió",
                    "panzió_e": "Igen",
                    "SZOBA_ID": "242",
                    "SZOBA_SZAMA": "12",
                    "FEROHELY": "2",
                    "POTAGY": "1",
                    "KLIMAS": "i",
                    "SZALLAS_FK": "15"
                },
                {
                    "SZALLAS_NEV": "Bagoly Hotel",
                    "panzió_e": "Nem",
                    "SZOBA_ID": "243",
                    "SZOBA_SZAMA": "1",
                    "FEROHELY": "2",
                    "POTAGY": "0",
                    "KLIMAS": "i",
                    "SZALLAS_FK": "16"
                },
                {
                    "SZALLAS_NEV": "Bagoly Hotel",
                    "panzió_e": "Nem",
                    "SZOBA_ID": "244",
                    "SZOBA_SZAMA": "2",
                    "FEROHELY": "2",
                    "POTAGY": "1",
                    "KLIMAS": "i",
                    "SZALLAS_FK": "16"
                },
                {
                    "SZALLAS_NEV": "Bagoly Hotel",
                    "panzió_e": "Nem",
                    "SZOBA_ID": "245",
                    "SZOBA_SZAMA": "3",
                    "FEROHELY": "2",
                    "POTAGY": "1",
                    "KLIMAS": "i",
                    "SZALLAS_FK": "16"
                },
                {
                    "SZALLAS_NEV": "Bagoly Hotel",
                    "panzió_e": "Nem",
                    "SZOBA_ID": "246",
                    "SZOBA_SZAMA": "4",
                    "FEROHELY": "2",
                    "POTAGY": "0",
                    "KLIMAS": "i",
                    "SZALLAS_FK": "16"
                },
                {
                    "SZALLAS_NEV": "Bagoly Hotel",
                    "panzió_e": "Nem",
                    "SZOBA_ID": "247",
                    "SZOBA_SZAMA": "5",
                    "FEROHELY": "2",
                    "POTAGY": "0",
                    "KLIMAS": "i",
                    "SZALLAS_FK": "16"
                },
                {
                    "SZALLAS_NEV": "Bagoly Hotel",
                    "panzió_e": "Nem",
                    "SZOBA_ID": "248",
                    "SZOBA_SZAMA": "6",
                    "FEROHELY": "2",
                    "POTAGY": "2",
                    "KLIMAS": "i",
                    "SZALLAS_FK": "16"
                },
                {
                    "SZALLAS_NEV": "Bagoly Hotel",
                    "panzió_e": "Nem",
                    "SZOBA_ID": "249",
                    "SZOBA_SZAMA": "7",
                    "FEROHELY": "2",
                    "POTAGY": "1",
                    "KLIMAS": "n",
                    "SZALLAS_FK": "16"
                },
                {
                    "SZALLAS_NEV": "Bagoly Hotel",
                    "panzió_e": "Nem",
                    "SZOBA_ID": "250",
                    "SZOBA_SZAMA": "8",
                    "FEROHELY": "3",
                    "POTAGY": "1",
                    "KLIMAS": "n",
                    "SZALLAS_FK": "16"
                },
                {
                    "SZALLAS_NEV": "Bagoly Hotel",
                    "panzió_e": "Nem",
                    "SZOBA_ID": "251",
                    "SZOBA_SZAMA": "9",
                    "FEROHELY": "3",
                    "POTAGY": "0",
                    "KLIMAS": "n",
                    "SZALLAS_FK": "16"
                },
                {
                    "SZALLAS_NEV": "Bagoly Hotel",
                    "panzió_e": "Nem",
                    "SZOBA_ID": "252",
                    "SZOBA_SZAMA": "10",
                    "FEROHELY": "3",
                    "POTAGY": "1",
                    "KLIMAS": "i",
                    "SZALLAS_FK": "16"
                },
                {
                    "SZALLAS_NEV": "Bagoly Hotel",
                    "panzió_e": "Nem",
                    "SZOBA_ID": "253",
                    "SZOBA_SZAMA": "11",
                    "FEROHELY": "2",
                    "POTAGY": "0",
                    "KLIMAS": "i",
                    "SZALLAS_FK": "16"
                },
                {
                    "SZALLAS_NEV": "Bagoly Hotel",
                    "panzió_e": "Nem",
                    "SZOBA_ID": "254",
                    "SZOBA_SZAMA": "12",
                    "FEROHELY": "2",
                    "POTAGY": "0",
                    "KLIMAS": "i",
                    "SZALLAS_FK": "16"
                },
                {
                    "SZALLAS_NEV": "Bagoly Hotel",
                    "panzió_e": "Nem",
                    "SZOBA_ID": "255",
                    "SZOBA_SZAMA": "13",
                    "FEROHELY": "3",
                    "POTAGY": "0",
                    "KLIMAS": "n",
                    "SZALLAS_FK": "16"
                },
                {
                    "SZALLAS_NEV": "Bagoly Hotel",
                    "panzió_e": "Nem",
                    "SZOBA_ID": "256",
                    "SZOBA_SZAMA": "14",
                    "FEROHELY": "3",
                    "POTAGY": "1",
                    "KLIMAS": "i",
                    "SZALLAS_FK": "16"
                },
                {
                    "SZALLAS_NEV": "Bagoly Hotel",
                    "panzió_e": "Nem",
                    "SZOBA_ID": "257",
                    "SZOBA_SZAMA": "15",
                    "FEROHELY": "2",
                    "POTAGY": "0",
                    "KLIMAS": "i",
                    "SZALLAS_FK": "16"
                },
                {
                    "SZALLAS_NEV": "Bagoly Hotel",
                    "panzió_e": "Nem",
                    "SZOBA_ID": "258",
                    "SZOBA_SZAMA": "16",
                    "FEROHELY": "2",
                    "POTAGY": "0",
                    "KLIMAS": "i",
                    "SZALLAS_FK": "16"
                },
                {
                    "SZALLAS_NEV": "Bagoly Hotel",
                    "panzió_e": "Nem",
                    "SZOBA_ID": "259",
                    "SZOBA_SZAMA": "17",
                    "FEROHELY": "2",
                    "POTAGY": "0",
                    "KLIMAS": "i",
                    "SZALLAS_FK": "16"
                },
                {
                    "SZALLAS_NEV": "Bagoly Hotel",
                    "panzió_e": "Nem",
                    "SZOBA_ID": "260",
                    "SZOBA_SZAMA": "18",
                    "FEROHELY": "2",
                    "POTAGY": "0",
                    "KLIMAS": "i",
                    "SZALLAS_FK": "16"
                },
                {
                    "SZALLAS_NEV": "Bagoly Hotel",
                    "panzió_e": "Nem",
                    "SZOBA_ID": "261",
                    "SZOBA_SZAMA": "19",
                    "FEROHELY": "1",
                    "POTAGY": "1",
                    "KLIMAS": "n",
                    "SZALLAS_FK": "16"
                },
                {
                    "SZALLAS_NEV": "Bagoly Hotel",
                    "panzió_e": "Nem",
                    "SZOBA_ID": "262",
                    "SZOBA_SZAMA": "20",
                    "FEROHELY": "1",
                    "POTAGY": "0",
                    "KLIMAS": "n",
                    "SZALLAS_FK": "16"
                },
                {
                    "SZALLAS_NEV": "Szarvas Hotel",
                    "panzió_e": "Nem",
                    "SZOBA_ID": "263",
                    "SZOBA_SZAMA": "1",
                    "FEROHELY": "2",
                    "POTAGY": "2",
                    "KLIMAS": "i",
                    "SZALLAS_FK": "17"
                },
                {
                    "SZALLAS_NEV": "Szarvas Hotel",
                    "panzió_e": "Nem",
                    "SZOBA_ID": "264",
                    "SZOBA_SZAMA": "2",
                    "FEROHELY": "3",
                    "POTAGY": "0",
                    "KLIMAS": "i",
                    "SZALLAS_FK": "17"
                },
                {
                    "SZALLAS_NEV": "Szarvas Hotel",
                    "panzió_e": "Nem",
                    "SZOBA_ID": "265",
                    "SZOBA_SZAMA": "3",
                    "FEROHELY": "3",
                    "POTAGY": "0",
                    "KLIMAS": "i",
                    "SZALLAS_FK": "17"
                },
                {
                    "SZALLAS_NEV": "Szarvas Hotel",
                    "panzió_e": "Nem",
                    "SZOBA_ID": "266",
                    "SZOBA_SZAMA": "4",
                    "FEROHELY": "2",
                    "POTAGY": "1",
                    "KLIMAS": "i",
                    "SZALLAS_FK": "17"
                },
                {
                    "SZALLAS_NEV": "Szarvas Hotel",
                    "panzió_e": "Nem",
                    "SZOBA_ID": "267",
                    "SZOBA_SZAMA": "5",
                    "FEROHELY": "2",
                    "POTAGY": "1",
                    "KLIMAS": "n",
                    "SZALLAS_FK": "17"
                },
                {
                    "SZALLAS_NEV": "Szarvas Hotel",
                    "panzió_e": "Nem",
                    "SZOBA_ID": "268",
                    "SZOBA_SZAMA": "6",
                    "FEROHELY": "2",
                    "POTAGY": "2",
                    "KLIMAS": "n",
                    "SZALLAS_FK": "17"
                },
                {
                    "SZALLAS_NEV": "Szarvas Hotel",
                    "panzió_e": "Nem",
                    "SZOBA_ID": "269",
                    "SZOBA_SZAMA": "7",
                    "FEROHELY": "2",
                    "POTAGY": "1",
                    "KLIMAS": "i",
                    "SZALLAS_FK": "17"
                },
                {
                    "SZALLAS_NEV": "Szarvas Hotel",
                    "panzió_e": "Nem",
                    "SZOBA_ID": "270",
                    "SZOBA_SZAMA": "8",
                    "FEROHELY": "3",
                    "POTAGY": "0",
                    "KLIMAS": "n",
                    "SZALLAS_FK": "17"
                },
                {
                    "SZALLAS_NEV": "Szarvas Hotel",
                    "panzió_e": "Nem",
                    "SZOBA_ID": "271",
                    "SZOBA_SZAMA": "9",
                    "FEROHELY": "3",
                    "POTAGY": "0",
                    "KLIMAS": "i",
                    "SZALLAS_FK": "17"
                },
                {
                    "SZALLAS_NEV": "Szarvas Hotel",
                    "panzió_e": "Nem",
                    "SZOBA_ID": "272",
                    "SZOBA_SZAMA": "10",
                    "FEROHELY": "3",
                    "POTAGY": "0",
                    "KLIMAS": "i",
                    "SZALLAS_FK": "17"
                },
                {
                    "SZALLAS_NEV": "Szarvas Hotel",
                    "panzió_e": "Nem",
                    "SZOBA_ID": "273",
                    "SZOBA_SZAMA": "11",
                    "FEROHELY": "2",
                    "POTAGY": "1",
                    "KLIMAS": "i",
                    "SZALLAS_FK": "17"
                },
                {
                    "SZALLAS_NEV": "Szarvas Hotel",
                    "panzió_e": "Nem",
                    "SZOBA_ID": "274",
                    "SZOBA_SZAMA": "12",
                    "FEROHELY": "3",
                    "POTAGY": "1",
                    "KLIMAS": "i",
                    "SZALLAS_FK": "17"
                },
                {
                    "SZALLAS_NEV": "Szarvas Hotel",
                    "panzió_e": "Nem",
                    "SZOBA_ID": "275",
                    "SZOBA_SZAMA": "13",
                    "FEROHELY": "2",
                    "POTAGY": "1",
                    "KLIMAS": "n",
                    "SZALLAS_FK": "17"
                },
                {
                    "SZALLAS_NEV": "Szarvas Hotel",
                    "panzió_e": "Nem",
                    "SZOBA_ID": "276",
                    "SZOBA_SZAMA": "14",
                    "FEROHELY": "2",
                    "POTAGY": "0",
                    "KLIMAS": "i",
                    "SZALLAS_FK": "17"
                },
                {
                    "SZALLAS_NEV": "Szarvas Hotel",
                    "panzió_e": "Nem",
                    "SZOBA_ID": "277",
                    "SZOBA_SZAMA": "15",
                    "FEROHELY": "2",
                    "POTAGY": "0",
                    "KLIMAS": "i",
                    "SZALLAS_FK": "17"
                },
                {
                    "SZALLAS_NEV": "Fortuna Apartman",
                    "panzió_e": "Nem",
                    "SZOBA_ID": "278",
                    "SZOBA_SZAMA": "1",
                    "FEROHELY": "3",
                    "POTAGY": "1",
                    "KLIMAS": "i",
                    "SZALLAS_FK": "18"
                },
                {
                    "SZALLAS_NEV": "Fortuna Apartman",
                    "panzió_e": "Nem",
                    "SZOBA_ID": "279",
                    "SZOBA_SZAMA": "2",
                    "FEROHELY": "2",
                    "POTAGY": "1",
                    "KLIMAS": "i",
                    "SZALLAS_FK": "18"
                },
                {
                    "SZALLAS_NEV": "Fortuna Apartman",
                    "panzió_e": "Nem",
                    "SZOBA_ID": "280",
                    "SZOBA_SZAMA": "3",
                    "FEROHELY": "3",
                    "POTAGY": "0",
                    "KLIMAS": "n",
                    "SZALLAS_FK": "18"
                },
                {
                    "SZALLAS_NEV": "Nyárfás Vendégház",
                    "panzió_e": "Nem",
                    "SZOBA_ID": "281",
                    "SZOBA_SZAMA": "1",
                    "FEROHELY": "2",
                    "POTAGY": "0",
                    "KLIMAS": "n",
                    "SZALLAS_FK": "19"
                },
                {
                    "SZALLAS_NEV": "Nyárfás Vendégház",
                    "panzió_e": "Nem",
                    "SZOBA_ID": "282",
                    "SZOBA_SZAMA": "2",
                    "FEROHELY": "2",
                    "POTAGY": "0",
                    "KLIMAS": "i",
                    "SZALLAS_FK": "19"
                },
                {
                    "SZALLAS_NEV": "Nyárfás Vendégház",
                    "panzió_e": "Nem",
                    "SZOBA_ID": "283",
                    "SZOBA_SZAMA": "3",
                    "FEROHELY": "2",
                    "POTAGY": "0",
                    "KLIMAS": "n",
                    "SZALLAS_FK": "19"
                },
                {
                    "SZALLAS_NEV": "Nyárfás Vendégház",
                    "panzió_e": "Nem",
                    "SZOBA_ID": "284",
                    "SZOBA_SZAMA": "4",
                    "FEROHELY": "2",
                    "POTAGY": "2",
                    "KLIMAS": "i",
                    "SZALLAS_FK": "19"
                },
                {
                    "SZALLAS_NEV": "Kollégium",
                    "panzió_e": "Nem",
                    "SZOBA_ID": "285",
                    "SZOBA_SZAMA": "1",
                    "FEROHELY": "2",
                    "POTAGY": "1",
                    "KLIMAS": "i",
                    "SZALLAS_FK": "20"
                },
                {
                    "SZALLAS_NEV": "Kollégium",
                    "panzió_e": "Nem",
                    "SZOBA_ID": "286",
                    "SZOBA_SZAMA": "2",
                    "FEROHELY": "3",
                    "POTAGY": "0",
                    "KLIMAS": "i",
                    "SZALLAS_FK": "20"
                },
                {
                    "SZALLAS_NEV": "Kollégium",
                    "panzió_e": "Nem",
                    "SZOBA_ID": "287",
                    "SZOBA_SZAMA": "3",
                    "FEROHELY": "3",
                    "POTAGY": "0",
                    "KLIMAS": "n",
                    "SZALLAS_FK": "20"
                },
                {
                    "SZALLAS_NEV": "Kollégium",
                    "panzió_e": "Nem",
                    "SZOBA_ID": "288",
                    "SZOBA_SZAMA": "4",
                    "FEROHELY": "2",
                    "POTAGY": "1",
                    "KLIMAS": "i",
                    "SZALLAS_FK": "20"
                },
                {
                    "SZALLAS_NEV": "Kollégium",
                    "panzió_e": "Nem",
                    "SZOBA_ID": "289",
                    "SZOBA_SZAMA": "5",
                    "FEROHELY": "3",
                    "POTAGY": "0",
                    "KLIMAS": "i",
                    "SZALLAS_FK": "20"
                },
                {
                    "SZALLAS_NEV": "Kollégium",
                    "panzió_e": "Nem",
                    "SZOBA_ID": "290",
                    "SZOBA_SZAMA": "6",
                    "FEROHELY": "2",
                    "POTAGY": "1",
                    "KLIMAS": "i",
                    "SZALLAS_FK": "20"
                },
                {
                    "SZALLAS_NEV": "Kollégium",
                    "panzió_e": "Nem",
                    "SZOBA_ID": "291",
                    "SZOBA_SZAMA": "7",
                    "FEROHELY": "2",
                    "POTAGY": "1",
                    "KLIMAS": "i",
                    "SZALLAS_FK": "20"
                },
                {
                    "SZALLAS_NEV": "Kollégium",
                    "panzió_e": "Nem",
                    "SZOBA_ID": "292",
                    "SZOBA_SZAMA": "8",
                    "FEROHELY": "2",
                    "POTAGY": "1",
                    "KLIMAS": "i",
                    "SZALLAS_FK": "20"
                },
                {
                    "SZALLAS_NEV": "Kollégium",
                    "panzió_e": "Nem",
                    "SZOBA_ID": "293",
                    "SZOBA_SZAMA": "9",
                    "FEROHELY": "2",
                    "POTAGY": "1",
                    "KLIMAS": "i",
                    "SZALLAS_FK": "20"
                },
                {
                    "SZALLAS_NEV": "Kollégium",
                    "panzió_e": "Nem",
                    "SZOBA_ID": "294",
                    "SZOBA_SZAMA": "10",
                    "FEROHELY": "3",
                    "POTAGY": "0",
                    "KLIMAS": "i",
                    "SZALLAS_FK": "20"
                }
            ]
        },
        "text/html": [
            "<table>",
            "<tr><th>SZALLAS_NEV</th><th>panzió_e</th><th>SZOBA_ID</th><th>SZOBA_SZAMA</th><th>FEROHELY</th><th>POTAGY</th><th>KLIMAS</th><th>SZALLAS_FK</th></tr>",
            "<tr><td>Lagúna Hotel</td><td>Nem</td><td>159</td><td>25</td><td>3</td><td>1</td><td>n</td><td>10</td></tr>",
            "<tr><td>Gold Hotel</td><td>Nem</td><td>199</td><td>35</td><td>3</td><td>2</td><td>i</td><td>12</td></tr>",
            "<tr><td>Gold Hotel</td><td>Nem</td><td>200</td><td>36</td><td>2</td><td>0</td><td>i</td><td>12</td></tr>",
            "<tr><td>Gold Hotel</td><td>Nem</td><td>201</td><td>37</td><td>3</td><td>1</td><td>n</td><td>12</td></tr>",
            "<tr><td>Gold Hotel</td><td>Nem</td><td>202</td><td>38</td><td>3</td><td>1</td><td>i</td><td>12</td></tr>",
            "<tr><td>Gold Hotel</td><td>Nem</td><td>203</td><td>39</td><td>3</td><td>0</td><td>i</td><td>12</td></tr>",
            "<tr><td>Gold Hotel</td><td>Nem</td><td>204</td><td>40</td><td>3</td><td>1</td><td>i</td><td>12</td></tr>",
            "<tr><td>Gold Hotel</td><td>Nem</td><td>205</td><td>41</td><td>3</td><td>0</td><td>i</td><td>12</td></tr>",
            "<tr><td>Gold Hotel</td><td>Nem</td><td>206</td><td>42</td><td>2</td><td>1</td><td>i</td><td>12</td></tr>",
            "<tr><td>Gold Hotel</td><td>Nem</td><td>207</td><td>43</td><td>2</td><td>1</td><td>i</td><td>12</td></tr>",
            "<tr><td>Gold Hotel</td><td>Nem</td><td>208</td><td>44</td><td>2</td><td>1</td><td>i</td><td>12</td></tr>",
            "<tr><td>Gold Hotel</td><td>Nem</td><td>209</td><td>45</td><td>3</td><td>2</td><td>n</td><td>12</td></tr>",
            "<tr><td>Gold Hotel</td><td>Nem</td><td>210</td><td>46</td><td>2</td><td>0</td><td>i</td><td>12</td></tr>",
            "<tr><td>Gold Hotel</td><td>Nem</td><td>211</td><td>47</td><td>2</td><td>1</td><td>i</td><td>12</td></tr>",
            "<tr><td>Gold Hotel</td><td>Nem</td><td>212</td><td>48</td><td>3</td><td>0</td><td>n</td><td>12</td></tr>",
            "<tr><td>Gold Hotel</td><td>Nem</td><td>213</td><td>49</td><td>3</td><td>0</td><td>i</td><td>12</td></tr>",
            "<tr><td>Gold Hotel</td><td>Nem</td><td>214</td><td>50</td><td>3</td><td>1</td><td>i</td><td>12</td></tr>",
            "<tr><td>Riviéra Panzió</td><td>Igen</td><td>215</td><td>1</td><td>2</td><td>1</td><td>i</td><td>13</td></tr>",
            "<tr><td>Riviéra Panzió</td><td>Igen</td><td>216</td><td>2</td><td>3</td><td>1</td><td>i</td><td>13</td></tr>",
            "<tr><td>Riviéra Panzió</td><td>Igen</td><td>217</td><td>3</td><td>2</td><td>1</td><td>n</td><td>13</td></tr>",
            "<tr><td>Riviéra Panzió</td><td>Igen</td><td>218</td><td>4</td><td>3</td><td>0</td><td>i</td><td>13</td></tr>",
            "<tr><td>Riviéra Panzió</td><td>Igen</td><td>219</td><td>5</td><td>2</td><td>0</td><td>n</td><td>13</td></tr>",
            "<tr><td>Riviéra Panzió</td><td>Igen</td><td>220</td><td>6</td><td>3</td><td>0</td><td>i</td><td>13</td></tr>",
            "<tr><td>Riviéra Panzió</td><td>Igen</td><td>221</td><td>7</td><td>3</td><td>0</td><td>i</td><td>13</td></tr>",
            "<tr><td>Riviéra Panzió</td><td>Igen</td><td>222</td><td>8</td><td>2</td><td>0</td><td>n</td><td>13</td></tr>",
            "<tr><td>Riviéra Panzió</td><td>Igen</td><td>223</td><td>9</td><td>2</td><td>1</td><td>i</td><td>13</td></tr>",
            "<tr><td>Riviéra Panzió</td><td>Igen</td><td>224</td><td>10</td><td>2</td><td>0</td><td>i</td><td>13</td></tr>",
            "<tr><td>Riviéra Panzió</td><td>Igen</td><td>225</td><td>11</td><td>2</td><td>1</td><td>i</td><td>13</td></tr>",
            "<tr><td>Riviéra Panzió</td><td>Igen</td><td>226</td><td>12</td><td>3</td><td>1</td><td>n</td><td>13</td></tr>",
            "<tr><td>Nyárfás Vendégház</td><td>Nem</td><td>227</td><td>1</td><td>2</td><td>1</td><td>i</td><td>14</td></tr>",
            "<tr><td>Nyárfás Vendégház</td><td>Nem</td><td>228</td><td>2</td><td>3</td><td>0</td><td>i</td><td>14</td></tr>",
            "<tr><td>Nyárfás Vendégház</td><td>Nem</td><td>229</td><td>3</td><td>2</td><td>0</td><td>i</td><td>14</td></tr>",
            "<tr><td>Nyárfás Vendégház</td><td>Nem</td><td>230</td><td>4</td><td>3</td><td>2</td><td>i</td><td>14</td></tr>",
            "<tr><td>Tímárház Panzió</td><td>Igen</td><td>231</td><td>1</td><td>2</td><td>0</td><td>i</td><td>15</td></tr>",
            "<tr><td>Tímárház Panzió</td><td>Igen</td><td>232</td><td>2</td><td>2</td><td>0</td><td>i</td><td>15</td></tr>",
            "<tr><td>Tímárház Panzió</td><td>Igen</td><td>233</td><td>3</td><td>3</td><td>0</td><td>n</td><td>15</td></tr>",
            "<tr><td>Tímárház Panzió</td><td>Igen</td><td>234</td><td>4</td><td>3</td><td>1</td><td>i</td><td>15</td></tr>",
            "<tr><td>Tímárház Panzió</td><td>Igen</td><td>235</td><td>5</td><td>3</td><td>0</td><td>i</td><td>15</td></tr>",
            "<tr><td>Tímárház Panzió</td><td>Igen</td><td>236</td><td>6</td><td>3</td><td>1</td><td>n</td><td>15</td></tr>",
            "<tr><td>Tímárház Panzió</td><td>Igen</td><td>237</td><td>7</td><td>2</td><td>2</td><td>n</td><td>15</td></tr>",
            "<tr><td>Tímárház Panzió</td><td>Igen</td><td>238</td><td>8</td><td>3</td><td>1</td><td>i</td><td>15</td></tr>",
            "<tr><td>Tímárház Panzió</td><td>Igen</td><td>239</td><td>9</td><td>2</td><td>2</td><td>i</td><td>15</td></tr>",
            "<tr><td>Tímárház Panzió</td><td>Igen</td><td>240</td><td>10</td><td>3</td><td>0</td><td>i</td><td>15</td></tr>",
            "<tr><td>Tímárház Panzió</td><td>Igen</td><td>241</td><td>11</td><td>2</td><td>0</td><td>i</td><td>15</td></tr>",
            "<tr><td>Tímárház Panzió</td><td>Igen</td><td>242</td><td>12</td><td>2</td><td>1</td><td>i</td><td>15</td></tr>",
            "<tr><td>Bagoly Hotel</td><td>Nem</td><td>243</td><td>1</td><td>2</td><td>0</td><td>i</td><td>16</td></tr>",
            "<tr><td>Bagoly Hotel</td><td>Nem</td><td>244</td><td>2</td><td>2</td><td>1</td><td>i</td><td>16</td></tr>",
            "<tr><td>Bagoly Hotel</td><td>Nem</td><td>245</td><td>3</td><td>2</td><td>1</td><td>i</td><td>16</td></tr>",
            "<tr><td>Bagoly Hotel</td><td>Nem</td><td>246</td><td>4</td><td>2</td><td>0</td><td>i</td><td>16</td></tr>",
            "<tr><td>Bagoly Hotel</td><td>Nem</td><td>247</td><td>5</td><td>2</td><td>0</td><td>i</td><td>16</td></tr>",
            "<tr><td>Bagoly Hotel</td><td>Nem</td><td>248</td><td>6</td><td>2</td><td>2</td><td>i</td><td>16</td></tr>",
            "<tr><td>Bagoly Hotel</td><td>Nem</td><td>249</td><td>7</td><td>2</td><td>1</td><td>n</td><td>16</td></tr>",
            "<tr><td>Bagoly Hotel</td><td>Nem</td><td>250</td><td>8</td><td>3</td><td>1</td><td>n</td><td>16</td></tr>",
            "<tr><td>Bagoly Hotel</td><td>Nem</td><td>251</td><td>9</td><td>3</td><td>0</td><td>n</td><td>16</td></tr>",
            "<tr><td>Bagoly Hotel</td><td>Nem</td><td>252</td><td>10</td><td>3</td><td>1</td><td>i</td><td>16</td></tr>",
            "<tr><td>Bagoly Hotel</td><td>Nem</td><td>253</td><td>11</td><td>2</td><td>0</td><td>i</td><td>16</td></tr>",
            "<tr><td>Bagoly Hotel</td><td>Nem</td><td>254</td><td>12</td><td>2</td><td>0</td><td>i</td><td>16</td></tr>",
            "<tr><td>Bagoly Hotel</td><td>Nem</td><td>255</td><td>13</td><td>3</td><td>0</td><td>n</td><td>16</td></tr>",
            "<tr><td>Bagoly Hotel</td><td>Nem</td><td>256</td><td>14</td><td>3</td><td>1</td><td>i</td><td>16</td></tr>",
            "<tr><td>Bagoly Hotel</td><td>Nem</td><td>257</td><td>15</td><td>2</td><td>0</td><td>i</td><td>16</td></tr>",
            "<tr><td>Bagoly Hotel</td><td>Nem</td><td>258</td><td>16</td><td>2</td><td>0</td><td>i</td><td>16</td></tr>",
            "<tr><td>Bagoly Hotel</td><td>Nem</td><td>259</td><td>17</td><td>2</td><td>0</td><td>i</td><td>16</td></tr>",
            "<tr><td>Bagoly Hotel</td><td>Nem</td><td>260</td><td>18</td><td>2</td><td>0</td><td>i</td><td>16</td></tr>",
            "<tr><td>Bagoly Hotel</td><td>Nem</td><td>261</td><td>19</td><td>1</td><td>1</td><td>n</td><td>16</td></tr>",
            "<tr><td>Bagoly Hotel</td><td>Nem</td><td>262</td><td>20</td><td>1</td><td>0</td><td>n</td><td>16</td></tr>",
            "<tr><td>Szarvas Hotel</td><td>Nem</td><td>263</td><td>1</td><td>2</td><td>2</td><td>i</td><td>17</td></tr>",
            "<tr><td>Szarvas Hotel</td><td>Nem</td><td>264</td><td>2</td><td>3</td><td>0</td><td>i</td><td>17</td></tr>",
            "<tr><td>Szarvas Hotel</td><td>Nem</td><td>265</td><td>3</td><td>3</td><td>0</td><td>i</td><td>17</td></tr>",
            "<tr><td>Szarvas Hotel</td><td>Nem</td><td>266</td><td>4</td><td>2</td><td>1</td><td>i</td><td>17</td></tr>",
            "<tr><td>Szarvas Hotel</td><td>Nem</td><td>267</td><td>5</td><td>2</td><td>1</td><td>n</td><td>17</td></tr>",
            "<tr><td>Szarvas Hotel</td><td>Nem</td><td>268</td><td>6</td><td>2</td><td>2</td><td>n</td><td>17</td></tr>",
            "<tr><td>Szarvas Hotel</td><td>Nem</td><td>269</td><td>7</td><td>2</td><td>1</td><td>i</td><td>17</td></tr>",
            "<tr><td>Szarvas Hotel</td><td>Nem</td><td>270</td><td>8</td><td>3</td><td>0</td><td>n</td><td>17</td></tr>",
            "<tr><td>Szarvas Hotel</td><td>Nem</td><td>271</td><td>9</td><td>3</td><td>0</td><td>i</td><td>17</td></tr>",
            "<tr><td>Szarvas Hotel</td><td>Nem</td><td>272</td><td>10</td><td>3</td><td>0</td><td>i</td><td>17</td></tr>",
            "<tr><td>Szarvas Hotel</td><td>Nem</td><td>273</td><td>11</td><td>2</td><td>1</td><td>i</td><td>17</td></tr>",
            "<tr><td>Szarvas Hotel</td><td>Nem</td><td>274</td><td>12</td><td>3</td><td>1</td><td>i</td><td>17</td></tr>",
            "<tr><td>Szarvas Hotel</td><td>Nem</td><td>275</td><td>13</td><td>2</td><td>1</td><td>n</td><td>17</td></tr>",
            "<tr><td>Szarvas Hotel</td><td>Nem</td><td>276</td><td>14</td><td>2</td><td>0</td><td>i</td><td>17</td></tr>",
            "<tr><td>Szarvas Hotel</td><td>Nem</td><td>277</td><td>15</td><td>2</td><td>0</td><td>i</td><td>17</td></tr>",
            "<tr><td>Fortuna Apartman</td><td>Nem</td><td>278</td><td>1</td><td>3</td><td>1</td><td>i</td><td>18</td></tr>",
            "<tr><td>Fortuna Apartman</td><td>Nem</td><td>279</td><td>2</td><td>2</td><td>1</td><td>i</td><td>18</td></tr>",
            "<tr><td>Fortuna Apartman</td><td>Nem</td><td>280</td><td>3</td><td>3</td><td>0</td><td>n</td><td>18</td></tr>",
            "<tr><td>Nyárfás Vendégház</td><td>Nem</td><td>281</td><td>1</td><td>2</td><td>0</td><td>n</td><td>19</td></tr>",
            "<tr><td>Nyárfás Vendégház</td><td>Nem</td><td>282</td><td>2</td><td>2</td><td>0</td><td>i</td><td>19</td></tr>",
            "<tr><td>Nyárfás Vendégház</td><td>Nem</td><td>283</td><td>3</td><td>2</td><td>0</td><td>n</td><td>19</td></tr>",
            "<tr><td>Nyárfás Vendégház</td><td>Nem</td><td>284</td><td>4</td><td>2</td><td>2</td><td>i</td><td>19</td></tr>",
            "<tr><td>Kollégium</td><td>Nem</td><td>285</td><td>1</td><td>2</td><td>1</td><td>i</td><td>20</td></tr>",
            "<tr><td>Kollégium</td><td>Nem</td><td>286</td><td>2</td><td>3</td><td>0</td><td>i</td><td>20</td></tr>",
            "<tr><td>Kollégium</td><td>Nem</td><td>287</td><td>3</td><td>3</td><td>0</td><td>n</td><td>20</td></tr>",
            "<tr><td>Kollégium</td><td>Nem</td><td>288</td><td>4</td><td>2</td><td>1</td><td>i</td><td>20</td></tr>",
            "<tr><td>Kollégium</td><td>Nem</td><td>289</td><td>5</td><td>3</td><td>0</td><td>i</td><td>20</td></tr>",
            "<tr><td>Kollégium</td><td>Nem</td><td>290</td><td>6</td><td>2</td><td>1</td><td>i</td><td>20</td></tr>",
            "<tr><td>Kollégium</td><td>Nem</td><td>291</td><td>7</td><td>2</td><td>1</td><td>i</td><td>20</td></tr>",
            "<tr><td>Kollégium</td><td>Nem</td><td>292</td><td>8</td><td>2</td><td>1</td><td>i</td><td>20</td></tr>",
            "<tr><td>Kollégium</td><td>Nem</td><td>293</td><td>9</td><td>2</td><td>1</td><td>i</td><td>20</td></tr>",
            "<tr><td>Kollégium</td><td>Nem</td><td>294</td><td>10</td><td>3</td><td>0</td><td>i</td><td>20</td></tr>",
            "</table>"
        ]
    }
}
],
            "execution_count": 28
        }
    ]
}