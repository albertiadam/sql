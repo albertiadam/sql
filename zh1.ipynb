{
    "metadata": {
        "kernelspec": {
            "name": "SQL",
            "display_name": "SQL",
            "language": "sql"
        },
        "language_info": {
            "name": "sql",
            "version": ""
        }
    },
    "nbformat_minor": 2,
    "nbformat": 4,
    "cells": [
        {
            "cell_type": "code",
            "source": [
                ""
            ],
            "metadata": {
                "azdata_cell_guid": "51f8007b-436c-416f-a85c-5040bf22aafc",
                "language": "sql"
            },
            "outputs": [],
            "execution_count": null
        }
    ]
}