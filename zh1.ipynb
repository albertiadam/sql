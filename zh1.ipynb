{
    "metadata": {
        "kernelspec": {
            "name": "SQL",
            "display_name": "SQL",
            "language": "sql"
        },
        "language_info": {
            "name": "sql",
            "version": ""
        }
    },
    "nbformat_minor": 2,
    "nbformat": 4,
    "cells": [
        {
            "cell_type": "markdown",
            "source": [
                "1\\. feladat"
            ],
            "metadata": {
                "azdata_cell_guid": "110de045-87c8-4ec0-a4f4-da32959df18d"
            },
            "attachments": {}
        },
        {
            "cell_type": "code",
            "source": [
                "SELECT ROGZITETTE, SZALLAS_NEV, CIM,*\r\n",
                "FROM Szallashely\r\n",
                "WHERE Hely Like 'Balaton%' and Month(ROGZ_IDO)=3\r\n",
                "ORDER BY CSILLAGOK_SZAMA DESC"
            ],
            "metadata": {
                "azdata_cell_guid": "51f8007b-436c-416f-a85c-5040bf22aafc",
                "language": "sql"
            },
            "outputs": [
{
    "output_type": "display_data",
    "data": {
        "text/html": "(7 rows affected)"
    },
    "metadata": {}
}, {
    "output_type": "display_data",
    "data": {
        "text/html": "Total execution time: 00:00:00.008"
    },
    "metadata": {}
}, {
    "output_type": "execute_result",
    "metadata": {},
    "execution_count": 9,
    "data": {
        "application/vnd.dataresource+json": {
            "schema": {
                "fields": [
                    {
                        "name": "ROGZITETTE"
                    },
                    {
                        "name": "SZALLAS_NEV"
                    },
                    {
                        "name": "CIM"
                    },
                    {
                        "name": "SZALLAS_ID"
                    },
                    {
                        "name": "SZALLAS_NEV"
                    },
                    {
                        "name": "HELY"
                    },
                    {
                        "name": "CSILLAGOK_SZAMA"
                    },
                    {
                        "name": "TIPUS"
                    },
                    {
                        "name": "ROGZITETTE"
                    },
                    {
                        "name": "ROGZ_IDO"
                    },
                    {
                        "name": "CIM"
                    }
                ]
            },
            "data": [
                {
                    "ROGZITETTE": "Béla",
                    "SZALLAS_NEV": "Hotel Három Hattyú",
                    "CIM": "8623 Balatonföldvár, Rákóczi Ferenc út 45.",
                    "SZALLAS_ID": "8",
                    "HELY": "Balaton-dél",
                    "CSILLAGOK_SZAMA": "4",
                    "TIPUS": "Hotel",
                    "ROGZ_IDO": "2016-03-13"
                },
                {
                    "ROGZITETTE": "Mari",
                    "SZALLAS_NEV": "Jáde panzió",
                    "CIM": "8624 Balatonföldvár, Kiss u.2.",
                    "SZALLAS_ID": "9",
                    "HELY": "Balaton-dél",
                    "CSILLAGOK_SZAMA": "3",
                    "TIPUS": "panzió",
                    "ROGZ_IDO": "2016-03-16"
                },
                {
                    "ROGZITETTE": "Béla",
                    "SZALLAS_NEV": "Kentaur Hotel",
                    "CIM": "8600 Siófok (Széplak), Akácfa utca 1",
                    "SZALLAS_ID": "6",
                    "HELY": "Balaton-dél",
                    "CSILLAGOK_SZAMA": "3",
                    "TIPUS": "Hotel",
                    "ROGZ_IDO": "2016-03-08"
                },
                {
                    "ROGZITETTE": "Béla",
                    "SZALLAS_NEV": "Tímárház Panzió",
                    "CIM": "8600 Siófok, Virág utca 1",
                    "SZALLAS_ID": "15",
                    "HELY": "Balaton-dél",
                    "CSILLAGOK_SZAMA": "3",
                    "TIPUS": "panzió",
                    "ROGZ_IDO": "2016-03-29"
                },
                {
                    "ROGZITETTE": "Béla",
                    "SZALLAS_NEV": "Családi Ház",
                    "CIM": "8630 Balatonboglár, József Attila utca 25",
                    "SZALLAS_ID": "2",
                    "HELY": "Balaton-dél",
                    "CSILLAGOK_SZAMA": "0",
                    "TIPUS": "vendégház",
                    "ROGZ_IDO": "2016-03-02"
                },
                {
                    "ROGZITETTE": "Mari",
                    "SZALLAS_NEV": "Szieszta Apartmanház",
                    "CIM": "8630 Balatonboglár, Dózsa György utca 108",
                    "SZALLAS_ID": "7",
                    "HELY": "Balaton-dél",
                    "CSILLAGOK_SZAMA": "0",
                    "TIPUS": "Apartman",
                    "ROGZ_IDO": "2016-03-11"
                },
                {
                    "ROGZITETTE": "Béla",
                    "SZALLAS_NEV": "Partiszél Vendégház",
                    "CIM": "8220 Balatonalmádi Neptun u. 23.",
                    "SZALLAS_ID": "11",
                    "HELY": "Balaton-észak",
                    "CSILLAGOK_SZAMA": "0",
                    "TIPUS": "vendégház",
                    "ROGZ_IDO": "2016-03-22"
                }
            ]
        },
        "text/html": [
            "<table>",
            "<tr><th>ROGZITETTE</th><th>SZALLAS_NEV</th><th>CIM</th><th>SZALLAS_ID</th><th>SZALLAS_NEV</th><th>HELY</th><th>CSILLAGOK_SZAMA</th><th>TIPUS</th><th>ROGZITETTE</th><th>ROGZ_IDO</th><th>CIM</th></tr>",
            "<tr><td>Béla</td><td>Hotel Három Hattyú</td><td>8623 Balatonföldvár, Rákóczi Ferenc út 45.</td><td>8</td><td>Hotel Három Hattyú</td><td>Balaton-dél</td><td>4</td><td>Hotel</td><td>Béla</td><td>2016-03-13</td><td>8623 Balatonföldvár, Rákóczi Ferenc út 45.</td></tr>",
            "<tr><td>Mari</td><td>Jáde panzió</td><td>8624 Balatonföldvár, Kiss u.2.</td><td>9</td><td>Jáde panzió</td><td>Balaton-dél</td><td>3</td><td>panzió</td><td>Mari</td><td>2016-03-16</td><td>8624 Balatonföldvár, Kiss u.2.</td></tr>",
            "<tr><td>Béla</td><td>Kentaur Hotel</td><td>8600 Siófok (Széplak), Akácfa utca 1</td><td>6</td><td>Kentaur Hotel</td><td>Balaton-dél</td><td>3</td><td>Hotel</td><td>Béla</td><td>2016-03-08</td><td>8600 Siófok (Széplak), Akácfa utca 1</td></tr>",
            "<tr><td>Béla</td><td>Tímárház Panzió</td><td>8600 Siófok, Virág utca 1</td><td>15</td><td>Tímárház Panzió</td><td>Balaton-dél</td><td>3</td><td>panzió</td><td>Béla</td><td>2016-03-29</td><td>8600 Siófok, Virág utca 1</td></tr>",
            "<tr><td>Béla</td><td>Családi Ház</td><td>8630 Balatonboglár, József Attila utca 25</td><td>2</td><td>Családi Ház</td><td>Balaton-dél</td><td>0</td><td>vendégház</td><td>Béla</td><td>2016-03-02</td><td>8630 Balatonboglár, József Attila utca 25</td></tr>",
            "<tr><td>Mari</td><td>Szieszta Apartmanház</td><td>8630 Balatonboglár, Dózsa György utca 108</td><td>7</td><td>Szieszta Apartmanház</td><td>Balaton-dél</td><td>0</td><td>Apartman</td><td>Mari</td><td>2016-03-11</td><td>8630 Balatonboglár, Dózsa György utca 108</td></tr>",
            "<tr><td>Béla</td><td>Partiszél Vendégház</td><td>8220 Balatonalmádi Neptun u. 23.</td><td>11</td><td>Partiszél Vendégház</td><td>Balaton-észak</td><td>0</td><td>vendégház</td><td>Béla</td><td>2016-03-22</td><td>8220 Balatonalmádi Neptun u. 23.</td></tr>",
            "</table>"
        ]
    }
}
],
            "execution_count": 9
        }
    ]
}