{
    "metadata": {
        "kernelspec": {
            "name": "SQL",
            "display_name": "SQL",
            "language": "sql"
        },
        "language_info": {
            "name": "sql",
            "version": ""
        }
    },
    "nbformat_minor": 2,
    "nbformat": 4,
    "cells": [
        {
            "cell_type": "markdown",
            "source": [
                "**Aggregált számítások stílusok szerint (átlag,max,min,sum )**"
            ],
            "metadata": {
                "azdata_cell_guid": "d121e130-46c9-4182-9690-09694bb66f09"
            },
            "attachments": {}
        },
        {
            "cell_type": "code",
            "source": [
                "SELECT          stilus, \r\n",
                "                SUM(nettoar) as 'Összesen',\r\n",
                "                ROUND(AVG(nettoar),1) as 'Átlagár', \r\n",
                "                MAX(nettoar)  as 'Max ár', \r\n",
                "                MIN(nettoar) as 'Minimális ár'\r\n",
                "FROM dvd\r\n",
                "where stilus is not null\r\n",
                "GROUP BY stilus\r\n",
                "ORDER BY SUM(nettoar) DESC, ROUND(AVG(nettoar),1) DESC"
            ],
            "metadata": {
                "azdata_cell_guid": "4a8b98c6-fac0-4d32-95f0-3a1c9ae6e5b1",
                "language": "sql"
            },
            "outputs": [
                {
                    "output_type": "display_data",
                    "data": {
                        "text/html": "(47 rows affected)"
                    },
                    "metadata": {}
                },
                {
                    "output_type": "display_data",
                    "data": {
                        "text/html": "Total execution time: 00:00:00.078"
                    },
                    "metadata": {}
                },
                {
                    "output_type": "execute_result",
                    "execution_count": 21,
                    "data": {
                        "application/vnd.dataresource+json": {
                            "schema": {
                                "fields": [
                                    {
                                        "name": "stilus"
                                    },
                                    {
                                        "name": "Összesen"
                                    },
                                    {
                                        "name": "Átlagár"
                                    },
                                    {
                                        "name": "Max ár"
                                    },
                                    {
                                        "name": "Minimális ár"
                                    }
                                ]
                            },
                            "data": [
                                {
                                    "stilus": "játék",
                                    "Összesen": "291028",
                                    "Átlagár": "4850,5",
                                    "Max ár": "6078",
                                    "Minimális ár": "3110"
                                },
                                {
                                    "stilus": "ismeretterjesztő",
                                    "Összesen": "217427",
                                    "Átlagár": "4726,7",
                                    "Max ár": "6072",
                                    "Minimális ár": "3256"
                                },
                                {
                                    "stilus": "nyelvtanító",
                                    "Összesen": "199898",
                                    "Átlagár": "4759,5",
                                    "Max ár": "6082",
                                    "Minimális ár": "3115"
                                },
                                {
                                    "stilus": "történelem",
                                    "Összesen": "190885",
                                    "Átlagár": "4655,7",
                                    "Max ár": "6084",
                                    "Minimális ár": "3122"
                                },
                                {
                                    "stilus": "földrajz",
                                    "Összesen": "73281",
                                    "Átlagár": "4580,1",
                                    "Max ár": "6065",
                                    "Minimális ár": "3123"
                                },
                                {
                                    "stilus": "irodalom",
                                    "Összesen": "71427",
                                    "Átlagár": "4464,2",
                                    "Max ár": "5654",
                                    "Minimális ár": "3391"
                                },
                                {
                                    "stilus": "matematika",
                                    "Összesen": "40687",
                                    "Átlagár": "4520,8",
                                    "Max ár": "5995",
                                    "Minimális ár": "3105"
                                },
                                {
                                    "stilus": "csillagászat",
                                    "Összesen": "33135",
                                    "Átlagár": "4733,6",
                                    "Max ár": "5992",
                                    "Minimális ár": "3582"
                                },
                                {
                                    "stilus": "szótár",
                                    "Összesen": "32371",
                                    "Átlagár": "4624,4",
                                    "Max ár": "5734",
                                    "Minimális ár": "3509"
                                },
                                {
                                    "stilus": "zene",
                                    "Összesen": "29132",
                                    "Átlagár": "4855,3",
                                    "Max ár": "5730",
                                    "Minimális ár": "3391"
                                },
                                {
                                    "stilus": "felvételi",
                                    "Összesen": "27008",
                                    "Átlagár": "4501,3",
                                    "Max ár": "5955",
                                    "Minimális ár": "3102"
                                },
                                {
                                    "stilus": "biológia",
                                    "Összesen": "21499",
                                    "Átlagár": "4299,8",
                                    "Max ár": "5543",
                                    "Minimális ár": "3482"
                                },
                                {
                                    "stilus": "művészet",
                                    "Összesen": "19757",
                                    "Átlagár": "4939,3",
                                    "Max ár": "6098",
                                    "Minimális ár": "3490"
                                },
                                {
                                    "stilus": "gasztronómia",
                                    "Összesen": "18764",
                                    "Átlagár": "4691",
                                    "Max ár": "5706",
                                    "Minimális ár": "3258"
                                },
                                {
                                    "stilus": "játék (autóverseny)",
                                    "Összesen": "15451",
                                    "Átlagár": "3862,8",
                                    "Max ár": "5005",
                                    "Minimális ár": "3106"
                                },
                                {
                                    "stilus": "játék (labdarúgás)",
                                    "Összesen": "14452",
                                    "Átlagár": "4817,3",
                                    "Max ár": "5522",
                                    "Minimális ár": "3871"
                                },
                                {
                                    "stilus": "állattan",
                                    "Összesen": "14351",
                                    "Átlagár": "4783,7",
                                    "Max ár": "5235",
                                    "Minimális ár": "4153"
                                },
                                {
                                    "stilus": "nyelvtan",
                                    "Összesen": "14312",
                                    "Átlagár": "4770,7",
                                    "Max ár": "5845",
                                    "Minimális ár": "3688"
                                },
                                {
                                    "stilus": "fizika",
                                    "Összesen": "14307",
                                    "Átlagár": "4769",
                                    "Max ár": "5763",
                                    "Minimális ár": "3734"
                                },
                                {
                                    "stilus": "számítástechnika",
                                    "Összesen": "13471",
                                    "Átlagár": "4490,3",
                                    "Max ár": "5260",
                                    "Minimális ár": "3277"
                                },
                                {
                                    "stilus": "festészet",
                                    "Összesen": "9802",
                                    "Átlagár": "4901",
                                    "Max ár": "5408",
                                    "Minimális ár": "4394"
                                },
                                {
                                    "stilus": "filmtörténet",
                                    "Összesen": "7342",
                                    "Átlagár": "3671",
                                    "Max ár": "4204",
                                    "Minimális ár": "3138"
                                },
                                {
                                    "stilus": "ásványtan",
                                    "Összesen": "5624",
                                    "Átlagár": "5624",
                                    "Max ár": "5624",
                                    "Minimális ár": "5624"
                                },
                                {
                                    "stilus": "játék (rodeó)",
                                    "Összesen": "5591",
                                    "Átlagár": "5591",
                                    "Max ár": "5591",
                                    "Minimális ár": "5591"
                                },
                                {
                                    "stilus": "humor",
                                    "Összesen": "5573",
                                    "Átlagár": "5573",
                                    "Max ár": "5573",
                                    "Minimális ár": "5573"
                                },
                                {
                                    "stilus": "környezetvédelem",
                                    "Összesen": "5508",
                                    "Átlagár": "5508",
                                    "Max ár": "5508",
                                    "Minimális ár": "5508"
                                },
                                {
                                    "stilus": "kresz",
                                    "Összesen": "5476",
                                    "Átlagár": "5476",
                                    "Max ár": "5476",
                                    "Minimális ár": "5476"
                                },
                                {
                                    "stilus": "játék (jégkorong)",
                                    "Összesen": "5242",
                                    "Átlagár": "5242",
                                    "Max ár": "5242",
                                    "Minimális ár": "5242"
                                },
                                {
                                    "stilus": "színház",
                                    "Összesen": "5158",
                                    "Átlagár": "5158",
                                    "Max ár": "5158",
                                    "Minimális ár": "5158"
                                },
                                {
                                    "stilus": "múvészet",
                                    "Összesen": "5118",
                                    "Átlagár": "5118",
                                    "Max ár": "5118",
                                    "Minimális ár": "5118"
                                },
                                {
                                    "stilus": "kémia",
                                    "Összesen": "5094",
                                    "Átlagár": "5094",
                                    "Max ár": "5094",
                                    "Minimális ár": "5094"
                                },
                                {
                                    "stilus": "fordító program",
                                    "Összesen": "5036",
                                    "Átlagár": "5036",
                                    "Max ár": "5036",
                                    "Minimális ár": "5036"
                                },
                                {
                                    "stilus": "kerttervező",
                                    "Összesen": "4951",
                                    "Átlagár": "4951",
                                    "Max ár": "4951",
                                    "Minimális ár": "4951"
                                },
                                {
                                    "stilus": "irodalom, nyelv",
                                    "Összesen": "4704",
                                    "Átlagár": "4704",
                                    "Max ár": "4704",
                                    "Minimális ár": "4704"
                                },
                                {
                                    "stilus": "sport",
                                    "Összesen": "4607",
                                    "Átlagár": "4607",
                                    "Max ár": "4607",
                                    "Minimális ár": "4607"
                                },
                                {
                                    "stilus": "matematika, nyelvtan",
                                    "Összesen": "4484",
                                    "Átlagár": "4484",
                                    "Max ár": "4484",
                                    "Minimális ár": "4484"
                                },
                                {
                                    "stilus": "növénytan",
                                    "Összesen": "4438",
                                    "Átlagár": "4438",
                                    "Max ár": "4438",
                                    "Minimális ár": "4438"
                                },
                                {
                                    "stilus": "játék (repülős)",
                                    "Összesen": "4311",
                                    "Átlagár": "4311",
                                    "Max ár": "4311",
                                    "Minimális ár": "4311"
                                },
                                {
                                    "stilus": "lakástervező",
                                    "Összesen": "4287",
                                    "Átlagár": "4287",
                                    "Max ár": "4287",
                                    "Minimális ár": "4287"
                                },
                                {
                                    "stilus": "játék - autós",
                                    "Összesen": "3989",
                                    "Átlagár": "3989",
                                    "Max ár": "3989",
                                    "Minimális ár": "3989"
                                },
                                {
                                    "stilus": "gépírás",
                                    "Összesen": "3936",
                                    "Átlagár": "3936",
                                    "Max ár": "3936",
                                    "Minimális ár": "3936"
                                },
                                {
                                    "stilus": "betűtípusok",
                                    "Összesen": "3845",
                                    "Átlagár": "3845",
                                    "Max ár": "3845",
                                    "Minimális ár": "3845"
                                },
                                {
                                    "stilus": "régészet",
                                    "Összesen": "3773",
                                    "Átlagár": "3773",
                                    "Max ár": "3773",
                                    "Minimális ár": "3773"
                                },
                                {
                                    "stilus": "játék (történelmi)",
                                    "Összesen": "3707",
                                    "Átlagár": "3707",
                                    "Max ár": "3707",
                                    "Minimális ár": "3707"
                                },
                                {
                                    "stilus": "játék, sakk",
                                    "Összesen": "3644",
                                    "Átlagár": "3644",
                                    "Max ár": "3644",
                                    "Minimális ár": "3644"
                                },
                                {
                                    "stilus": "hadtudomány",
                                    "Összesen": "3515",
                                    "Átlagár": "3515",
                                    "Max ár": "3515",
                                    "Minimális ár": "3515"
                                },
                                {
                                    "stilus": "ismeretterjesztő + játék",
                                    "Összesen": "3107",
                                    "Átlagár": "3107",
                                    "Max ár": "3107",
                                    "Minimális ár": "3107"
                                }
                            ]
                        },
                        "text/html": "<table><tr><th>stilus</th><th>Összesen</th><th>Átlagár</th><th>Max ár</th><th>Minimális ár</th></tr><tr><td>játék</td><td>291028</td><td>4850,5</td><td>6078</td><td>3110</td></tr><tr><td>ismeretterjesztő</td><td>217427</td><td>4726,7</td><td>6072</td><td>3256</td></tr><tr><td>nyelvtanító</td><td>199898</td><td>4759,5</td><td>6082</td><td>3115</td></tr><tr><td>történelem</td><td>190885</td><td>4655,7</td><td>6084</td><td>3122</td></tr><tr><td>földrajz</td><td>73281</td><td>4580,1</td><td>6065</td><td>3123</td></tr><tr><td>irodalom</td><td>71427</td><td>4464,2</td><td>5654</td><td>3391</td></tr><tr><td>matematika</td><td>40687</td><td>4520,8</td><td>5995</td><td>3105</td></tr><tr><td>csillagászat</td><td>33135</td><td>4733,6</td><td>5992</td><td>3582</td></tr><tr><td>szótár</td><td>32371</td><td>4624,4</td><td>5734</td><td>3509</td></tr><tr><td>zene</td><td>29132</td><td>4855,3</td><td>5730</td><td>3391</td></tr><tr><td>felvételi</td><td>27008</td><td>4501,3</td><td>5955</td><td>3102</td></tr><tr><td>biológia</td><td>21499</td><td>4299,8</td><td>5543</td><td>3482</td></tr><tr><td>művészet</td><td>19757</td><td>4939,3</td><td>6098</td><td>3490</td></tr><tr><td>gasztronómia</td><td>18764</td><td>4691</td><td>5706</td><td>3258</td></tr><tr><td>játék (autóverseny)</td><td>15451</td><td>3862,8</td><td>5005</td><td>3106</td></tr><tr><td>játék (labdarúgás)</td><td>14452</td><td>4817,3</td><td>5522</td><td>3871</td></tr><tr><td>állattan</td><td>14351</td><td>4783,7</td><td>5235</td><td>4153</td></tr><tr><td>nyelvtan</td><td>14312</td><td>4770,7</td><td>5845</td><td>3688</td></tr><tr><td>fizika</td><td>14307</td><td>4769</td><td>5763</td><td>3734</td></tr><tr><td>számítástechnika</td><td>13471</td><td>4490,3</td><td>5260</td><td>3277</td></tr><tr><td>festészet</td><td>9802</td><td>4901</td><td>5408</td><td>4394</td></tr><tr><td>filmtörténet</td><td>7342</td><td>3671</td><td>4204</td><td>3138</td></tr><tr><td>ásványtan</td><td>5624</td><td>5624</td><td>5624</td><td>5624</td></tr><tr><td>játék (rodeó)</td><td>5591</td><td>5591</td><td>5591</td><td>5591</td></tr><tr><td>humor</td><td>5573</td><td>5573</td><td>5573</td><td>5573</td></tr><tr><td>környezetvédelem</td><td>5508</td><td>5508</td><td>5508</td><td>5508</td></tr><tr><td>kresz</td><td>5476</td><td>5476</td><td>5476</td><td>5476</td></tr><tr><td>játék (jégkorong)</td><td>5242</td><td>5242</td><td>5242</td><td>5242</td></tr><tr><td>színház</td><td>5158</td><td>5158</td><td>5158</td><td>5158</td></tr><tr><td>múvészet</td><td>5118</td><td>5118</td><td>5118</td><td>5118</td></tr><tr><td>kémia</td><td>5094</td><td>5094</td><td>5094</td><td>5094</td></tr><tr><td>fordító program</td><td>5036</td><td>5036</td><td>5036</td><td>5036</td></tr><tr><td>kerttervező</td><td>4951</td><td>4951</td><td>4951</td><td>4951</td></tr><tr><td>irodalom, nyelv</td><td>4704</td><td>4704</td><td>4704</td><td>4704</td></tr><tr><td>sport</td><td>4607</td><td>4607</td><td>4607</td><td>4607</td></tr><tr><td>matematika, nyelvtan</td><td>4484</td><td>4484</td><td>4484</td><td>4484</td></tr><tr><td>növénytan</td><td>4438</td><td>4438</td><td>4438</td><td>4438</td></tr><tr><td>játék (repülős)</td><td>4311</td><td>4311</td><td>4311</td><td>4311</td></tr><tr><td>lakástervező</td><td>4287</td><td>4287</td><td>4287</td><td>4287</td></tr><tr><td>játék - autós</td><td>3989</td><td>3989</td><td>3989</td><td>3989</td></tr><tr><td>gépírás</td><td>3936</td><td>3936</td><td>3936</td><td>3936</td></tr><tr><td>betűtípusok</td><td>3845</td><td>3845</td><td>3845</td><td>3845</td></tr><tr><td>régészet</td><td>3773</td><td>3773</td><td>3773</td><td>3773</td></tr><tr><td>játék (történelmi)</td><td>3707</td><td>3707</td><td>3707</td><td>3707</td></tr><tr><td>játék, sakk</td><td>3644</td><td>3644</td><td>3644</td><td>3644</td></tr><tr><td>hadtudomány</td><td>3515</td><td>3515</td><td>3515</td><td>3515</td></tr><tr><td>ismeretterjesztő + játék</td><td>3107</td><td>3107</td><td>3107</td><td>3107</td></tr></table>"
                    },
                    "metadata": {}
                }
            ],
            "execution_count": 21
        },
        {
            "cell_type": "markdown",
            "source": [
                "**10 legkisebb szórással rendelkező stílus ár szerint**"
            ],
            "metadata": {
                "language": "sql",
                "azdata_cell_guid": "3c1d103d-beb7-4f00-8a74-8f7f8a7d6710"
            },
            "attachments": {}
        },
        {
            "cell_type": "code",
            "source": [
                "SELECT TOP 10 stilus, ROUND(stdev(nettoar),2), Max(nettoar)-Min(nettoar) as 'Eltérés'\r\n",
                "FROM dvd\r\n",
                "GROUP by stilus\r\n",
                "HAVING round(stdev(nettoar),2) is not null\r\n",
                "ORDER BY round(stdev(nettoar),2) ASC"
            ],
            "metadata": {
                "azdata_cell_guid": "833058a3-6bef-4236-ad04-825ef2a14018",
                "language": "sql"
            },
            "outputs": [
                {
                    "output_type": "display_data",
                    "data": {
                        "text/html": "(10 rows affected)"
                    },
                    "metadata": {}
                },
                {
                    "output_type": "display_data",
                    "data": {
                        "text/html": "Total execution time: 00:00:00.037"
                    },
                    "metadata": {}
                },
                {
                    "output_type": "execute_result",
                    "metadata": {},
                    "execution_count": 2,
                    "data": {
                        "application/vnd.dataresource+json": {
                            "schema": {
                                "fields": [
                                    {
                                        "name": "stilus"
                                    },
                                    {
                                        "name": "(No column name)"
                                    },
                                    {
                                        "name": "Eltérés"
                                    }
                                ]
                            },
                            "data": [
                                {
                                    "stilus": "állattan",
                                    "(No column name)": "562,85",
                                    "Eltérés": "1082"
                                },
                                {
                                    "stilus": "festészet",
                                    "(No column name)": "717,01",
                                    "Eltérés": "1014"
                                },
                                {
                                    "stilus": "filmtörténet",
                                    "(No column name)": "753,78",
                                    "Eltérés": "1066"
                                },
                                {
                                    "stilus": "irodalom",
                                    "(No column name)": "778,08",
                                    "Eltérés": "2263"
                                },
                                {
                                    "stilus": "zene",
                                    "(No column name)": "824,88",
                                    "Eltérés": "2339"
                                },
                                {
                                    "stilus": "játék (autóverseny)",
                                    "(No column name)": "826,34",
                                    "Eltérés": "1899"
                                },
                                {
                                    "stilus": "történelem",
                                    "(No column name)": "841,66",
                                    "Eltérés": "2962"
                                },
                                {
                                    "stilus": "játék",
                                    "(No column name)": "842,01",
                                    "Eltérés": "2968"
                                },
                                {
                                    "stilus": "játék (labdarúgás)",
                                    "(No column name)": "851,62",
                                    "Eltérés": "1651"
                                },
                                {
                                    "stilus": "biológia",
                                    "(No column name)": "868,99",
                                    "Eltérés": "2061"
                                }
                            ]
                        },
                        "text/html": [
                            "<table>",
                            "<tr><th>stilus</th><th>(No column name)</th><th>Eltérés</th></tr>",
                            "<tr><td>állattan</td><td>562,85</td><td>1082</td></tr>",
                            "<tr><td>festészet</td><td>717,01</td><td>1014</td></tr>",
                            "<tr><td>filmtörténet</td><td>753,78</td><td>1066</td></tr>",
                            "<tr><td>irodalom</td><td>778,08</td><td>2263</td></tr>",
                            "<tr><td>zene</td><td>824,88</td><td>2339</td></tr>",
                            "<tr><td>játék (autóverseny)</td><td>826,34</td><td>1899</td></tr>",
                            "<tr><td>történelem</td><td>841,66</td><td>2962</td></tr>",
                            "<tr><td>játék</td><td>842,01</td><td>2968</td></tr>",
                            "<tr><td>játék (labdarúgás)</td><td>851,62</td><td>1651</td></tr>",
                            "<tr><td>biológia</td><td>868,99</td><td>2061</td></tr>",
                            "</table>"
                        ]
                    }
                }
            ],
            "execution_count": 2
        },
        {
            "cell_type": "markdown",
            "source": [
                "**Melyik stílus hány ember kedvence**"
            ],
            "metadata": {
                "language": "sql",
                "azdata_cell_guid": "3f32a5fb-db48-4b58-ad4b-ff7dc24d0a8f"
            },
            "attachments": {}
        },
        {
            "cell_type": "code",
            "source": [
                "SELECT kedvencstilus as 'Kedvenc stílus',count(id) as 'Darabszám'\r\n",
                "FROM tagok\r\n",
                "GROUP BY kedvencstilus"
            ],
            "metadata": {
                "language": "sql",
                "azdata_cell_guid": "49a4cde5-bd52-443a-a5fd-7a254597e816"
            },
            "outputs": [
                {
                    "output_type": "display_data",
                    "data": {
                        "text/html": "(4 rows affected)"
                    },
                    "metadata": {}
                },
                {
                    "output_type": "display_data",
                    "data": {
                        "text/html": "Total execution time: 00:00:00.098"
                    },
                    "metadata": {}
                },
                {
                    "output_type": "execute_result",
                    "metadata": {},
                    "execution_count": 1,
                    "data": {
                        "application/vnd.dataresource+json": {
                            "schema": {
                                "fields": [
                                    {
                                        "name": "Kedvenc stílus"
                                    },
                                    {
                                        "name": "Darabszám"
                                    }
                                ]
                            },
                            "data": [
                                {
                                    "Kedvenc stílus": "földrajz",
                                    "Darabszám": "4"
                                },
                                {
                                    "Kedvenc stílus": "játék",
                                    "Darabszám": "4"
                                },
                                {
                                    "Kedvenc stílus": "sport",
                                    "Darabszám": "5"
                                },
                                {
                                    "Kedvenc stílus": "történelem",
                                    "Darabszám": "4"
                                }
                            ]
                        },
                        "text/html": [
                            "<table>",
                            "<tr><th>Kedvenc stílus</th><th>Darabszám</th></tr>",
                            "<tr><td>földrajz</td><td>4</td></tr>",
                            "<tr><td>játék</td><td>4</td></tr>",
                            "<tr><td>sport</td><td>5</td></tr>",
                            "<tr><td>történelem</td><td>4</td></tr>",
                            "</table>"
                        ]
                    }
                }
            ],
            "execution_count": 1
        },
        {
            "cell_type": "markdown",
            "source": [
                "**Tagok nevének hosszának aggregált függvényei**"
            ],
            "metadata": {
                "language": "sql",
                "azdata_cell_guid": "1010b453-8a52-4f7b-9187-34e985276f01"
            },
            "attachments": {}
        },
        {
            "cell_type": "code",
            "source": [
                "SELECT AVG(LEN(nev)) as 'Átlagos hossz',\r\n",
                "        MAX(Len(nev)) as 'Maximális hossz', \r\n",
                "        min(len(nev)) as 'Minimális hossz', \r\n",
                "        Round(stdev(len(nev)),3) as 'Hosszok szórása'\r\n",
                "FROM tagok"
            ],
            "metadata": {
                "language": "sql",
                "azdata_cell_guid": "65efcbc2-ebf4-4d3b-a118-3ea612eb8120"
            },
            "outputs": [
                {
                    "output_type": "display_data",
                    "data": {
                        "text/html": "(1 row affected)"
                    },
                    "metadata": {}
                },
                {
                    "output_type": "display_data",
                    "data": {
                        "text/html": "Total execution time: 00:00:00.143"
                    },
                    "metadata": {}
                },
                {
                    "output_type": "execute_result",
                    "execution_count": 37,
                    "data": {
                        "application/vnd.dataresource+json": {
                            "schema": {
                                "fields": [
                                    {
                                        "name": "Átlagos hossz"
                                    },
                                    {
                                        "name": "Maximális hossz"
                                    },
                                    {
                                        "name": "Minimális hossz"
                                    },
                                    {
                                        "name": "Hosszok szórása"
                                    }
                                ]
                            },
                            "data": [
                                {
                                    "Átlagos hossz": "14",
                                    "Maximális hossz": "23",
                                    "Minimális hossz": "10",
                                    "Hosszok szórása": "2,961"
                                }
                            ]
                        },
                        "text/html": "<table><tr><th>Átlagos hossz</th><th>Maximális hossz</th><th>Minimális hossz</th><th>Hosszok szórása</th></tr><tr><td>14</td><td>23</td><td>10</td><td>2,961</td></tr></table>"
                    },
                    "metadata": {}
                }
            ],
            "execution_count": 37
        }
    ]
}