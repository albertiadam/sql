{
    "metadata": {
        "kernelspec": {
            "name": "SQL",
            "display_name": "SQL",
            "language": "sql"
        },
        "language_info": {
            "name": "sql",
            "version": ""
        }
    },
    "nbformat_minor": 2,
    "nbformat": 4,
    "cells": [
        {
            "cell_type": "markdown",
            "source": [
                "**Aggregált számítások stílusok szerint (átlag,max,min,sum )**"
            ],
            "metadata": {
                "azdata_cell_guid": "d121e130-46c9-4182-9690-09694bb66f09"
            },
            "attachments": {}
        },
        {
            "cell_type": "code",
            "source": [
                "SELECT          stilus, \r\n",
                "                SUM(nettoar) as 'Összesen',\r\n",
                "                ROUND(AVG(nettoar),1) as 'Átlagár', \r\n",
                "                MAX(nettoar)  as 'Max ár', \r\n",
                "                MIN(nettoar) as 'Minimális ár'\r\n",
                "FROM dvd\r\n",
                "where stilus is not null\r\n",
                "GROUP BY stilus\r\n",
                "ORDER BY SUM(nettoar) DESC, ROUND(AVG(nettoar),1) DESC"
            ],
            "metadata": {
                "azdata_cell_guid": "4a8b98c6-fac0-4d32-95f0-3a1c9ae6e5b1",
                "language": "sql"
            },
            "outputs": [
                {
                    "output_type": "display_data",
                    "data": {
                        "text/html": "(47 rows affected)"
                    },
                    "metadata": {}
                },
                {
                    "output_type": "display_data",
                    "data": {
                        "text/html": "Total execution time: 00:00:00.078"
                    },
                    "metadata": {}
                },
                {
                    "output_type": "execute_result",
                    "execution_count": 21,
                    "data": {
                        "application/vnd.dataresource+json": {
                            "schema": {
                                "fields": [
                                    {
                                        "name": "stilus"
                                    },
                                    {
                                        "name": "Összesen"
                                    },
                                    {
                                        "name": "Átlagár"
                                    },
                                    {
                                        "name": "Max ár"
                                    },
                                    {
                                        "name": "Minimális ár"
                                    }
                                ]
                            },
                            "data": [
                                {
                                    "stilus": "játék",
                                    "Összesen": "291028",
                                    "Átlagár": "4850,5",
                                    "Max ár": "6078",
                                    "Minimális ár": "3110"
                                },
                                {
                                    "stilus": "ismeretterjesztő",
                                    "Összesen": "217427",
                                    "Átlagár": "4726,7",
                                    "Max ár": "6072",
                                    "Minimális ár": "3256"
                                },
                                {
                                    "stilus": "nyelvtanító",
                                    "Összesen": "199898",
                                    "Átlagár": "4759,5",
                                    "Max ár": "6082",
                                    "Minimális ár": "3115"
                                },
                                {
                                    "stilus": "történelem",
                                    "Összesen": "190885",
                                    "Átlagár": "4655,7",
                                    "Max ár": "6084",
                                    "Minimális ár": "3122"
                                },
                                {
                                    "stilus": "földrajz",
                                    "Összesen": "73281",
                                    "Átlagár": "4580,1",
                                    "Max ár": "6065",
                                    "Minimális ár": "3123"
                                },
                                {
                                    "stilus": "irodalom",
                                    "Összesen": "71427",
                                    "Átlagár": "4464,2",
                                    "Max ár": "5654",
                                    "Minimális ár": "3391"
                                },
                                {
                                    "stilus": "matematika",
                                    "Összesen": "40687",
                                    "Átlagár": "4520,8",
                                    "Max ár": "5995",
                                    "Minimális ár": "3105"
                                },
                                {
                                    "stilus": "csillagászat",
                                    "Összesen": "33135",
                                    "Átlagár": "4733,6",
                                    "Max ár": "5992",
                                    "Minimális ár": "3582"
                                },
                                {
                                    "stilus": "szótár",
                                    "Összesen": "32371",
                                    "Átlagár": "4624,4",
                                    "Max ár": "5734",
                                    "Minimális ár": "3509"
                                },
                                {
                                    "stilus": "zene",
                                    "Összesen": "29132",
                                    "Átlagár": "4855,3",
                                    "Max ár": "5730",
                                    "Minimális ár": "3391"
                                },
                                {
                                    "stilus": "felvételi",
                                    "Összesen": "27008",
                                    "Átlagár": "4501,3",
                                    "Max ár": "5955",
                                    "Minimális ár": "3102"
                                },
                                {
                                    "stilus": "biológia",
                                    "Összesen": "21499",
                                    "Átlagár": "4299,8",
                                    "Max ár": "5543",
                                    "Minimális ár": "3482"
                                },
                                {
                                    "stilus": "művészet",
                                    "Összesen": "19757",
                                    "Átlagár": "4939,3",
                                    "Max ár": "6098",
                                    "Minimális ár": "3490"
                                },
                                {
                                    "stilus": "gasztronómia",
                                    "Összesen": "18764",
                                    "Átlagár": "4691",
                                    "Max ár": "5706",
                                    "Minimális ár": "3258"
                                },
                                {
                                    "stilus": "játék (autóverseny)",
                                    "Összesen": "15451",
                                    "Átlagár": "3862,8",
                                    "Max ár": "5005",
                                    "Minimális ár": "3106"
                                },
                                {
                                    "stilus": "játék (labdarúgás)",
                                    "Összesen": "14452",
                                    "Átlagár": "4817,3",
                                    "Max ár": "5522",
                                    "Minimális ár": "3871"
                                },
                                {
                                    "stilus": "állattan",
                                    "Összesen": "14351",
                                    "Átlagár": "4783,7",
                                    "Max ár": "5235",
                                    "Minimális ár": "4153"
                                },
                                {
                                    "stilus": "nyelvtan",
                                    "Összesen": "14312",
                                    "Átlagár": "4770,7",
                                    "Max ár": "5845",
                                    "Minimális ár": "3688"
                                },
                                {
                                    "stilus": "fizika",
                                    "Összesen": "14307",
                                    "Átlagár": "4769",
                                    "Max ár": "5763",
                                    "Minimális ár": "3734"
                                },
                                {
                                    "stilus": "számítástechnika",
                                    "Összesen": "13471",
                                    "Átlagár": "4490,3",
                                    "Max ár": "5260",
                                    "Minimális ár": "3277"
                                },
                                {
                                    "stilus": "festészet",
                                    "Összesen": "9802",
                                    "Átlagár": "4901",
                                    "Max ár": "5408",
                                    "Minimális ár": "4394"
                                },
                                {
                                    "stilus": "filmtörténet",
                                    "Összesen": "7342",
                                    "Átlagár": "3671",
                                    "Max ár": "4204",
                                    "Minimális ár": "3138"
                                },
                                {
                                    "stilus": "ásványtan",
                                    "Összesen": "5624",
                                    "Átlagár": "5624",
                                    "Max ár": "5624",
                                    "Minimális ár": "5624"
                                },
                                {
                                    "stilus": "játék (rodeó)",
                                    "Összesen": "5591",
                                    "Átlagár": "5591",
                                    "Max ár": "5591",
                                    "Minimális ár": "5591"
                                },
                                {
                                    "stilus": "humor",
                                    "Összesen": "5573",
                                    "Átlagár": "5573",
                                    "Max ár": "5573",
                                    "Minimális ár": "5573"
                                },
                                {
                                    "stilus": "környezetvédelem",
                                    "Összesen": "5508",
                                    "Átlagár": "5508",
                                    "Max ár": "5508",
                                    "Minimális ár": "5508"
                                },
                                {
                                    "stilus": "kresz",
                                    "Összesen": "5476",
                                    "Átlagár": "5476",
                                    "Max ár": "5476",
                                    "Minimális ár": "5476"
                                },
                                {
                                    "stilus": "játék (jégkorong)",
                                    "Összesen": "5242",
                                    "Átlagár": "5242",
                                    "Max ár": "5242",
                                    "Minimális ár": "5242"
                                },
                                {
                                    "stilus": "színház",
                                    "Összesen": "5158",
                                    "Átlagár": "5158",
                                    "Max ár": "5158",
                                    "Minimális ár": "5158"
                                },
                                {
                                    "stilus": "múvészet",
                                    "Összesen": "5118",
                                    "Átlagár": "5118",
                                    "Max ár": "5118",
                                    "Minimális ár": "5118"
                                },
                                {
                                    "stilus": "kémia",
                                    "Összesen": "5094",
                                    "Átlagár": "5094",
                                    "Max ár": "5094",
                                    "Minimális ár": "5094"
                                },
                                {
                                    "stilus": "fordító program",
                                    "Összesen": "5036",
                                    "Átlagár": "5036",
                                    "Max ár": "5036",
                                    "Minimális ár": "5036"
                                },
                                {
                                    "stilus": "kerttervező",
                                    "Összesen": "4951",
                                    "Átlagár": "4951",
                                    "Max ár": "4951",
                                    "Minimális ár": "4951"
                                },
                                {
                                    "stilus": "irodalom, nyelv",
                                    "Összesen": "4704",
                                    "Átlagár": "4704",
                                    "Max ár": "4704",
                                    "Minimális ár": "4704"
                                },
                                {
                                    "stilus": "sport",
                                    "Összesen": "4607",
                                    "Átlagár": "4607",
                                    "Max ár": "4607",
                                    "Minimális ár": "4607"
                                },
                                {
                                    "stilus": "matematika, nyelvtan",
                                    "Összesen": "4484",
                                    "Átlagár": "4484",
                                    "Max ár": "4484",
                                    "Minimális ár": "4484"
                                },
                                {
                                    "stilus": "növénytan",
                                    "Összesen": "4438",
                                    "Átlagár": "4438",
                                    "Max ár": "4438",
                                    "Minimális ár": "4438"
                                },
                                {
                                    "stilus": "játék (repülős)",
                                    "Összesen": "4311",
                                    "Átlagár": "4311",
                                    "Max ár": "4311",
                                    "Minimális ár": "4311"
                                },
                                {
                                    "stilus": "lakástervező",
                                    "Összesen": "4287",
                                    "Átlagár": "4287",
                                    "Max ár": "4287",
                                    "Minimális ár": "4287"
                                },
                                {
                                    "stilus": "játék - autós",
                                    "Összesen": "3989",
                                    "Átlagár": "3989",
                                    "Max ár": "3989",
                                    "Minimális ár": "3989"
                                },
                                {
                                    "stilus": "gépírás",
                                    "Összesen": "3936",
                                    "Átlagár": "3936",
                                    "Max ár": "3936",
                                    "Minimális ár": "3936"
                                },
                                {
                                    "stilus": "betűtípusok",
                                    "Összesen": "3845",
                                    "Átlagár": "3845",
                                    "Max ár": "3845",
                                    "Minimális ár": "3845"
                                },
                                {
                                    "stilus": "régészet",
                                    "Összesen": "3773",
                                    "Átlagár": "3773",
                                    "Max ár": "3773",
                                    "Minimális ár": "3773"
                                },
                                {
                                    "stilus": "játék (történelmi)",
                                    "Összesen": "3707",
                                    "Átlagár": "3707",
                                    "Max ár": "3707",
                                    "Minimális ár": "3707"
                                },
                                {
                                    "stilus": "játék, sakk",
                                    "Összesen": "3644",
                                    "Átlagár": "3644",
                                    "Max ár": "3644",
                                    "Minimális ár": "3644"
                                },
                                {
                                    "stilus": "hadtudomány",
                                    "Összesen": "3515",
                                    "Átlagár": "3515",
                                    "Max ár": "3515",
                                    "Minimális ár": "3515"
                                },
                                {
                                    "stilus": "ismeretterjesztő + játék",
                                    "Összesen": "3107",
                                    "Átlagár": "3107",
                                    "Max ár": "3107",
                                    "Minimális ár": "3107"
                                }
                            ]
                        },
                        "text/html": "<table><tr><th>stilus</th><th>Összesen</th><th>Átlagár</th><th>Max ár</th><th>Minimális ár</th></tr><tr><td>játék</td><td>291028</td><td>4850,5</td><td>6078</td><td>3110</td></tr><tr><td>ismeretterjesztő</td><td>217427</td><td>4726,7</td><td>6072</td><td>3256</td></tr><tr><td>nyelvtanító</td><td>199898</td><td>4759,5</td><td>6082</td><td>3115</td></tr><tr><td>történelem</td><td>190885</td><td>4655,7</td><td>6084</td><td>3122</td></tr><tr><td>földrajz</td><td>73281</td><td>4580,1</td><td>6065</td><td>3123</td></tr><tr><td>irodalom</td><td>71427</td><td>4464,2</td><td>5654</td><td>3391</td></tr><tr><td>matematika</td><td>40687</td><td>4520,8</td><td>5995</td><td>3105</td></tr><tr><td>csillagászat</td><td>33135</td><td>4733,6</td><td>5992</td><td>3582</td></tr><tr><td>szótár</td><td>32371</td><td>4624,4</td><td>5734</td><td>3509</td></tr><tr><td>zene</td><td>29132</td><td>4855,3</td><td>5730</td><td>3391</td></tr><tr><td>felvételi</td><td>27008</td><td>4501,3</td><td>5955</td><td>3102</td></tr><tr><td>biológia</td><td>21499</td><td>4299,8</td><td>5543</td><td>3482</td></tr><tr><td>művészet</td><td>19757</td><td>4939,3</td><td>6098</td><td>3490</td></tr><tr><td>gasztronómia</td><td>18764</td><td>4691</td><td>5706</td><td>3258</td></tr><tr><td>játék (autóverseny)</td><td>15451</td><td>3862,8</td><td>5005</td><td>3106</td></tr><tr><td>játék (labdarúgás)</td><td>14452</td><td>4817,3</td><td>5522</td><td>3871</td></tr><tr><td>állattan</td><td>14351</td><td>4783,7</td><td>5235</td><td>4153</td></tr><tr><td>nyelvtan</td><td>14312</td><td>4770,7</td><td>5845</td><td>3688</td></tr><tr><td>fizika</td><td>14307</td><td>4769</td><td>5763</td><td>3734</td></tr><tr><td>számítástechnika</td><td>13471</td><td>4490,3</td><td>5260</td><td>3277</td></tr><tr><td>festészet</td><td>9802</td><td>4901</td><td>5408</td><td>4394</td></tr><tr><td>filmtörténet</td><td>7342</td><td>3671</td><td>4204</td><td>3138</td></tr><tr><td>ásványtan</td><td>5624</td><td>5624</td><td>5624</td><td>5624</td></tr><tr><td>játék (rodeó)</td><td>5591</td><td>5591</td><td>5591</td><td>5591</td></tr><tr><td>humor</td><td>5573</td><td>5573</td><td>5573</td><td>5573</td></tr><tr><td>környezetvédelem</td><td>5508</td><td>5508</td><td>5508</td><td>5508</td></tr><tr><td>kresz</td><td>5476</td><td>5476</td><td>5476</td><td>5476</td></tr><tr><td>játék (jégkorong)</td><td>5242</td><td>5242</td><td>5242</td><td>5242</td></tr><tr><td>színház</td><td>5158</td><td>5158</td><td>5158</td><td>5158</td></tr><tr><td>múvészet</td><td>5118</td><td>5118</td><td>5118</td><td>5118</td></tr><tr><td>kémia</td><td>5094</td><td>5094</td><td>5094</td><td>5094</td></tr><tr><td>fordító program</td><td>5036</td><td>5036</td><td>5036</td><td>5036</td></tr><tr><td>kerttervező</td><td>4951</td><td>4951</td><td>4951</td><td>4951</td></tr><tr><td>irodalom, nyelv</td><td>4704</td><td>4704</td><td>4704</td><td>4704</td></tr><tr><td>sport</td><td>4607</td><td>4607</td><td>4607</td><td>4607</td></tr><tr><td>matematika, nyelvtan</td><td>4484</td><td>4484</td><td>4484</td><td>4484</td></tr><tr><td>növénytan</td><td>4438</td><td>4438</td><td>4438</td><td>4438</td></tr><tr><td>játék (repülős)</td><td>4311</td><td>4311</td><td>4311</td><td>4311</td></tr><tr><td>lakástervező</td><td>4287</td><td>4287</td><td>4287</td><td>4287</td></tr><tr><td>játék - autós</td><td>3989</td><td>3989</td><td>3989</td><td>3989</td></tr><tr><td>gépírás</td><td>3936</td><td>3936</td><td>3936</td><td>3936</td></tr><tr><td>betűtípusok</td><td>3845</td><td>3845</td><td>3845</td><td>3845</td></tr><tr><td>régészet</td><td>3773</td><td>3773</td><td>3773</td><td>3773</td></tr><tr><td>játék (történelmi)</td><td>3707</td><td>3707</td><td>3707</td><td>3707</td></tr><tr><td>játék, sakk</td><td>3644</td><td>3644</td><td>3644</td><td>3644</td></tr><tr><td>hadtudomány</td><td>3515</td><td>3515</td><td>3515</td><td>3515</td></tr><tr><td>ismeretterjesztő + játék</td><td>3107</td><td>3107</td><td>3107</td><td>3107</td></tr></table>"
                    },
                    "metadata": {}
                }
            ],
            "execution_count": 21
        },
        {
            "cell_type": "markdown",
            "source": [
                "**10 legkisebb szórással rendelkező stílus ár szerint**"
            ],
            "metadata": {
                "language": "sql",
                "azdata_cell_guid": "3c1d103d-beb7-4f00-8a74-8f7f8a7d6710"
            },
            "attachments": {}
        },
        {
            "cell_type": "code",
            "source": [
                "SELECT TOP 10 stilus, ROUND(stdev(nettoar),2) as 'Szórás', Max(nettoar)-Min(nettoar) as 'Eltérés'\r\n",
                "FROM dvd\r\n",
                "GROUP by stilus\r\n",
                "HAVING round(stdev(nettoar),2) is not null\r\n",
                "ORDER BY round(stdev(nettoar),2) ASC"
            ],
            "metadata": {
                "azdata_cell_guid": "833058a3-6bef-4236-ad04-825ef2a14018",
                "language": "sql"
            },
            "outputs": [
                {
                    "output_type": "display_data",
                    "data": {
                        "text/html": "(10 rows affected)"
                    },
                    "metadata": {}
                },
                {
                    "output_type": "display_data",
                    "data": {
                        "text/html": "Total execution time: 00:00:00.032"
                    },
                    "metadata": {}
                },
                {
                    "output_type": "execute_result",
                    "metadata": {},
                    "execution_count": 10,
                    "data": {
                        "application/vnd.dataresource+json": {
                            "schema": {
                                "fields": [
                                    {
                                        "name": "stilus"
                                    },
                                    {
                                        "name": "Szórás"
                                    },
                                    {
                                        "name": "Eltérés"
                                    }
                                ]
                            },
                            "data": [
                                {
                                    "stilus": "állattan",
                                    "Szórás": "562,85",
                                    "Eltérés": "1082"
                                },
                                {
                                    "stilus": "festészet",
                                    "Szórás": "717,01",
                                    "Eltérés": "1014"
                                },
                                {
                                    "stilus": "filmtörténet",
                                    "Szórás": "753,78",
                                    "Eltérés": "1066"
                                },
                                {
                                    "stilus": "irodalom",
                                    "Szórás": "778,08",
                                    "Eltérés": "2263"
                                },
                                {
                                    "stilus": "zene",
                                    "Szórás": "824,88",
                                    "Eltérés": "2339"
                                },
                                {
                                    "stilus": "játék (autóverseny)",
                                    "Szórás": "826,34",
                                    "Eltérés": "1899"
                                },
                                {
                                    "stilus": "történelem",
                                    "Szórás": "841,66",
                                    "Eltérés": "2962"
                                },
                                {
                                    "stilus": "játék",
                                    "Szórás": "842,01",
                                    "Eltérés": "2968"
                                },
                                {
                                    "stilus": "játék (labdarúgás)",
                                    "Szórás": "851,62",
                                    "Eltérés": "1651"
                                },
                                {
                                    "stilus": "biológia",
                                    "Szórás": "868,99",
                                    "Eltérés": "2061"
                                }
                            ]
                        },
                        "text/html": [
                            "<table>",
                            "<tr><th>stilus</th><th>Szórás</th><th>Eltérés</th></tr>",
                            "<tr><td>állattan</td><td>562,85</td><td>1082</td></tr>",
                            "<tr><td>festészet</td><td>717,01</td><td>1014</td></tr>",
                            "<tr><td>filmtörténet</td><td>753,78</td><td>1066</td></tr>",
                            "<tr><td>irodalom</td><td>778,08</td><td>2263</td></tr>",
                            "<tr><td>zene</td><td>824,88</td><td>2339</td></tr>",
                            "<tr><td>játék (autóverseny)</td><td>826,34</td><td>1899</td></tr>",
                            "<tr><td>történelem</td><td>841,66</td><td>2962</td></tr>",
                            "<tr><td>játék</td><td>842,01</td><td>2968</td></tr>",
                            "<tr><td>játék (labdarúgás)</td><td>851,62</td><td>1651</td></tr>",
                            "<tr><td>biológia</td><td>868,99</td><td>2061</td></tr>",
                            "</table>"
                        ]
                    }
                }
            ],
            "execution_count": 10
        },
        {
            "cell_type": "markdown",
            "source": [
                "**Melyik stílus hány ember kedvence**"
            ],
            "metadata": {
                "language": "sql",
                "azdata_cell_guid": "3f32a5fb-db48-4b58-ad4b-ff7dc24d0a8f"
            },
            "attachments": {}
        },
        {
            "cell_type": "code",
            "source": [
                "SELECT kedvencstilus as 'Kedvenc stílus',count(id) as 'Darabszám'\r\n",
                "FROM tagok\r\n",
                "GROUP BY kedvencstilus"
            ],
            "metadata": {
                "language": "sql",
                "azdata_cell_guid": "49a4cde5-bd52-443a-a5fd-7a254597e816"
            },
            "outputs": [
                {
                    "output_type": "display_data",
                    "data": {
                        "text/html": "(4 rows affected)"
                    },
                    "metadata": {}
                },
                {
                    "output_type": "display_data",
                    "data": {
                        "text/html": "Total execution time: 00:00:00.030"
                    },
                    "metadata": {}
                },
                {
                    "output_type": "execute_result",
                    "metadata": {},
                    "execution_count": 9,
                    "data": {
                        "application/vnd.dataresource+json": {
                            "schema": {
                                "fields": [
                                    {
                                        "name": "Kedvenc stílus"
                                    },
                                    {
                                        "name": "Darabszám"
                                    }
                                ]
                            },
                            "data": [
                                {
                                    "Kedvenc stílus": "földrajz",
                                    "Darabszám": "4"
                                },
                                {
                                    "Kedvenc stílus": "játék",
                                    "Darabszám": "4"
                                },
                                {
                                    "Kedvenc stílus": "sport",
                                    "Darabszám": "5"
                                },
                                {
                                    "Kedvenc stílus": "történelem",
                                    "Darabszám": "4"
                                }
                            ]
                        },
                        "text/html": [
                            "<table>",
                            "<tr><th>Kedvenc stílus</th><th>Darabszám</th></tr>",
                            "<tr><td>földrajz</td><td>4</td></tr>",
                            "<tr><td>játék</td><td>4</td></tr>",
                            "<tr><td>sport</td><td>5</td></tr>",
                            "<tr><td>történelem</td><td>4</td></tr>",
                            "</table>"
                        ]
                    }
                }
            ],
            "execution_count": 9
        },
        {
            "cell_type": "markdown",
            "source": [
                "![](data:image/png;base64,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)"
            ],
            "metadata": {
                "language": "sql",
                "azdata_cell_guid": "2aa30519-629e-41c8-ad25-945908744bbd"
            },
            "attachments": {}
        },
        {
            "cell_type": "markdown",
            "source": [
                "**Tagok nevének hosszának aggregált függvényei**"
            ],
            "metadata": {
                "language": "sql",
                "azdata_cell_guid": "1010b453-8a52-4f7b-9187-34e985276f01"
            },
            "attachments": {}
        },
        {
            "cell_type": "code",
            "source": [
                "SELECT AVG(LEN(nev)) as 'Átlagos hossz',\r\n",
                "        MAX(Len(nev)) as 'Maximális hossz', \r\n",
                "        min(len(nev)) as 'Minimális hossz', \r\n",
                "        Round(stdev(len(nev)),0) as 'Hosszok szórása egészre kerekítve'\r\n",
                "FROM tagok"
            ],
            "metadata": {
                "language": "sql",
                "azdata_cell_guid": "65efcbc2-ebf4-4d3b-a118-3ea612eb8120",
                "tags": []
            },
            "outputs": [
                {
                    "output_type": "display_data",
                    "data": {
                        "text/html": "(1 row affected)"
                    },
                    "metadata": {}
                },
                {
                    "output_type": "display_data",
                    "data": {
                        "text/html": "Total execution time: 00:00:00.018"
                    },
                    "metadata": {}
                },
                {
                    "output_type": "execute_result",
                    "metadata": {},
                    "execution_count": 8,
                    "data": {
                        "application/vnd.dataresource+json": {
                            "schema": {
                                "fields": [
                                    {
                                        "name": "Átlagos hossz"
                                    },
                                    {
                                        "name": "Maximális hossz"
                                    },
                                    {
                                        "name": "Minimális hossz"
                                    },
                                    {
                                        "name": "Hosszok szórása egészre kerekítve"
                                    }
                                ]
                            },
                            "data": [
                                {
                                    "Átlagos hossz": "14",
                                    "Maximális hossz": "23",
                                    "Minimális hossz": "10",
                                    "Hosszok szórása egészre kerekítve": "3"
                                }
                            ]
                        },
                        "text/html": [
                            "<table>",
                            "<tr><th>Átlagos hossz</th><th>Maximális hossz</th><th>Minimális hossz</th><th>Hosszok szórása egészre kerekítve</th></tr>",
                            "<tr><td>14</td><td>23</td><td>10</td><td>3</td></tr>",
                            "</table>"
                        ]
                    }
                }
            ],
            "execution_count": 8
        },
        {
            "cell_type": "markdown",
            "source": [
                "![](data:image/png;base64,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)"
            ],
            "metadata": {
                "language": "sql",
                "azdata_cell_guid": "4abe54be-7237-4a2b-b0b7-50167cbbc598"
            },
            "attachments": {}
        }
    ]
}