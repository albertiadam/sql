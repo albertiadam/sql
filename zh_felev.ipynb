{
    "cells": [
        {
            "attachments": {},
            "cell_type": "markdown",
            "metadata": {
                "azdata_cell_guid": "de6d8ba0-3ff3-494a-963e-5cac4a7667f1"
            },
            "source": [
                "**ZH felev**"
            ]
        },
        {
            "attachments": {},
            "cell_type": "markdown",
            "metadata": {
                "azdata_cell_guid": "1a0c7781-68a3-4214-860c-6b4692a16a0b",
                "language": "sql"
            },
            "source": [
                "1\\. feladat"
            ]
        },
        {
            "cell_type": "code",
            "execution_count": 1,
            "metadata": {
                "azdata_cell_guid": "81df08d3-b588-4870-86be-a1312507126e",
                "language": "sql",
                "tags": []
            },
            "outputs": [
                {
                    "data": {
                        "text/html": [
                            "(294 rows affected)"
                        ]
                    },
                    "metadata": {},
                    "output_type": "display_data"
                },
                {
                    "data": {
                        "text/html": [
                            "Total execution time: 00:00:00.052"
                        ]
                    },
                    "metadata": {},
                    "output_type": "display_data"
                },
                {
                    "data": {
                        "application/vnd.dataresource+json": {
                            "data": [
                                {
                                    "(No column name)": "8",
                                    "szoba_id": "1"
                                },
                                {
                                    "(No column name)": "4",
                                    "szoba_id": "2"
                                },
                                {
                                    "(No column name)": "8",
                                    "szoba_id": "3"
                                },
                                {
                                    "(No column name)": "6",
                                    "szoba_id": "4"
                                },
                                {
                                    "(No column name)": "4",
                                    "szoba_id": "5"
                                },
                                {
                                    "(No column name)": "6",
                                    "szoba_id": "6"
                                },
                                {
                                    "(No column name)": "6",
                                    "szoba_id": "7"
                                },
                                {
                                    "(No column name)": "5",
                                    "szoba_id": "8"
                                },
                                {
                                    "(No column name)": "6",
                                    "szoba_id": "9"
                                },
                                {
                                    "(No column name)": "4",
                                    "szoba_id": "10"
                                },
                                {
                                    "(No column name)": "4",
                                    "szoba_id": "11"
                                },
                                {
                                    "(No column name)": "9",
                                    "szoba_id": "12"
                                },
                                {
                                    "(No column name)": "4",
                                    "szoba_id": "13"
                                },
                                {
                                    "(No column name)": "3",
                                    "szoba_id": "14"
                                },
                                {
                                    "(No column name)": "6",
                                    "szoba_id": "15"
                                },
                                {
                                    "(No column name)": "5",
                                    "szoba_id": "16"
                                },
                                {
                                    "(No column name)": "6",
                                    "szoba_id": "17"
                                },
                                {
                                    "(No column name)": "6",
                                    "szoba_id": "18"
                                },
                                {
                                    "(No column name)": "6",
                                    "szoba_id": "19"
                                },
                                {
                                    "(No column name)": "5",
                                    "szoba_id": "20"
                                },
                                {
                                    "(No column name)": "4",
                                    "szoba_id": "21"
                                },
                                {
                                    "(No column name)": "6",
                                    "szoba_id": "22"
                                },
                                {
                                    "(No column name)": "3",
                                    "szoba_id": "23"
                                },
                                {
                                    "(No column name)": "3",
                                    "szoba_id": "24"
                                },
                                {
                                    "(No column name)": "2",
                                    "szoba_id": "25"
                                },
                                {
                                    "(No column name)": "2",
                                    "szoba_id": "26"
                                },
                                {
                                    "(No column name)": "7",
                                    "szoba_id": "27"
                                },
                                {
                                    "(No column name)": "6",
                                    "szoba_id": "28"
                                },
                                {
                                    "(No column name)": "6",
                                    "szoba_id": "29"
                                },
                                {
                                    "(No column name)": "3",
                                    "szoba_id": "30"
                                },
                                {
                                    "(No column name)": "3",
                                    "szoba_id": "31"
                                },
                                {
                                    "(No column name)": "1",
                                    "szoba_id": "32"
                                },
                                {
                                    "(No column name)": "6",
                                    "szoba_id": "33"
                                },
                                {
                                    "(No column name)": "4",
                                    "szoba_id": "34"
                                },
                                {
                                    "(No column name)": "9",
                                    "szoba_id": "35"
                                },
                                {
                                    "(No column name)": "6",
                                    "szoba_id": "36"
                                },
                                {
                                    "(No column name)": "3",
                                    "szoba_id": "37"
                                },
                                {
                                    "(No column name)": "8",
                                    "szoba_id": "38"
                                },
                                {
                                    "(No column name)": "7",
                                    "szoba_id": "39"
                                },
                                {
                                    "(No column name)": "4",
                                    "szoba_id": "40"
                                },
                                {
                                    "(No column name)": "2",
                                    "szoba_id": "41"
                                },
                                {
                                    "(No column name)": "6",
                                    "szoba_id": "42"
                                },
                                {
                                    "(No column name)": "8",
                                    "szoba_id": "43"
                                },
                                {
                                    "(No column name)": "6",
                                    "szoba_id": "44"
                                },
                                {
                                    "(No column name)": "5",
                                    "szoba_id": "45"
                                },
                                {
                                    "(No column name)": "4",
                                    "szoba_id": "46"
                                },
                                {
                                    "(No column name)": "2",
                                    "szoba_id": "47"
                                },
                                {
                                    "(No column name)": "9",
                                    "szoba_id": "48"
                                },
                                {
                                    "(No column name)": "7",
                                    "szoba_id": "49"
                                },
                                {
                                    "(No column name)": "4",
                                    "szoba_id": "50"
                                },
                                {
                                    "(No column name)": "5",
                                    "szoba_id": "51"
                                },
                                {
                                    "(No column name)": "5",
                                    "szoba_id": "52"
                                },
                                {
                                    "(No column name)": "2",
                                    "szoba_id": "53"
                                },
                                {
                                    "(No column name)": "6",
                                    "szoba_id": "54"
                                },
                                {
                                    "(No column name)": "8",
                                    "szoba_id": "55"
                                },
                                {
                                    "(No column name)": "2",
                                    "szoba_id": "56"
                                },
                                {
                                    "(No column name)": "4",
                                    "szoba_id": "57"
                                },
                                {
                                    "(No column name)": "13",
                                    "szoba_id": "58"
                                },
                                {
                                    "(No column name)": "7",
                                    "szoba_id": "59"
                                },
                                {
                                    "(No column name)": "1",
                                    "szoba_id": "60"
                                },
                                {
                                    "(No column name)": "5",
                                    "szoba_id": "61"
                                },
                                {
                                    "(No column name)": "5",
                                    "szoba_id": "62"
                                },
                                {
                                    "(No column name)": "4",
                                    "szoba_id": "63"
                                },
                                {
                                    "(No column name)": "6",
                                    "szoba_id": "64"
                                },
                                {
                                    "(No column name)": "1",
                                    "szoba_id": "65"
                                },
                                {
                                    "(No column name)": "4",
                                    "szoba_id": "66"
                                },
                                {
                                    "(No column name)": "6",
                                    "szoba_id": "67"
                                },
                                {
                                    "(No column name)": "3",
                                    "szoba_id": "68"
                                },
                                {
                                    "(No column name)": "4",
                                    "szoba_id": "69"
                                },
                                {
                                    "(No column name)": "11",
                                    "szoba_id": "70"
                                },
                                {
                                    "(No column name)": "3",
                                    "szoba_id": "71"
                                },
                                {
                                    "(No column name)": "4",
                                    "szoba_id": "72"
                                },
                                {
                                    "(No column name)": "4",
                                    "szoba_id": "73"
                                },
                                {
                                    "(No column name)": "9",
                                    "szoba_id": "74"
                                },
                                {
                                    "(No column name)": "3",
                                    "szoba_id": "75"
                                },
                                {
                                    "(No column name)": "3",
                                    "szoba_id": "76"
                                },
                                {
                                    "(No column name)": "6",
                                    "szoba_id": "77"
                                },
                                {
                                    "(No column name)": "6",
                                    "szoba_id": "78"
                                },
                                {
                                    "(No column name)": "5",
                                    "szoba_id": "79"
                                },
                                {
                                    "(No column name)": "7",
                                    "szoba_id": "80"
                                },
                                {
                                    "(No column name)": "5",
                                    "szoba_id": "81"
                                },
                                {
                                    "(No column name)": "6",
                                    "szoba_id": "82"
                                },
                                {
                                    "(No column name)": "8",
                                    "szoba_id": "83"
                                },
                                {
                                    "(No column name)": "4",
                                    "szoba_id": "84"
                                },
                                {
                                    "(No column name)": "4",
                                    "szoba_id": "85"
                                },
                                {
                                    "(No column name)": "5",
                                    "szoba_id": "86"
                                },
                                {
                                    "(No column name)": "5",
                                    "szoba_id": "87"
                                },
                                {
                                    "(No column name)": "8",
                                    "szoba_id": "88"
                                },
                                {
                                    "(No column name)": "8",
                                    "szoba_id": "89"
                                },
                                {
                                    "(No column name)": "4",
                                    "szoba_id": "90"
                                },
                                {
                                    "(No column name)": "4",
                                    "szoba_id": "91"
                                },
                                {
                                    "(No column name)": "6",
                                    "szoba_id": "92"
                                },
                                {
                                    "(No column name)": "5",
                                    "szoba_id": "93"
                                },
                                {
                                    "(No column name)": "10",
                                    "szoba_id": "94"
                                },
                                {
                                    "(No column name)": "4",
                                    "szoba_id": "95"
                                },
                                {
                                    "(No column name)": "7",
                                    "szoba_id": "96"
                                },
                                {
                                    "(No column name)": "7",
                                    "szoba_id": "97"
                                },
                                {
                                    "(No column name)": "4",
                                    "szoba_id": "98"
                                },
                                {
                                    "(No column name)": "5",
                                    "szoba_id": "99"
                                },
                                {
                                    "(No column name)": "4",
                                    "szoba_id": "100"
                                },
                                {
                                    "(No column name)": "3",
                                    "szoba_id": "101"
                                },
                                {
                                    "(No column name)": "2",
                                    "szoba_id": "102"
                                },
                                {
                                    "(No column name)": "4",
                                    "szoba_id": "103"
                                },
                                {
                                    "(No column name)": "4",
                                    "szoba_id": "104"
                                },
                                {
                                    "(No column name)": "2",
                                    "szoba_id": "105"
                                },
                                {
                                    "(No column name)": "6",
                                    "szoba_id": "106"
                                },
                                {
                                    "(No column name)": "5",
                                    "szoba_id": "107"
                                },
                                {
                                    "(No column name)": "2",
                                    "szoba_id": "108"
                                },
                                {
                                    "(No column name)": "7",
                                    "szoba_id": "109"
                                },
                                {
                                    "(No column name)": "8",
                                    "szoba_id": "110"
                                },
                                {
                                    "(No column name)": "5",
                                    "szoba_id": "111"
                                },
                                {
                                    "(No column name)": "5",
                                    "szoba_id": "112"
                                },
                                {
                                    "(No column name)": "5",
                                    "szoba_id": "113"
                                },
                                {
                                    "(No column name)": "4",
                                    "szoba_id": "114"
                                },
                                {
                                    "(No column name)": "7",
                                    "szoba_id": "115"
                                },
                                {
                                    "(No column name)": "2",
                                    "szoba_id": "116"
                                },
                                {
                                    "(No column name)": "8",
                                    "szoba_id": "117"
                                },
                                {
                                    "(No column name)": "7",
                                    "szoba_id": "118"
                                },
                                {
                                    "(No column name)": "5",
                                    "szoba_id": "119"
                                },
                                {
                                    "(No column name)": "6",
                                    "szoba_id": "120"
                                },
                                {
                                    "(No column name)": "8",
                                    "szoba_id": "121"
                                },
                                {
                                    "(No column name)": "9",
                                    "szoba_id": "122"
                                },
                                {
                                    "(No column name)": "5",
                                    "szoba_id": "123"
                                },
                                {
                                    "(No column name)": "6",
                                    "szoba_id": "124"
                                },
                                {
                                    "(No column name)": "1",
                                    "szoba_id": "125"
                                },
                                {
                                    "(No column name)": "6",
                                    "szoba_id": "126"
                                },
                                {
                                    "(No column name)": "7",
                                    "szoba_id": "127"
                                },
                                {
                                    "(No column name)": "5",
                                    "szoba_id": "128"
                                },
                                {
                                    "(No column name)": "4",
                                    "szoba_id": "129"
                                },
                                {
                                    "(No column name)": "6",
                                    "szoba_id": "130"
                                },
                                {
                                    "(No column name)": "5",
                                    "szoba_id": "131"
                                },
                                {
                                    "(No column name)": "6",
                                    "szoba_id": "132"
                                },
                                {
                                    "(No column name)": "6",
                                    "szoba_id": "133"
                                },
                                {
                                    "(No column name)": "6",
                                    "szoba_id": "134"
                                },
                                {
                                    "(No column name)": "3",
                                    "szoba_id": "135"
                                },
                                {
                                    "(No column name)": "3",
                                    "szoba_id": "136"
                                },
                                {
                                    "(No column name)": "6",
                                    "szoba_id": "137"
                                },
                                {
                                    "(No column name)": "7",
                                    "szoba_id": "138"
                                },
                                {
                                    "(No column name)": "7",
                                    "szoba_id": "139"
                                },
                                {
                                    "(No column name)": "8",
                                    "szoba_id": "140"
                                },
                                {
                                    "(No column name)": "6",
                                    "szoba_id": "141"
                                },
                                {
                                    "(No column name)": "2",
                                    "szoba_id": "142"
                                },
                                {
                                    "(No column name)": "7",
                                    "szoba_id": "143"
                                },
                                {
                                    "(No column name)": "5",
                                    "szoba_id": "144"
                                },
                                {
                                    "(No column name)": "6",
                                    "szoba_id": "145"
                                },
                                {
                                    "(No column name)": "6",
                                    "szoba_id": "146"
                                },
                                {
                                    "(No column name)": "1",
                                    "szoba_id": "147"
                                },
                                {
                                    "(No column name)": "6",
                                    "szoba_id": "148"
                                },
                                {
                                    "(No column name)": "7",
                                    "szoba_id": "149"
                                },
                                {
                                    "(No column name)": "6",
                                    "szoba_id": "150"
                                },
                                {
                                    "(No column name)": "3",
                                    "szoba_id": "151"
                                },
                                {
                                    "(No column name)": "4",
                                    "szoba_id": "152"
                                },
                                {
                                    "(No column name)": "5",
                                    "szoba_id": "153"
                                },
                                {
                                    "(No column name)": "5",
                                    "szoba_id": "154"
                                },
                                {
                                    "(No column name)": "5",
                                    "szoba_id": "155"
                                },
                                {
                                    "(No column name)": "7",
                                    "szoba_id": "156"
                                },
                                {
                                    "(No column name)": "5",
                                    "szoba_id": "157"
                                },
                                {
                                    "(No column name)": "3",
                                    "szoba_id": "158"
                                },
                                {
                                    "(No column name)": "0",
                                    "szoba_id": "159"
                                },
                                {
                                    "(No column name)": "5",
                                    "szoba_id": "160"
                                },
                                {
                                    "(No column name)": "6",
                                    "szoba_id": "161"
                                },
                                {
                                    "(No column name)": "3",
                                    "szoba_id": "162"
                                },
                                {
                                    "(No column name)": "7",
                                    "szoba_id": "163"
                                },
                                {
                                    "(No column name)": "5",
                                    "szoba_id": "164"
                                },
                                {
                                    "(No column name)": "7",
                                    "szoba_id": "165"
                                },
                                {
                                    "(No column name)": "3",
                                    "szoba_id": "166"
                                },
                                {
                                    "(No column name)": "2",
                                    "szoba_id": "167"
                                },
                                {
                                    "(No column name)": "5",
                                    "szoba_id": "168"
                                },
                                {
                                    "(No column name)": "6",
                                    "szoba_id": "169"
                                },
                                {
                                    "(No column name)": "5",
                                    "szoba_id": "170"
                                },
                                {
                                    "(No column name)": "5",
                                    "szoba_id": "171"
                                },
                                {
                                    "(No column name)": "9",
                                    "szoba_id": "172"
                                },
                                {
                                    "(No column name)": "4",
                                    "szoba_id": "173"
                                },
                                {
                                    "(No column name)": "4",
                                    "szoba_id": "174"
                                },
                                {
                                    "(No column name)": "5",
                                    "szoba_id": "175"
                                },
                                {
                                    "(No column name)": "6",
                                    "szoba_id": "176"
                                },
                                {
                                    "(No column name)": "4",
                                    "szoba_id": "177"
                                },
                                {
                                    "(No column name)": "4",
                                    "szoba_id": "178"
                                },
                                {
                                    "(No column name)": "3",
                                    "szoba_id": "179"
                                },
                                {
                                    "(No column name)": "3",
                                    "szoba_id": "180"
                                },
                                {
                                    "(No column name)": "6",
                                    "szoba_id": "181"
                                },
                                {
                                    "(No column name)": "12",
                                    "szoba_id": "182"
                                },
                                {
                                    "(No column name)": "4",
                                    "szoba_id": "183"
                                },
                                {
                                    "(No column name)": "4",
                                    "szoba_id": "184"
                                },
                                {
                                    "(No column name)": "12",
                                    "szoba_id": "185"
                                },
                                {
                                    "(No column name)": "4",
                                    "szoba_id": "186"
                                },
                                {
                                    "(No column name)": "7",
                                    "szoba_id": "187"
                                },
                                {
                                    "(No column name)": "6",
                                    "szoba_id": "188"
                                },
                                {
                                    "(No column name)": "5",
                                    "szoba_id": "189"
                                },
                                {
                                    "(No column name)": "5",
                                    "szoba_id": "190"
                                },
                                {
                                    "(No column name)": "5",
                                    "szoba_id": "191"
                                },
                                {
                                    "(No column name)": "2",
                                    "szoba_id": "192"
                                },
                                {
                                    "(No column name)": "7",
                                    "szoba_id": "193"
                                },
                                {
                                    "(No column name)": "1",
                                    "szoba_id": "194"
                                },
                                {
                                    "(No column name)": "6",
                                    "szoba_id": "195"
                                },
                                {
                                    "(No column name)": "4",
                                    "szoba_id": "196"
                                },
                                {
                                    "(No column name)": "6",
                                    "szoba_id": "197"
                                },
                                {
                                    "(No column name)": "8",
                                    "szoba_id": "198"
                                },
                                {
                                    "(No column name)": "0",
                                    "szoba_id": "199"
                                },
                                {
                                    "(No column name)": "0",
                                    "szoba_id": "200"
                                },
                                {
                                    "(No column name)": "0",
                                    "szoba_id": "201"
                                },
                                {
                                    "(No column name)": "0",
                                    "szoba_id": "202"
                                },
                                {
                                    "(No column name)": "0",
                                    "szoba_id": "203"
                                },
                                {
                                    "(No column name)": "0",
                                    "szoba_id": "204"
                                },
                                {
                                    "(No column name)": "0",
                                    "szoba_id": "205"
                                },
                                {
                                    "(No column name)": "0",
                                    "szoba_id": "206"
                                },
                                {
                                    "(No column name)": "0",
                                    "szoba_id": "207"
                                },
                                {
                                    "(No column name)": "0",
                                    "szoba_id": "208"
                                },
                                {
                                    "(No column name)": "0",
                                    "szoba_id": "209"
                                },
                                {
                                    "(No column name)": "0",
                                    "szoba_id": "210"
                                },
                                {
                                    "(No column name)": "0",
                                    "szoba_id": "211"
                                },
                                {
                                    "(No column name)": "0",
                                    "szoba_id": "212"
                                },
                                {
                                    "(No column name)": "0",
                                    "szoba_id": "213"
                                },
                                {
                                    "(No column name)": "0",
                                    "szoba_id": "214"
                                },
                                {
                                    "(No column name)": "0",
                                    "szoba_id": "215"
                                },
                                {
                                    "(No column name)": "0",
                                    "szoba_id": "216"
                                },
                                {
                                    "(No column name)": "0",
                                    "szoba_id": "217"
                                },
                                {
                                    "(No column name)": "0",
                                    "szoba_id": "218"
                                },
                                {
                                    "(No column name)": "0",
                                    "szoba_id": "219"
                                },
                                {
                                    "(No column name)": "0",
                                    "szoba_id": "220"
                                },
                                {
                                    "(No column name)": "0",
                                    "szoba_id": "221"
                                },
                                {
                                    "(No column name)": "0",
                                    "szoba_id": "222"
                                },
                                {
                                    "(No column name)": "0",
                                    "szoba_id": "223"
                                },
                                {
                                    "(No column name)": "0",
                                    "szoba_id": "224"
                                },
                                {
                                    "(No column name)": "0",
                                    "szoba_id": "225"
                                },
                                {
                                    "(No column name)": "0",
                                    "szoba_id": "226"
                                },
                                {
                                    "(No column name)": "0",
                                    "szoba_id": "227"
                                },
                                {
                                    "(No column name)": "0",
                                    "szoba_id": "228"
                                },
                                {
                                    "(No column name)": "0",
                                    "szoba_id": "229"
                                },
                                {
                                    "(No column name)": "0",
                                    "szoba_id": "230"
                                },
                                {
                                    "(No column name)": "0",
                                    "szoba_id": "231"
                                },
                                {
                                    "(No column name)": "0",
                                    "szoba_id": "232"
                                },
                                {
                                    "(No column name)": "0",
                                    "szoba_id": "233"
                                },
                                {
                                    "(No column name)": "0",
                                    "szoba_id": "234"
                                },
                                {
                                    "(No column name)": "0",
                                    "szoba_id": "235"
                                },
                                {
                                    "(No column name)": "0",
                                    "szoba_id": "236"
                                },
                                {
                                    "(No column name)": "0",
                                    "szoba_id": "237"
                                },
                                {
                                    "(No column name)": "0",
                                    "szoba_id": "238"
                                },
                                {
                                    "(No column name)": "0",
                                    "szoba_id": "239"
                                },
                                {
                                    "(No column name)": "0",
                                    "szoba_id": "240"
                                },
                                {
                                    "(No column name)": "0",
                                    "szoba_id": "241"
                                },
                                {
                                    "(No column name)": "0",
                                    "szoba_id": "242"
                                },
                                {
                                    "(No column name)": "0",
                                    "szoba_id": "243"
                                },
                                {
                                    "(No column name)": "0",
                                    "szoba_id": "244"
                                },
                                {
                                    "(No column name)": "0",
                                    "szoba_id": "245"
                                },
                                {
                                    "(No column name)": "0",
                                    "szoba_id": "246"
                                },
                                {
                                    "(No column name)": "0",
                                    "szoba_id": "247"
                                },
                                {
                                    "(No column name)": "0",
                                    "szoba_id": "248"
                                },
                                {
                                    "(No column name)": "0",
                                    "szoba_id": "249"
                                },
                                {
                                    "(No column name)": "0",
                                    "szoba_id": "250"
                                },
                                {
                                    "(No column name)": "0",
                                    "szoba_id": "251"
                                },
                                {
                                    "(No column name)": "0",
                                    "szoba_id": "252"
                                },
                                {
                                    "(No column name)": "0",
                                    "szoba_id": "253"
                                },
                                {
                                    "(No column name)": "0",
                                    "szoba_id": "254"
                                },
                                {
                                    "(No column name)": "0",
                                    "szoba_id": "255"
                                },
                                {
                                    "(No column name)": "0",
                                    "szoba_id": "256"
                                },
                                {
                                    "(No column name)": "0",
                                    "szoba_id": "257"
                                },
                                {
                                    "(No column name)": "0",
                                    "szoba_id": "258"
                                },
                                {
                                    "(No column name)": "0",
                                    "szoba_id": "259"
                                },
                                {
                                    "(No column name)": "0",
                                    "szoba_id": "260"
                                },
                                {
                                    "(No column name)": "0",
                                    "szoba_id": "261"
                                },
                                {
                                    "(No column name)": "0",
                                    "szoba_id": "262"
                                },
                                {
                                    "(No column name)": "0",
                                    "szoba_id": "263"
                                },
                                {
                                    "(No column name)": "0",
                                    "szoba_id": "264"
                                },
                                {
                                    "(No column name)": "0",
                                    "szoba_id": "265"
                                },
                                {
                                    "(No column name)": "0",
                                    "szoba_id": "266"
                                },
                                {
                                    "(No column name)": "0",
                                    "szoba_id": "267"
                                },
                                {
                                    "(No column name)": "0",
                                    "szoba_id": "268"
                                },
                                {
                                    "(No column name)": "0",
                                    "szoba_id": "269"
                                },
                                {
                                    "(No column name)": "0",
                                    "szoba_id": "270"
                                },
                                {
                                    "(No column name)": "0",
                                    "szoba_id": "271"
                                },
                                {
                                    "(No column name)": "0",
                                    "szoba_id": "272"
                                },
                                {
                                    "(No column name)": "0",
                                    "szoba_id": "273"
                                },
                                {
                                    "(No column name)": "0",
                                    "szoba_id": "274"
                                },
                                {
                                    "(No column name)": "0",
                                    "szoba_id": "275"
                                },
                                {
                                    "(No column name)": "0",
                                    "szoba_id": "276"
                                },
                                {
                                    "(No column name)": "0",
                                    "szoba_id": "277"
                                },
                                {
                                    "(No column name)": "0",
                                    "szoba_id": "278"
                                },
                                {
                                    "(No column name)": "0",
                                    "szoba_id": "279"
                                },
                                {
                                    "(No column name)": "0",
                                    "szoba_id": "280"
                                },
                                {
                                    "(No column name)": "0",
                                    "szoba_id": "281"
                                },
                                {
                                    "(No column name)": "0",
                                    "szoba_id": "282"
                                },
                                {
                                    "(No column name)": "0",
                                    "szoba_id": "283"
                                },
                                {
                                    "(No column name)": "0",
                                    "szoba_id": "284"
                                },
                                {
                                    "(No column name)": "0",
                                    "szoba_id": "285"
                                },
                                {
                                    "(No column name)": "0",
                                    "szoba_id": "286"
                                },
                                {
                                    "(No column name)": "0",
                                    "szoba_id": "287"
                                },
                                {
                                    "(No column name)": "0",
                                    "szoba_id": "288"
                                },
                                {
                                    "(No column name)": "0",
                                    "szoba_id": "289"
                                },
                                {
                                    "(No column name)": "0",
                                    "szoba_id": "290"
                                },
                                {
                                    "(No column name)": "0",
                                    "szoba_id": "291"
                                },
                                {
                                    "(No column name)": "0",
                                    "szoba_id": "292"
                                },
                                {
                                    "(No column name)": "0",
                                    "szoba_id": "293"
                                },
                                {
                                    "(No column name)": "0",
                                    "szoba_id": "294"
                                }
                            ],
                            "schema": {
                                "fields": [
                                    {
                                        "name": "szoba_id"
                                    },
                                    {
                                        "name": "(No column name)"
                                    }
                                ]
                            }
                        },
                        "text/html": [
                            "<table>\n",
                            "<tr><th>szoba_id</th><th>(No column name)</th></tr>\n",
                            "<tr><td>1</td><td>8</td></tr>\n",
                            "<tr><td>2</td><td>4</td></tr>\n",
                            "<tr><td>3</td><td>8</td></tr>\n",
                            "<tr><td>4</td><td>6</td></tr>\n",
                            "<tr><td>5</td><td>4</td></tr>\n",
                            "<tr><td>6</td><td>6</td></tr>\n",
                            "<tr><td>7</td><td>6</td></tr>\n",
                            "<tr><td>8</td><td>5</td></tr>\n",
                            "<tr><td>9</td><td>6</td></tr>\n",
                            "<tr><td>10</td><td>4</td></tr>\n",
                            "<tr><td>11</td><td>4</td></tr>\n",
                            "<tr><td>12</td><td>9</td></tr>\n",
                            "<tr><td>13</td><td>4</td></tr>\n",
                            "<tr><td>14</td><td>3</td></tr>\n",
                            "<tr><td>15</td><td>6</td></tr>\n",
                            "<tr><td>16</td><td>5</td></tr>\n",
                            "<tr><td>17</td><td>6</td></tr>\n",
                            "<tr><td>18</td><td>6</td></tr>\n",
                            "<tr><td>19</td><td>6</td></tr>\n",
                            "<tr><td>20</td><td>5</td></tr>\n",
                            "<tr><td>21</td><td>4</td></tr>\n",
                            "<tr><td>22</td><td>6</td></tr>\n",
                            "<tr><td>23</td><td>3</td></tr>\n",
                            "<tr><td>24</td><td>3</td></tr>\n",
                            "<tr><td>25</td><td>2</td></tr>\n",
                            "<tr><td>26</td><td>2</td></tr>\n",
                            "<tr><td>27</td><td>7</td></tr>\n",
                            "<tr><td>28</td><td>6</td></tr>\n",
                            "<tr><td>29</td><td>6</td></tr>\n",
                            "<tr><td>30</td><td>3</td></tr>\n",
                            "<tr><td>31</td><td>3</td></tr>\n",
                            "<tr><td>32</td><td>1</td></tr>\n",
                            "<tr><td>33</td><td>6</td></tr>\n",
                            "<tr><td>34</td><td>4</td></tr>\n",
                            "<tr><td>35</td><td>9</td></tr>\n",
                            "<tr><td>36</td><td>6</td></tr>\n",
                            "<tr><td>37</td><td>3</td></tr>\n",
                            "<tr><td>38</td><td>8</td></tr>\n",
                            "<tr><td>39</td><td>7</td></tr>\n",
                            "<tr><td>40</td><td>4</td></tr>\n",
                            "<tr><td>41</td><td>2</td></tr>\n",
                            "<tr><td>42</td><td>6</td></tr>\n",
                            "<tr><td>43</td><td>8</td></tr>\n",
                            "<tr><td>44</td><td>6</td></tr>\n",
                            "<tr><td>45</td><td>5</td></tr>\n",
                            "<tr><td>46</td><td>4</td></tr>\n",
                            "<tr><td>47</td><td>2</td></tr>\n",
                            "<tr><td>48</td><td>9</td></tr>\n",
                            "<tr><td>49</td><td>7</td></tr>\n",
                            "<tr><td>50</td><td>4</td></tr>\n",
                            "<tr><td>51</td><td>5</td></tr>\n",
                            "<tr><td>52</td><td>5</td></tr>\n",
                            "<tr><td>53</td><td>2</td></tr>\n",
                            "<tr><td>54</td><td>6</td></tr>\n",
                            "<tr><td>55</td><td>8</td></tr>\n",
                            "<tr><td>56</td><td>2</td></tr>\n",
                            "<tr><td>57</td><td>4</td></tr>\n",
                            "<tr><td>58</td><td>13</td></tr>\n",
                            "<tr><td>59</td><td>7</td></tr>\n",
                            "<tr><td>60</td><td>1</td></tr>\n",
                            "<tr><td>61</td><td>5</td></tr>\n",
                            "<tr><td>62</td><td>5</td></tr>\n",
                            "<tr><td>63</td><td>4</td></tr>\n",
                            "<tr><td>64</td><td>6</td></tr>\n",
                            "<tr><td>65</td><td>1</td></tr>\n",
                            "<tr><td>66</td><td>4</td></tr>\n",
                            "<tr><td>67</td><td>6</td></tr>\n",
                            "<tr><td>68</td><td>3</td></tr>\n",
                            "<tr><td>69</td><td>4</td></tr>\n",
                            "<tr><td>70</td><td>11</td></tr>\n",
                            "<tr><td>71</td><td>3</td></tr>\n",
                            "<tr><td>72</td><td>4</td></tr>\n",
                            "<tr><td>73</td><td>4</td></tr>\n",
                            "<tr><td>74</td><td>9</td></tr>\n",
                            "<tr><td>75</td><td>3</td></tr>\n",
                            "<tr><td>76</td><td>3</td></tr>\n",
                            "<tr><td>77</td><td>6</td></tr>\n",
                            "<tr><td>78</td><td>6</td></tr>\n",
                            "<tr><td>79</td><td>5</td></tr>\n",
                            "<tr><td>80</td><td>7</td></tr>\n",
                            "<tr><td>81</td><td>5</td></tr>\n",
                            "<tr><td>82</td><td>6</td></tr>\n",
                            "<tr><td>83</td><td>8</td></tr>\n",
                            "<tr><td>84</td><td>4</td></tr>\n",
                            "<tr><td>85</td><td>4</td></tr>\n",
                            "<tr><td>86</td><td>5</td></tr>\n",
                            "<tr><td>87</td><td>5</td></tr>\n",
                            "<tr><td>88</td><td>8</td></tr>\n",
                            "<tr><td>89</td><td>8</td></tr>\n",
                            "<tr><td>90</td><td>4</td></tr>\n",
                            "<tr><td>91</td><td>4</td></tr>\n",
                            "<tr><td>92</td><td>6</td></tr>\n",
                            "<tr><td>93</td><td>5</td></tr>\n",
                            "<tr><td>94</td><td>10</td></tr>\n",
                            "<tr><td>95</td><td>4</td></tr>\n",
                            "<tr><td>96</td><td>7</td></tr>\n",
                            "<tr><td>97</td><td>7</td></tr>\n",
                            "<tr><td>98</td><td>4</td></tr>\n",
                            "<tr><td>99</td><td>5</td></tr>\n",
                            "<tr><td>100</td><td>4</td></tr>\n",
                            "<tr><td>101</td><td>3</td></tr>\n",
                            "<tr><td>102</td><td>2</td></tr>\n",
                            "<tr><td>103</td><td>4</td></tr>\n",
                            "<tr><td>104</td><td>4</td></tr>\n",
                            "<tr><td>105</td><td>2</td></tr>\n",
                            "<tr><td>106</td><td>6</td></tr>\n",
                            "<tr><td>107</td><td>5</td></tr>\n",
                            "<tr><td>108</td><td>2</td></tr>\n",
                            "<tr><td>109</td><td>7</td></tr>\n",
                            "<tr><td>110</td><td>8</td></tr>\n",
                            "<tr><td>111</td><td>5</td></tr>\n",
                            "<tr><td>112</td><td>5</td></tr>\n",
                            "<tr><td>113</td><td>5</td></tr>\n",
                            "<tr><td>114</td><td>4</td></tr>\n",
                            "<tr><td>115</td><td>7</td></tr>\n",
                            "<tr><td>116</td><td>2</td></tr>\n",
                            "<tr><td>117</td><td>8</td></tr>\n",
                            "<tr><td>118</td><td>7</td></tr>\n",
                            "<tr><td>119</td><td>5</td></tr>\n",
                            "<tr><td>120</td><td>6</td></tr>\n",
                            "<tr><td>121</td><td>8</td></tr>\n",
                            "<tr><td>122</td><td>9</td></tr>\n",
                            "<tr><td>123</td><td>5</td></tr>\n",
                            "<tr><td>124</td><td>6</td></tr>\n",
                            "<tr><td>125</td><td>1</td></tr>\n",
                            "<tr><td>126</td><td>6</td></tr>\n",
                            "<tr><td>127</td><td>7</td></tr>\n",
                            "<tr><td>128</td><td>5</td></tr>\n",
                            "<tr><td>129</td><td>4</td></tr>\n",
                            "<tr><td>130</td><td>6</td></tr>\n",
                            "<tr><td>131</td><td>5</td></tr>\n",
                            "<tr><td>132</td><td>6</td></tr>\n",
                            "<tr><td>133</td><td>6</td></tr>\n",
                            "<tr><td>134</td><td>6</td></tr>\n",
                            "<tr><td>135</td><td>3</td></tr>\n",
                            "<tr><td>136</td><td>3</td></tr>\n",
                            "<tr><td>137</td><td>6</td></tr>\n",
                            "<tr><td>138</td><td>7</td></tr>\n",
                            "<tr><td>139</td><td>7</td></tr>\n",
                            "<tr><td>140</td><td>8</td></tr>\n",
                            "<tr><td>141</td><td>6</td></tr>\n",
                            "<tr><td>142</td><td>2</td></tr>\n",
                            "<tr><td>143</td><td>7</td></tr>\n",
                            "<tr><td>144</td><td>5</td></tr>\n",
                            "<tr><td>145</td><td>6</td></tr>\n",
                            "<tr><td>146</td><td>6</td></tr>\n",
                            "<tr><td>147</td><td>1</td></tr>\n",
                            "<tr><td>148</td><td>6</td></tr>\n",
                            "<tr><td>149</td><td>7</td></tr>\n",
                            "<tr><td>150</td><td>6</td></tr>\n",
                            "<tr><td>151</td><td>3</td></tr>\n",
                            "<tr><td>152</td><td>4</td></tr>\n",
                            "<tr><td>153</td><td>5</td></tr>\n",
                            "<tr><td>154</td><td>5</td></tr>\n",
                            "<tr><td>155</td><td>5</td></tr>\n",
                            "<tr><td>156</td><td>7</td></tr>\n",
                            "<tr><td>157</td><td>5</td></tr>\n",
                            "<tr><td>158</td><td>3</td></tr>\n",
                            "<tr><td>159</td><td>0</td></tr>\n",
                            "<tr><td>160</td><td>5</td></tr>\n",
                            "<tr><td>161</td><td>6</td></tr>\n",
                            "<tr><td>162</td><td>3</td></tr>\n",
                            "<tr><td>163</td><td>7</td></tr>\n",
                            "<tr><td>164</td><td>5</td></tr>\n",
                            "<tr><td>165</td><td>7</td></tr>\n",
                            "<tr><td>166</td><td>3</td></tr>\n",
                            "<tr><td>167</td><td>2</td></tr>\n",
                            "<tr><td>168</td><td>5</td></tr>\n",
                            "<tr><td>169</td><td>6</td></tr>\n",
                            "<tr><td>170</td><td>5</td></tr>\n",
                            "<tr><td>171</td><td>5</td></tr>\n",
                            "<tr><td>172</td><td>9</td></tr>\n",
                            "<tr><td>173</td><td>4</td></tr>\n",
                            "<tr><td>174</td><td>4</td></tr>\n",
                            "<tr><td>175</td><td>5</td></tr>\n",
                            "<tr><td>176</td><td>6</td></tr>\n",
                            "<tr><td>177</td><td>4</td></tr>\n",
                            "<tr><td>178</td><td>4</td></tr>\n",
                            "<tr><td>179</td><td>3</td></tr>\n",
                            "<tr><td>180</td><td>3</td></tr>\n",
                            "<tr><td>181</td><td>6</td></tr>\n",
                            "<tr><td>182</td><td>12</td></tr>\n",
                            "<tr><td>183</td><td>4</td></tr>\n",
                            "<tr><td>184</td><td>4</td></tr>\n",
                            "<tr><td>185</td><td>12</td></tr>\n",
                            "<tr><td>186</td><td>4</td></tr>\n",
                            "<tr><td>187</td><td>7</td></tr>\n",
                            "<tr><td>188</td><td>6</td></tr>\n",
                            "<tr><td>189</td><td>5</td></tr>\n",
                            "<tr><td>190</td><td>5</td></tr>\n",
                            "<tr><td>191</td><td>5</td></tr>\n",
                            "<tr><td>192</td><td>2</td></tr>\n",
                            "<tr><td>193</td><td>7</td></tr>\n",
                            "<tr><td>194</td><td>1</td></tr>\n",
                            "<tr><td>195</td><td>6</td></tr>\n",
                            "<tr><td>196</td><td>4</td></tr>\n",
                            "<tr><td>197</td><td>6</td></tr>\n",
                            "<tr><td>198</td><td>8</td></tr>\n",
                            "<tr><td>199</td><td>0</td></tr>\n",
                            "<tr><td>200</td><td>0</td></tr>\n",
                            "<tr><td>201</td><td>0</td></tr>\n",
                            "<tr><td>202</td><td>0</td></tr>\n",
                            "<tr><td>203</td><td>0</td></tr>\n",
                            "<tr><td>204</td><td>0</td></tr>\n",
                            "<tr><td>205</td><td>0</td></tr>\n",
                            "<tr><td>206</td><td>0</td></tr>\n",
                            "<tr><td>207</td><td>0</td></tr>\n",
                            "<tr><td>208</td><td>0</td></tr>\n",
                            "<tr><td>209</td><td>0</td></tr>\n",
                            "<tr><td>210</td><td>0</td></tr>\n",
                            "<tr><td>211</td><td>0</td></tr>\n",
                            "<tr><td>212</td><td>0</td></tr>\n",
                            "<tr><td>213</td><td>0</td></tr>\n",
                            "<tr><td>214</td><td>0</td></tr>\n",
                            "<tr><td>215</td><td>0</td></tr>\n",
                            "<tr><td>216</td><td>0</td></tr>\n",
                            "<tr><td>217</td><td>0</td></tr>\n",
                            "<tr><td>218</td><td>0</td></tr>\n",
                            "<tr><td>219</td><td>0</td></tr>\n",
                            "<tr><td>220</td><td>0</td></tr>\n",
                            "<tr><td>221</td><td>0</td></tr>\n",
                            "<tr><td>222</td><td>0</td></tr>\n",
                            "<tr><td>223</td><td>0</td></tr>\n",
                            "<tr><td>224</td><td>0</td></tr>\n",
                            "<tr><td>225</td><td>0</td></tr>\n",
                            "<tr><td>226</td><td>0</td></tr>\n",
                            "<tr><td>227</td><td>0</td></tr>\n",
                            "<tr><td>228</td><td>0</td></tr>\n",
                            "<tr><td>229</td><td>0</td></tr>\n",
                            "<tr><td>230</td><td>0</td></tr>\n",
                            "<tr><td>231</td><td>0</td></tr>\n",
                            "<tr><td>232</td><td>0</td></tr>\n",
                            "<tr><td>233</td><td>0</td></tr>\n",
                            "<tr><td>234</td><td>0</td></tr>\n",
                            "<tr><td>235</td><td>0</td></tr>\n",
                            "<tr><td>236</td><td>0</td></tr>\n",
                            "<tr><td>237</td><td>0</td></tr>\n",
                            "<tr><td>238</td><td>0</td></tr>\n",
                            "<tr><td>239</td><td>0</td></tr>\n",
                            "<tr><td>240</td><td>0</td></tr>\n",
                            "<tr><td>241</td><td>0</td></tr>\n",
                            "<tr><td>242</td><td>0</td></tr>\n",
                            "<tr><td>243</td><td>0</td></tr>\n",
                            "<tr><td>244</td><td>0</td></tr>\n",
                            "<tr><td>245</td><td>0</td></tr>\n",
                            "<tr><td>246</td><td>0</td></tr>\n",
                            "<tr><td>247</td><td>0</td></tr>\n",
                            "<tr><td>248</td><td>0</td></tr>\n",
                            "<tr><td>249</td><td>0</td></tr>\n",
                            "<tr><td>250</td><td>0</td></tr>\n",
                            "<tr><td>251</td><td>0</td></tr>\n",
                            "<tr><td>252</td><td>0</td></tr>\n",
                            "<tr><td>253</td><td>0</td></tr>\n",
                            "<tr><td>254</td><td>0</td></tr>\n",
                            "<tr><td>255</td><td>0</td></tr>\n",
                            "<tr><td>256</td><td>0</td></tr>\n",
                            "<tr><td>257</td><td>0</td></tr>\n",
                            "<tr><td>258</td><td>0</td></tr>\n",
                            "<tr><td>259</td><td>0</td></tr>\n",
                            "<tr><td>260</td><td>0</td></tr>\n",
                            "<tr><td>261</td><td>0</td></tr>\n",
                            "<tr><td>262</td><td>0</td></tr>\n",
                            "<tr><td>263</td><td>0</td></tr>\n",
                            "<tr><td>264</td><td>0</td></tr>\n",
                            "<tr><td>265</td><td>0</td></tr>\n",
                            "<tr><td>266</td><td>0</td></tr>\n",
                            "<tr><td>267</td><td>0</td></tr>\n",
                            "<tr><td>268</td><td>0</td></tr>\n",
                            "<tr><td>269</td><td>0</td></tr>\n",
                            "<tr><td>270</td><td>0</td></tr>\n",
                            "<tr><td>271</td><td>0</td></tr>\n",
                            "<tr><td>272</td><td>0</td></tr>\n",
                            "<tr><td>273</td><td>0</td></tr>\n",
                            "<tr><td>274</td><td>0</td></tr>\n",
                            "<tr><td>275</td><td>0</td></tr>\n",
                            "<tr><td>276</td><td>0</td></tr>\n",
                            "<tr><td>277</td><td>0</td></tr>\n",
                            "<tr><td>278</td><td>0</td></tr>\n",
                            "<tr><td>279</td><td>0</td></tr>\n",
                            "<tr><td>280</td><td>0</td></tr>\n",
                            "<tr><td>281</td><td>0</td></tr>\n",
                            "<tr><td>282</td><td>0</td></tr>\n",
                            "<tr><td>283</td><td>0</td></tr>\n",
                            "<tr><td>284</td><td>0</td></tr>\n",
                            "<tr><td>285</td><td>0</td></tr>\n",
                            "<tr><td>286</td><td>0</td></tr>\n",
                            "<tr><td>287</td><td>0</td></tr>\n",
                            "<tr><td>288</td><td>0</td></tr>\n",
                            "<tr><td>289</td><td>0</td></tr>\n",
                            "<tr><td>290</td><td>0</td></tr>\n",
                            "<tr><td>291</td><td>0</td></tr>\n",
                            "<tr><td>292</td><td>0</td></tr>\n",
                            "<tr><td>293</td><td>0</td></tr>\n",
                            "<tr><td>294</td><td>0</td></tr>\n",
                            "</table>"
                        ]
                    },
                    "execution_count": 1,
                    "metadata": {},
                    "output_type": "execute_result"
                }
            ],
            "source": [
                "SELECT sz.szoba_id, count(f.SZoba_Fk)\n",
                "FROM Szoba sz LEFT JOIN Foglalas f ON f.SZoba_Fk = sz.szoba_id\n",
                "GROUP BY sz.szoba_id"
            ]
        },
        {
            "attachments": {},
            "cell_type": "markdown",
            "metadata": {
                "azdata_cell_guid": "a973d884-902a-4d0b-a31d-cebd43ff2138",
                "language": "sql"
            },
            "source": [
                "2\\. feladat"
            ]
        },
        {
            "cell_type": "code",
            "execution_count": 6,
            "metadata": {
                "azdata_cell_guid": "c7bd4aa1-8552-471a-9482-b0f56252986e",
                "language": "sql",
                "tags": []
            },
            "outputs": [
                {
                    "data": {
                        "text/html": [
                            "(3 rows affected)"
                        ]
                    },
                    "metadata": {},
                    "output_type": "display_data"
                },
                {
                    "data": {
                        "text/html": [
                            "Total execution time: 00:00:00.018"
                        ]
                    },
                    "metadata": {},
                    "output_type": "display_data"
                },
                {
                    "data": {
                        "application/vnd.dataresource+json": {
                            "data": [
                                {
                                    "EMAIL": "józsef.gyuris@mail.hu",
                                    "NEV": "Gyuris József",
                                    "SZAML_CIM": "2660 Balassagyarmat Petőfi utca 1/2.",
                                    "SZUL_DAT": "1975-05-26",
                                    "USERNEV": "JOZSEFG"
                                },
                                {
                                    "EMAIL": "péter.berendi@mail.hu",
                                    "NEV": "Berendi Péter",
                                    "SZAML_CIM": "3980 Sátoraljaújhely Vasút utca 4/10.",
                                    "SZUL_DAT": "1969-01-01",
                                    "USERNEV": "PETERB"
                                },
                                {
                                    "EMAIL": "tunde@gmail.com",
                                    "NEV": "Turcsik Tünde",
                                    "SZAML_CIM": "7130 Tolna Fő út 122.",
                                    "SZUL_DAT": "1974-02-12",
                                    "USERNEV": "tunde"
                                }
                            ],
                            "schema": {
                                "fields": [
                                    {
                                        "name": "USERNEV"
                                    },
                                    {
                                        "name": "NEV"
                                    },
                                    {
                                        "name": "EMAIL"
                                    },
                                    {
                                        "name": "SZAML_CIM"
                                    },
                                    {
                                        "name": "SZUL_DAT"
                                    }
                                ]
                            }
                        },
                        "text/html": [
                            "<table>\n",
                            "<tr><th>USERNEV</th><th>NEV</th><th>EMAIL</th><th>SZAML_CIM</th><th>SZUL_DAT</th></tr>\n",
                            "<tr><td>JOZSEFG</td><td>Gyuris József</td><td>józsef.gyuris@mail.hu</td><td>2660 Balassagyarmat Petőfi utca 1/2.</td><td>1975-05-26</td></tr>\n",
                            "<tr><td>PETERB</td><td>Berendi Péter</td><td>péter.berendi@mail.hu</td><td>3980 Sátoraljaújhely Vasút utca 4/10.</td><td>1969-01-01</td></tr>\n",
                            "<tr><td>tunde</td><td>Turcsik Tünde</td><td>tunde@gmail.com</td><td>7130 Tolna Fő út 122.</td><td>1974-02-12</td></tr>\n",
                            "</table>"
                        ]
                    },
                    "execution_count": 6,
                    "metadata": {},
                    "output_type": "execute_result"
                }
            ],
            "source": [
                "SELECT v.*\n",
                "FROM Vendeg v JOIN Foglalas f ON v.USERNEV = f.UGYFEL_FK\n",
                "                JOIN Szoba sz ON sz.SZOBA_ID=f.SZOBA_FK\n",
                "WHERE sz.FEROHELY=(\n",
                "    SELECT Max(ferohely)\n",
                "    FROM Szoba\n",
                "    WHERE KLIMAS='i'\n",
                ")"
            ]
        },
        {
            "attachments": {},
            "cell_type": "markdown",
            "metadata": {
                "azdata_cell_guid": "abe6c400-3b47-4911-a03e-24f5841252ad",
                "language": "sql"
            },
            "source": [
                "3\\. feladat"
            ]
        },
        {
            "cell_type": "code",
            "execution_count": 25,
            "metadata": {
                "azdata_cell_guid": "c4f7091d-2c17-4ca2-b1b8-79167b25d1bc",
                "language": "sql"
            },
            "outputs": [
                {
                    "data": {
                        "text/html": [
                            "(336 rows affected)"
                        ]
                    },
                    "metadata": {},
                    "output_type": "display_data"
                },
                {
                    "data": {
                        "text/html": [
                            "Total execution time: 00:00:00.025"
                        ]
                    },
                    "metadata": {},
                    "output_type": "display_data"
                },
                {
                    "data": {
                        "application/vnd.dataresource+json": {
                            "data": [
                                {
                                    "(No column name)": "1",
                                    "SZALLAS_NEV": "Családi Ház",
                                    "SZOBA_ID": "13"
                                },
                                {
                                    "(No column name)": "2",
                                    "SZALLAS_NEV": "Családi Ház",
                                    "SZOBA_ID": "13"
                                },
                                {
                                    "(No column name)": "3",
                                    "SZALLAS_NEV": "Családi Ház",
                                    "SZOBA_ID": "14"
                                },
                                {
                                    "(No column name)": "4",
                                    "SZALLAS_NEV": "Családi Ház",
                                    "SZOBA_ID": "14"
                                },
                                {
                                    "(No column name)": "2",
                                    "SZALLAS_NEV": "Családi Ház",
                                    "SZOBA_ID": "15"
                                },
                                {
                                    "(No column name)": "3",
                                    "SZALLAS_NEV": "Családi Ház",
                                    "SZOBA_ID": "15"
                                },
                                {
                                    "(No column name)": "2",
                                    "SZALLAS_NEV": "Családi Ház",
                                    "SZOBA_ID": "16"
                                },
                                {
                                    "(No column name)": "3",
                                    "SZALLAS_NEV": "Családi Ház",
                                    "SZOBA_ID": "16"
                                },
                                {
                                    "(No column name)": "2",
                                    "SZALLAS_NEV": "Fortuna Apartman",
                                    "SZOBA_ID": "17"
                                },
                                {
                                    "(No column name)": "3",
                                    "SZALLAS_NEV": "Fortuna Apartman",
                                    "SZOBA_ID": "17"
                                },
                                {
                                    "(No column name)": "3",
                                    "SZALLAS_NEV": "Fortuna Apartman",
                                    "SZOBA_ID": "18"
                                },
                                {
                                    "(No column name)": "4",
                                    "SZALLAS_NEV": "Fortuna Apartman",
                                    "SZOBA_ID": "18"
                                },
                                {
                                    "(No column name)": "2",
                                    "SZALLAS_NEV": "Fortuna Apartman",
                                    "SZOBA_ID": "19"
                                },
                                {
                                    "(No column name)": "3",
                                    "SZALLAS_NEV": "Fortuna Apartman",
                                    "SZOBA_ID": "19"
                                },
                                {
                                    "(No column name)": "2",
                                    "SZALLAS_NEV": "Fortuna Apartman",
                                    "SZOBA_ID": "20"
                                },
                                {
                                    "(No column name)": "3",
                                    "SZALLAS_NEV": "Fortuna Apartman",
                                    "SZOBA_ID": "20"
                                },
                                {
                                    "(No column name)": "2",
                                    "SZALLAS_NEV": "Fortuna Apartman",
                                    "SZOBA_ID": "21"
                                },
                                {
                                    "(No column name)": "2",
                                    "SZALLAS_NEV": "Fortuna Apartman",
                                    "SZOBA_ID": "22"
                                },
                                {
                                    "(No column name)": "3",
                                    "SZALLAS_NEV": "Fortuna Apartman",
                                    "SZOBA_ID": "22"
                                },
                                {
                                    "(No column name)": "1",
                                    "SZALLAS_NEV": "Fortuna Apartman",
                                    "SZOBA_ID": "23"
                                },
                                {
                                    "(No column name)": "2",
                                    "SZALLAS_NEV": "Fortuna Apartman",
                                    "SZOBA_ID": "23"
                                },
                                {
                                    "(No column name)": "3",
                                    "SZALLAS_NEV": "Fortuna Apartman",
                                    "SZOBA_ID": "24"
                                },
                                {
                                    "(No column name)": "4",
                                    "SZALLAS_NEV": "Fortuna Apartman",
                                    "SZOBA_ID": "24"
                                },
                                {
                                    "(No column name)": "5",
                                    "SZALLAS_NEV": "Fortuna Apartman",
                                    "SZOBA_ID": "24"
                                },
                                {
                                    "(No column name)": "3",
                                    "SZALLAS_NEV": "Fortuna panzió",
                                    "SZOBA_ID": "25"
                                },
                                {
                                    "(No column name)": "4",
                                    "SZALLAS_NEV": "Fortuna panzió",
                                    "SZOBA_ID": "25"
                                },
                                {
                                    "(No column name)": "2",
                                    "SZALLAS_NEV": "Fortuna panzió",
                                    "SZOBA_ID": "26"
                                },
                                {
                                    "(No column name)": "3",
                                    "SZALLAS_NEV": "Fortuna panzió",
                                    "SZOBA_ID": "27"
                                },
                                {
                                    "(No column name)": "2",
                                    "SZALLAS_NEV": "Fortuna panzió",
                                    "SZOBA_ID": "28"
                                },
                                {
                                    "(No column name)": "1",
                                    "SZALLAS_NEV": "Fortuna panzió",
                                    "SZOBA_ID": "29"
                                },
                                {
                                    "(No column name)": "1",
                                    "SZALLAS_NEV": "Fortuna panzió",
                                    "SZOBA_ID": "30"
                                },
                                {
                                    "(No column name)": "2",
                                    "SZALLAS_NEV": "Fortuna panzió",
                                    "SZOBA_ID": "30"
                                },
                                {
                                    "(No column name)": "4",
                                    "SZALLAS_NEV": "Fortuna panzió",
                                    "SZOBA_ID": "31"
                                },
                                {
                                    "(No column name)": "2",
                                    "SZALLAS_NEV": "Fortuna panzió",
                                    "SZOBA_ID": "32"
                                },
                                {
                                    "(No column name)": "2",
                                    "SZALLAS_NEV": "Fortuna panzió",
                                    "SZOBA_ID": "33"
                                },
                                {
                                    "(No column name)": "2",
                                    "SZALLAS_NEV": "Fortuna panzió",
                                    "SZOBA_ID": "34"
                                },
                                {
                                    "(No column name)": "3",
                                    "SZALLAS_NEV": "Fortuna panzió",
                                    "SZOBA_ID": "34"
                                },
                                {
                                    "(No column name)": "1",
                                    "SZALLAS_NEV": "Fortuna panzió",
                                    "SZOBA_ID": "35"
                                },
                                {
                                    "(No column name)": "2",
                                    "SZALLAS_NEV": "Fortuna panzió",
                                    "SZOBA_ID": "35"
                                },
                                {
                                    "(No column name)": "3",
                                    "SZALLAS_NEV": "Fortuna panzió",
                                    "SZOBA_ID": "36"
                                },
                                {
                                    "(No column name)": "4",
                                    "SZALLAS_NEV": "Fortuna panzió",
                                    "SZOBA_ID": "36"
                                },
                                {
                                    "(No column name)": "1",
                                    "SZALLAS_NEV": "Fortuna panzió",
                                    "SZOBA_ID": "37"
                                },
                                {
                                    "(No column name)": "2",
                                    "SZALLAS_NEV": "Fortuna panzió",
                                    "SZOBA_ID": "37"
                                },
                                {
                                    "(No column name)": "2",
                                    "SZALLAS_NEV": "Fortuna panzió",
                                    "SZOBA_ID": "38"
                                },
                                {
                                    "(No column name)": "3",
                                    "SZALLAS_NEV": "Fortuna panzió",
                                    "SZOBA_ID": "38"
                                },
                                {
                                    "(No column name)": "1",
                                    "SZALLAS_NEV": "Fortuna panzió",
                                    "SZOBA_ID": "39"
                                },
                                {
                                    "(No column name)": "2",
                                    "SZALLAS_NEV": "Fortuna panzió",
                                    "SZOBA_ID": "39"
                                },
                                {
                                    "(No column name)": "2",
                                    "SZALLAS_NEV": "Fortuna Panzió",
                                    "SZOBA_ID": "40"
                                },
                                {
                                    "(No column name)": "3",
                                    "SZALLAS_NEV": "Fortuna Panzió",
                                    "SZOBA_ID": "40"
                                },
                                {
                                    "(No column name)": "3",
                                    "SZALLAS_NEV": "Fortuna Panzió",
                                    "SZOBA_ID": "41"
                                },
                                {
                                    "(No column name)": "2",
                                    "SZALLAS_NEV": "Fortuna Panzió",
                                    "SZOBA_ID": "42"
                                },
                                {
                                    "(No column name)": "2",
                                    "SZALLAS_NEV": "Fortuna Panzió",
                                    "SZOBA_ID": "43"
                                },
                                {
                                    "(No column name)": "3",
                                    "SZALLAS_NEV": "Fortuna Panzió",
                                    "SZOBA_ID": "44"
                                },
                                {
                                    "(No column name)": "1",
                                    "SZALLAS_NEV": "Fortuna Panzió",
                                    "SZOBA_ID": "45"
                                },
                                {
                                    "(No column name)": "2",
                                    "SZALLAS_NEV": "Fortuna Panzió",
                                    "SZOBA_ID": "45"
                                },
                                {
                                    "(No column name)": "2",
                                    "SZALLAS_NEV": "Fortuna Panzió",
                                    "SZOBA_ID": "46"
                                },
                                {
                                    "(No column name)": "3",
                                    "SZALLAS_NEV": "Fortuna Panzió",
                                    "SZOBA_ID": "46"
                                },
                                {
                                    "(No column name)": "1",
                                    "SZALLAS_NEV": "Fortuna Panzió",
                                    "SZOBA_ID": "47"
                                },
                                {
                                    "(No column name)": "1",
                                    "SZALLAS_NEV": "Fortuna Panzió",
                                    "SZOBA_ID": "48"
                                },
                                {
                                    "(No column name)": "2",
                                    "SZALLAS_NEV": "Fortuna Panzió",
                                    "SZOBA_ID": "48"
                                },
                                {
                                    "(No column name)": "3",
                                    "SZALLAS_NEV": "Fortuna Panzió",
                                    "SZOBA_ID": "48"
                                },
                                {
                                    "(No column name)": "2",
                                    "SZALLAS_NEV": "Fortuna Panzió",
                                    "SZOBA_ID": "49"
                                },
                                {
                                    "(No column name)": "1",
                                    "SZALLAS_NEV": "Gold Hotel",
                                    "SZOBA_ID": "165"
                                },
                                {
                                    "(No column name)": "2",
                                    "SZALLAS_NEV": "Gold Hotel",
                                    "SZOBA_ID": "165"
                                },
                                {
                                    "(No column name)": "2",
                                    "SZALLAS_NEV": "Gold Hotel",
                                    "SZOBA_ID": "166"
                                },
                                {
                                    "(No column name)": "3",
                                    "SZALLAS_NEV": "Gold Hotel",
                                    "SZOBA_ID": "166"
                                },
                                {
                                    "(No column name)": "2",
                                    "SZALLAS_NEV": "Gold Hotel",
                                    "SZOBA_ID": "167"
                                },
                                {
                                    "(No column name)": "3",
                                    "SZALLAS_NEV": "Gold Hotel",
                                    "SZOBA_ID": "167"
                                },
                                {
                                    "(No column name)": "2",
                                    "SZALLAS_NEV": "Gold Hotel",
                                    "SZOBA_ID": "168"
                                },
                                {
                                    "(No column name)": "3",
                                    "SZALLAS_NEV": "Gold Hotel",
                                    "SZOBA_ID": "168"
                                },
                                {
                                    "(No column name)": "2",
                                    "SZALLAS_NEV": "Gold Hotel",
                                    "SZOBA_ID": "169"
                                },
                                {
                                    "(No column name)": "1",
                                    "SZALLAS_NEV": "Gold Hotel",
                                    "SZOBA_ID": "170"
                                },
                                {
                                    "(No column name)": "1",
                                    "SZALLAS_NEV": "Gold Hotel",
                                    "SZOBA_ID": "171"
                                },
                                {
                                    "(No column name)": "2",
                                    "SZALLAS_NEV": "Gold Hotel",
                                    "SZOBA_ID": "171"
                                },
                                {
                                    "(No column name)": "1",
                                    "SZALLAS_NEV": "Gold Hotel",
                                    "SZOBA_ID": "172"
                                },
                                {
                                    "(No column name)": "2",
                                    "SZALLAS_NEV": "Gold Hotel",
                                    "SZOBA_ID": "172"
                                },
                                {
                                    "(No column name)": "1",
                                    "SZALLAS_NEV": "Gold Hotel",
                                    "SZOBA_ID": "173"
                                },
                                {
                                    "(No column name)": "2",
                                    "SZALLAS_NEV": "Gold Hotel",
                                    "SZOBA_ID": "173"
                                },
                                {
                                    "(No column name)": "1",
                                    "SZALLAS_NEV": "Gold Hotel",
                                    "SZOBA_ID": "174"
                                },
                                {
                                    "(No column name)": "2",
                                    "SZALLAS_NEV": "Gold Hotel",
                                    "SZOBA_ID": "174"
                                },
                                {
                                    "(No column name)": "1",
                                    "SZALLAS_NEV": "Gold Hotel",
                                    "SZOBA_ID": "175"
                                },
                                {
                                    "(No column name)": "2",
                                    "SZALLAS_NEV": "Gold Hotel",
                                    "SZOBA_ID": "175"
                                },
                                {
                                    "(No column name)": "2",
                                    "SZALLAS_NEV": "Gold Hotel",
                                    "SZOBA_ID": "176"
                                },
                                {
                                    "(No column name)": "3",
                                    "SZALLAS_NEV": "Gold Hotel",
                                    "SZOBA_ID": "176"
                                },
                                {
                                    "(No column name)": "3",
                                    "SZALLAS_NEV": "Gold Hotel",
                                    "SZOBA_ID": "177"
                                },
                                {
                                    "(No column name)": "4",
                                    "SZALLAS_NEV": "Gold Hotel",
                                    "SZOBA_ID": "177"
                                },
                                {
                                    "(No column name)": "3",
                                    "SZALLAS_NEV": "Gold Hotel",
                                    "SZOBA_ID": "178"
                                },
                                {
                                    "(No column name)": "3",
                                    "SZALLAS_NEV": "Gold Hotel",
                                    "SZOBA_ID": "179"
                                },
                                {
                                    "(No column name)": "3",
                                    "SZALLAS_NEV": "Gold Hotel",
                                    "SZOBA_ID": "180"
                                },
                                {
                                    "(No column name)": "4",
                                    "SZALLAS_NEV": "Gold Hotel",
                                    "SZOBA_ID": "180"
                                },
                                {
                                    "(No column name)": "3",
                                    "SZALLAS_NEV": "Gold Hotel",
                                    "SZOBA_ID": "181"
                                },
                                {
                                    "(No column name)": "1",
                                    "SZALLAS_NEV": "Gold Hotel",
                                    "SZOBA_ID": "182"
                                },
                                {
                                    "(No column name)": "2",
                                    "SZALLAS_NEV": "Gold Hotel",
                                    "SZOBA_ID": "183"
                                },
                                {
                                    "(No column name)": "3",
                                    "SZALLAS_NEV": "Gold Hotel",
                                    "SZOBA_ID": "183"
                                },
                                {
                                    "(No column name)": "1",
                                    "SZALLAS_NEV": "Gold Hotel",
                                    "SZOBA_ID": "184"
                                },
                                {
                                    "(No column name)": "2",
                                    "SZALLAS_NEV": "Gold Hotel",
                                    "SZOBA_ID": "185"
                                },
                                {
                                    "(No column name)": "3",
                                    "SZALLAS_NEV": "Gold Hotel",
                                    "SZOBA_ID": "185"
                                },
                                {
                                    "(No column name)": "3",
                                    "SZALLAS_NEV": "Gold Hotel",
                                    "SZOBA_ID": "186"
                                },
                                {
                                    "(No column name)": "4",
                                    "SZALLAS_NEV": "Gold Hotel",
                                    "SZOBA_ID": "186"
                                },
                                {
                                    "(No column name)": "2",
                                    "SZALLAS_NEV": "Gold Hotel",
                                    "SZOBA_ID": "187"
                                },
                                {
                                    "(No column name)": "3",
                                    "SZALLAS_NEV": "Gold Hotel",
                                    "SZOBA_ID": "187"
                                },
                                {
                                    "(No column name)": "2",
                                    "SZALLAS_NEV": "Gold Hotel",
                                    "SZOBA_ID": "188"
                                },
                                {
                                    "(No column name)": "1",
                                    "SZALLAS_NEV": "Gold Hotel",
                                    "SZOBA_ID": "189"
                                },
                                {
                                    "(No column name)": "2",
                                    "SZALLAS_NEV": "Gold Hotel",
                                    "SZOBA_ID": "189"
                                },
                                {
                                    "(No column name)": "1",
                                    "SZALLAS_NEV": "Gold Hotel",
                                    "SZOBA_ID": "190"
                                },
                                {
                                    "(No column name)": "2",
                                    "SZALLAS_NEV": "Gold Hotel",
                                    "SZOBA_ID": "190"
                                },
                                {
                                    "(No column name)": "1",
                                    "SZALLAS_NEV": "Gold Hotel",
                                    "SZOBA_ID": "191"
                                },
                                {
                                    "(No column name)": "2",
                                    "SZALLAS_NEV": "Gold Hotel",
                                    "SZOBA_ID": "191"
                                },
                                {
                                    "(No column name)": "2",
                                    "SZALLAS_NEV": "Gold Hotel",
                                    "SZOBA_ID": "192"
                                },
                                {
                                    "(No column name)": "4",
                                    "SZALLAS_NEV": "Gold Hotel",
                                    "SZOBA_ID": "193"
                                },
                                {
                                    "(No column name)": "3",
                                    "SZALLAS_NEV": "Gold Hotel",
                                    "SZOBA_ID": "194"
                                },
                                {
                                    "(No column name)": "1",
                                    "SZALLAS_NEV": "Gold Hotel",
                                    "SZOBA_ID": "195"
                                },
                                {
                                    "(No column name)": "2",
                                    "SZALLAS_NEV": "Gold Hotel",
                                    "SZOBA_ID": "195"
                                },
                                {
                                    "(No column name)": "2",
                                    "SZALLAS_NEV": "Gold Hotel",
                                    "SZOBA_ID": "196"
                                },
                                {
                                    "(No column name)": "3",
                                    "SZALLAS_NEV": "Gold Hotel",
                                    "SZOBA_ID": "196"
                                },
                                {
                                    "(No column name)": "2",
                                    "SZALLAS_NEV": "Gold Hotel",
                                    "SZOBA_ID": "197"
                                },
                                {
                                    "(No column name)": "3",
                                    "SZALLAS_NEV": "Gold Hotel",
                                    "SZOBA_ID": "197"
                                },
                                {
                                    "(No column name)": "1",
                                    "SZALLAS_NEV": "Gold Hotel",
                                    "SZOBA_ID": "198"
                                },
                                {
                                    "(No column name)": "2",
                                    "SZALLAS_NEV": "Gold Hotel",
                                    "SZOBA_ID": "198"
                                },
                                {
                                    "(No column name)": "1",
                                    "SZALLAS_NEV": "Hotel Három Hattyú",
                                    "SZOBA_ID": "91"
                                },
                                {
                                    "(No column name)": "2",
                                    "SZALLAS_NEV": "Hotel Három Hattyú",
                                    "SZOBA_ID": "91"
                                },
                                {
                                    "(No column name)": "3",
                                    "SZALLAS_NEV": "Hotel Három Hattyú",
                                    "SZOBA_ID": "92"
                                },
                                {
                                    "(No column name)": "4",
                                    "SZALLAS_NEV": "Hotel Három Hattyú",
                                    "SZOBA_ID": "92"
                                },
                                {
                                    "(No column name)": "3",
                                    "SZALLAS_NEV": "Hotel Három Hattyú",
                                    "SZOBA_ID": "93"
                                },
                                {
                                    "(No column name)": "4",
                                    "SZALLAS_NEV": "Hotel Három Hattyú",
                                    "SZOBA_ID": "93"
                                },
                                {
                                    "(No column name)": "5",
                                    "SZALLAS_NEV": "Hotel Három Hattyú",
                                    "SZOBA_ID": "93"
                                },
                                {
                                    "(No column name)": "1",
                                    "SZALLAS_NEV": "Hotel Három Hattyú",
                                    "SZOBA_ID": "94"
                                },
                                {
                                    "(No column name)": "2",
                                    "SZALLAS_NEV": "Hotel Három Hattyú",
                                    "SZOBA_ID": "94"
                                },
                                {
                                    "(No column name)": "1",
                                    "SZALLAS_NEV": "Hotel Három Hattyú",
                                    "SZOBA_ID": "95"
                                },
                                {
                                    "(No column name)": "2",
                                    "SZALLAS_NEV": "Hotel Három Hattyú",
                                    "SZOBA_ID": "95"
                                },
                                {
                                    "(No column name)": "2",
                                    "SZALLAS_NEV": "Hotel Három Hattyú",
                                    "SZOBA_ID": "96"
                                },
                                {
                                    "(No column name)": "3",
                                    "SZALLAS_NEV": "Hotel Három Hattyú",
                                    "SZOBA_ID": "96"
                                },
                                {
                                    "(No column name)": "2",
                                    "SZALLAS_NEV": "Hotel Három Hattyú",
                                    "SZOBA_ID": "97"
                                },
                                {
                                    "(No column name)": "3",
                                    "SZALLAS_NEV": "Hotel Három Hattyú",
                                    "SZOBA_ID": "97"
                                },
                                {
                                    "(No column name)": "1",
                                    "SZALLAS_NEV": "Hotel Három Hattyú",
                                    "SZOBA_ID": "98"
                                },
                                {
                                    "(No column name)": "2",
                                    "SZALLAS_NEV": "Hotel Három Hattyú",
                                    "SZOBA_ID": "98"
                                },
                                {
                                    "(No column name)": "2",
                                    "SZALLAS_NEV": "Hotel Három Hattyú",
                                    "SZOBA_ID": "99"
                                },
                                {
                                    "(No column name)": "2",
                                    "SZALLAS_NEV": "Hotel Három Hattyú",
                                    "SZOBA_ID": "100"
                                },
                                {
                                    "(No column name)": "3",
                                    "SZALLAS_NEV": "Hotel Három Hattyú",
                                    "SZOBA_ID": "100"
                                },
                                {
                                    "(No column name)": "2",
                                    "SZALLAS_NEV": "Hotel Három Hattyú",
                                    "SZOBA_ID": "101"
                                },
                                {
                                    "(No column name)": "1",
                                    "SZALLAS_NEV": "Hotel Három Hattyú",
                                    "SZOBA_ID": "102"
                                },
                                {
                                    "(No column name)": "2",
                                    "SZALLAS_NEV": "Hotel Három Hattyú",
                                    "SZOBA_ID": "102"
                                },
                                {
                                    "(No column name)": "2",
                                    "SZALLAS_NEV": "Hotel Három Hattyú",
                                    "SZOBA_ID": "103"
                                },
                                {
                                    "(No column name)": "2",
                                    "SZALLAS_NEV": "Hotel Három Hattyú",
                                    "SZOBA_ID": "104"
                                },
                                {
                                    "(No column name)": "2",
                                    "SZALLAS_NEV": "Hotel Három Hattyú",
                                    "SZOBA_ID": "105"
                                },
                                {
                                    "(No column name)": "1",
                                    "SZALLAS_NEV": "Hotel Három Hattyú",
                                    "SZOBA_ID": "106"
                                },
                                {
                                    "(No column name)": "2",
                                    "SZALLAS_NEV": "Hotel Három Hattyú",
                                    "SZOBA_ID": "106"
                                },
                                {
                                    "(No column name)": "2",
                                    "SZALLAS_NEV": "Hotel Három Hattyú",
                                    "SZOBA_ID": "107"
                                },
                                {
                                    "(No column name)": "3",
                                    "SZALLAS_NEV": "Hotel Három Hattyú",
                                    "SZOBA_ID": "107"
                                },
                                {
                                    "(No column name)": "1",
                                    "SZALLAS_NEV": "Hotel Három Hattyú",
                                    "SZOBA_ID": "108"
                                },
                                {
                                    "(No column name)": "2",
                                    "SZALLAS_NEV": "Hotel Három Hattyú",
                                    "SZOBA_ID": "108"
                                },
                                {
                                    "(No column name)": "2",
                                    "SZALLAS_NEV": "Hotel Három Hattyú",
                                    "SZOBA_ID": "109"
                                },
                                {
                                    "(No column name)": "1",
                                    "SZALLAS_NEV": "Hotel Három Hattyú",
                                    "SZOBA_ID": "110"
                                },
                                {
                                    "(No column name)": "2",
                                    "SZALLAS_NEV": "Hotel Három Hattyú",
                                    "SZOBA_ID": "110"
                                },
                                {
                                    "(No column name)": "2",
                                    "SZALLAS_NEV": "Hotel Három Hattyú",
                                    "SZOBA_ID": "111"
                                },
                                {
                                    "(No column name)": "3",
                                    "SZALLAS_NEV": "Hotel Három Hattyú",
                                    "SZOBA_ID": "111"
                                },
                                {
                                    "(No column name)": "3",
                                    "SZALLAS_NEV": "Hotel Három Hattyú",
                                    "SZOBA_ID": "112"
                                },
                                {
                                    "(No column name)": "4",
                                    "SZALLAS_NEV": "Hotel Három Hattyú",
                                    "SZOBA_ID": "113"
                                },
                                {
                                    "(No column name)": "2",
                                    "SZALLAS_NEV": "Hotel Három Hattyú",
                                    "SZOBA_ID": "114"
                                },
                                {
                                    "(No column name)": "3",
                                    "SZALLAS_NEV": "Hotel Három Hattyú",
                                    "SZOBA_ID": "114"
                                },
                                {
                                    "(No column name)": "2",
                                    "SZALLAS_NEV": "Hotel Három Hattyú",
                                    "SZOBA_ID": "115"
                                },
                                {
                                    "(No column name)": "3",
                                    "SZALLAS_NEV": "Hotel Három Hattyú",
                                    "SZOBA_ID": "115"
                                },
                                {
                                    "(No column name)": "2",
                                    "SZALLAS_NEV": "Hotel Három Hattyú",
                                    "SZOBA_ID": "116"
                                },
                                {
                                    "(No column name)": "3",
                                    "SZALLAS_NEV": "Hotel Három Hattyú",
                                    "SZOBA_ID": "116"
                                },
                                {
                                    "(No column name)": "2",
                                    "SZALLAS_NEV": "Hotel Három Hattyú",
                                    "SZOBA_ID": "117"
                                },
                                {
                                    "(No column name)": "3",
                                    "SZALLAS_NEV": "Hotel Három Hattyú",
                                    "SZOBA_ID": "117"
                                },
                                {
                                    "(No column name)": "4",
                                    "SZALLAS_NEV": "Hotel Három Hattyú",
                                    "SZOBA_ID": "117"
                                },
                                {
                                    "(No column name)": "2",
                                    "SZALLAS_NEV": "Hotel Három Hattyú",
                                    "SZOBA_ID": "118"
                                },
                                {
                                    "(No column name)": "1",
                                    "SZALLAS_NEV": "Hotel Három Hattyú",
                                    "SZOBA_ID": "119"
                                },
                                {
                                    "(No column name)": "2",
                                    "SZALLAS_NEV": "Hotel Három Hattyú",
                                    "SZOBA_ID": "119"
                                },
                                {
                                    "(No column name)": "2",
                                    "SZALLAS_NEV": "Hotel Három Hattyú",
                                    "SZOBA_ID": "120"
                                },
                                {
                                    "(No column name)": "3",
                                    "SZALLAS_NEV": "Hotel Három Hattyú",
                                    "SZOBA_ID": "120"
                                },
                                {
                                    "(No column name)": "4",
                                    "SZALLAS_NEV": "Hotel Három Hattyú",
                                    "SZOBA_ID": "120"
                                },
                                {
                                    "(No column name)": "2",
                                    "SZALLAS_NEV": "Hotel Három Hattyú",
                                    "SZOBA_ID": "121"
                                },
                                {
                                    "(No column name)": "3",
                                    "SZALLAS_NEV": "Hotel Három Hattyú",
                                    "SZOBA_ID": "121"
                                },
                                {
                                    "(No column name)": "3",
                                    "SZALLAS_NEV": "Hotel Három Hattyú",
                                    "SZOBA_ID": "122"
                                },
                                {
                                    "(No column name)": "4",
                                    "SZALLAS_NEV": "Hotel Három Hattyú",
                                    "SZOBA_ID": "122"
                                },
                                {
                                    "(No column name)": "2",
                                    "SZALLAS_NEV": "Hotel Három Hattyú",
                                    "SZOBA_ID": "123"
                                },
                                {
                                    "(No column name)": "3",
                                    "SZALLAS_NEV": "Hotel Három Hattyú",
                                    "SZOBA_ID": "123"
                                },
                                {
                                    "(No column name)": "2",
                                    "SZALLAS_NEV": "Hotel Három Hattyú",
                                    "SZOBA_ID": "124"
                                },
                                {
                                    "(No column name)": "3",
                                    "SZALLAS_NEV": "Hotel Három Hattyú",
                                    "SZOBA_ID": "124"
                                },
                                {
                                    "(No column name)": "3",
                                    "SZALLAS_NEV": "Hotel Három Hattyú",
                                    "SZOBA_ID": "125"
                                },
                                {
                                    "(No column name)": "1",
                                    "SZALLAS_NEV": "Hotel Három Hattyú",
                                    "SZOBA_ID": "126"
                                },
                                {
                                    "(No column name)": "2",
                                    "SZALLAS_NEV": "Hotel Három Hattyú",
                                    "SZOBA_ID": "126"
                                },
                                {
                                    "(No column name)": "3",
                                    "SZALLAS_NEV": "Hotel Három Hattyú",
                                    "SZOBA_ID": "126"
                                },
                                {
                                    "(No column name)": "2",
                                    "SZALLAS_NEV": "Hotel Három Hattyú",
                                    "SZOBA_ID": "127"
                                },
                                {
                                    "(No column name)": "3",
                                    "SZALLAS_NEV": "Hotel Három Hattyú",
                                    "SZOBA_ID": "127"
                                },
                                {
                                    "(No column name)": "2",
                                    "SZALLAS_NEV": "Hotel Három Hattyú",
                                    "SZOBA_ID": "128"
                                },
                                {
                                    "(No column name)": "2",
                                    "SZALLAS_NEV": "Hotel Három Hattyú",
                                    "SZOBA_ID": "129"
                                },
                                {
                                    "(No column name)": "3",
                                    "SZALLAS_NEV": "Hotel Három Hattyú",
                                    "SZOBA_ID": "129"
                                },
                                {
                                    "(No column name)": "1",
                                    "SZALLAS_NEV": "Jáde panzió",
                                    "SZOBA_ID": "130"
                                },
                                {
                                    "(No column name)": "2",
                                    "SZALLAS_NEV": "Jáde panzió",
                                    "SZOBA_ID": "130"
                                },
                                {
                                    "(No column name)": "1",
                                    "SZALLAS_NEV": "Jáde panzió",
                                    "SZOBA_ID": "131"
                                },
                                {
                                    "(No column name)": "2",
                                    "SZALLAS_NEV": "Jáde panzió",
                                    "SZOBA_ID": "131"
                                },
                                {
                                    "(No column name)": "2",
                                    "SZALLAS_NEV": "Jáde panzió",
                                    "SZOBA_ID": "132"
                                },
                                {
                                    "(No column name)": "3",
                                    "SZALLAS_NEV": "Jáde panzió",
                                    "SZOBA_ID": "132"
                                },
                                {
                                    "(No column name)": "2",
                                    "SZALLAS_NEV": "Jáde panzió",
                                    "SZOBA_ID": "133"
                                },
                                {
                                    "(No column name)": "3",
                                    "SZALLAS_NEV": "Jáde panzió",
                                    "SZOBA_ID": "133"
                                },
                                {
                                    "(No column name)": "2",
                                    "SZALLAS_NEV": "Jáde panzió",
                                    "SZOBA_ID": "134"
                                },
                                {
                                    "(No column name)": "1",
                                    "SZALLAS_NEV": "Kentaur Hotel",
                                    "SZOBA_ID": "50"
                                },
                                {
                                    "(No column name)": "2",
                                    "SZALLAS_NEV": "Kentaur Hotel",
                                    "SZOBA_ID": "50"
                                },
                                {
                                    "(No column name)": "2",
                                    "SZALLAS_NEV": "Kentaur Hotel",
                                    "SZOBA_ID": "51"
                                },
                                {
                                    "(No column name)": "3",
                                    "SZALLAS_NEV": "Kentaur Hotel",
                                    "SZOBA_ID": "51"
                                },
                                {
                                    "(No column name)": "4",
                                    "SZALLAS_NEV": "Kentaur Hotel",
                                    "SZOBA_ID": "51"
                                },
                                {
                                    "(No column name)": "1",
                                    "SZALLAS_NEV": "Kentaur Hotel",
                                    "SZOBA_ID": "52"
                                },
                                {
                                    "(No column name)": "2",
                                    "SZALLAS_NEV": "Kentaur Hotel",
                                    "SZOBA_ID": "52"
                                },
                                {
                                    "(No column name)": "3",
                                    "SZALLAS_NEV": "Kentaur Hotel",
                                    "SZOBA_ID": "52"
                                },
                                {
                                    "(No column name)": "2",
                                    "SZALLAS_NEV": "Kentaur Hotel",
                                    "SZOBA_ID": "53"
                                },
                                {
                                    "(No column name)": "2",
                                    "SZALLAS_NEV": "Kentaur Hotel",
                                    "SZOBA_ID": "54"
                                },
                                {
                                    "(No column name)": "2",
                                    "SZALLAS_NEV": "Kentaur Hotel",
                                    "SZOBA_ID": "55"
                                },
                                {
                                    "(No column name)": "3",
                                    "SZALLAS_NEV": "Kentaur Hotel",
                                    "SZOBA_ID": "55"
                                },
                                {
                                    "(No column name)": "1",
                                    "SZALLAS_NEV": "Kentaur Hotel",
                                    "SZOBA_ID": "56"
                                },
                                {
                                    "(No column name)": "2",
                                    "SZALLAS_NEV": "Kentaur Hotel",
                                    "SZOBA_ID": "56"
                                },
                                {
                                    "(No column name)": "1",
                                    "SZALLAS_NEV": "Kentaur Hotel",
                                    "SZOBA_ID": "57"
                                },
                                {
                                    "(No column name)": "2",
                                    "SZALLAS_NEV": "Kentaur Hotel",
                                    "SZOBA_ID": "58"
                                },
                                {
                                    "(No column name)": "2",
                                    "SZALLAS_NEV": "Kentaur Hotel",
                                    "SZOBA_ID": "59"
                                },
                                {
                                    "(No column name)": "3",
                                    "SZALLAS_NEV": "Kentaur Hotel",
                                    "SZOBA_ID": "59"
                                },
                                {
                                    "(No column name)": "2",
                                    "SZALLAS_NEV": "Kentaur Hotel",
                                    "SZOBA_ID": "60"
                                },
                                {
                                    "(No column name)": "2",
                                    "SZALLAS_NEV": "Kentaur Hotel",
                                    "SZOBA_ID": "61"
                                },
                                {
                                    "(No column name)": "3",
                                    "SZALLAS_NEV": "Kentaur Hotel",
                                    "SZOBA_ID": "61"
                                },
                                {
                                    "(No column name)": "1",
                                    "SZALLAS_NEV": "Kentaur Hotel",
                                    "SZOBA_ID": "62"
                                },
                                {
                                    "(No column name)": "2",
                                    "SZALLAS_NEV": "Kentaur Hotel",
                                    "SZOBA_ID": "62"
                                },
                                {
                                    "(No column name)": "1",
                                    "SZALLAS_NEV": "Kentaur Hotel",
                                    "SZOBA_ID": "63"
                                },
                                {
                                    "(No column name)": "2",
                                    "SZALLAS_NEV": "Kentaur Hotel",
                                    "SZOBA_ID": "64"
                                },
                                {
                                    "(No column name)": "2",
                                    "SZALLAS_NEV": "Kentaur Hotel",
                                    "SZOBA_ID": "65"
                                },
                                {
                                    "(No column name)": "3",
                                    "SZALLAS_NEV": "Kentaur Hotel",
                                    "SZOBA_ID": "66"
                                },
                                {
                                    "(No column name)": "2",
                                    "SZALLAS_NEV": "Kentaur Hotel",
                                    "SZOBA_ID": "67"
                                },
                                {
                                    "(No column name)": "3",
                                    "SZALLAS_NEV": "Kentaur Hotel",
                                    "SZOBA_ID": "67"
                                },
                                {
                                    "(No column name)": "4",
                                    "SZALLAS_NEV": "Kentaur Hotel",
                                    "SZOBA_ID": "68"
                                },
                                {
                                    "(No column name)": "2",
                                    "SZALLAS_NEV": "Kentaur Hotel",
                                    "SZOBA_ID": "69"
                                },
                                {
                                    "(No column name)": "4",
                                    "SZALLAS_NEV": "Kentaur Hotel",
                                    "SZOBA_ID": "69"
                                },
                                {
                                    "(No column name)": "2",
                                    "SZALLAS_NEV": "Kentaur Hotel",
                                    "SZOBA_ID": "70"
                                },
                                {
                                    "(No column name)": "2",
                                    "SZALLAS_NEV": "Kentaur Hotel",
                                    "SZOBA_ID": "71"
                                },
                                {
                                    "(No column name)": "3",
                                    "SZALLAS_NEV": "Kentaur Hotel",
                                    "SZOBA_ID": "71"
                                },
                                {
                                    "(No column name)": "1",
                                    "SZALLAS_NEV": "Kentaur Hotel",
                                    "SZOBA_ID": "72"
                                },
                                {
                                    "(No column name)": "1",
                                    "SZALLAS_NEV": "Kentaur Hotel",
                                    "SZOBA_ID": "73"
                                },
                                {
                                    "(No column name)": "2",
                                    "SZALLAS_NEV": "Kentaur Hotel",
                                    "SZOBA_ID": "73"
                                },
                                {
                                    "(No column name)": "3",
                                    "SZALLAS_NEV": "Kentaur Hotel",
                                    "SZOBA_ID": "74"
                                },
                                {
                                    "(No column name)": "2",
                                    "SZALLAS_NEV": "Kentaur Hotel",
                                    "SZOBA_ID": "75"
                                },
                                {
                                    "(No column name)": "3",
                                    "SZALLAS_NEV": "Kentaur Hotel",
                                    "SZOBA_ID": "75"
                                },
                                {
                                    "(No column name)": "1",
                                    "SZALLAS_NEV": "Kentaur Hotel",
                                    "SZOBA_ID": "76"
                                },
                                {
                                    "(No column name)": "2",
                                    "SZALLAS_NEV": "Kentaur Hotel",
                                    "SZOBA_ID": "76"
                                },
                                {
                                    "(No column name)": "1",
                                    "SZALLAS_NEV": "Kentaur Hotel",
                                    "SZOBA_ID": "77"
                                },
                                {
                                    "(No column name)": "2",
                                    "SZALLAS_NEV": "Kentaur Hotel",
                                    "SZOBA_ID": "77"
                                },
                                {
                                    "(No column name)": "2",
                                    "SZALLAS_NEV": "Kentaur Hotel",
                                    "SZOBA_ID": "78"
                                },
                                {
                                    "(No column name)": "3",
                                    "SZALLAS_NEV": "Kentaur Hotel",
                                    "SZOBA_ID": "78"
                                },
                                {
                                    "(No column name)": "2",
                                    "SZALLAS_NEV": "Kentaur Hotel",
                                    "SZOBA_ID": "79"
                                },
                                {
                                    "(No column name)": "1",
                                    "SZALLAS_NEV": "Kentaur Hotel",
                                    "SZOBA_ID": "80"
                                },
                                {
                                    "(No column name)": "2",
                                    "SZALLAS_NEV": "Kentaur Hotel",
                                    "SZOBA_ID": "80"
                                },
                                {
                                    "(No column name)": "1",
                                    "SZALLAS_NEV": "Kentaur Hotel",
                                    "SZOBA_ID": "81"
                                },
                                {
                                    "(No column name)": "2",
                                    "SZALLAS_NEV": "Kentaur Hotel",
                                    "SZOBA_ID": "81"
                                },
                                {
                                    "(No column name)": "2",
                                    "SZALLAS_NEV": "Kentaur Hotel",
                                    "SZOBA_ID": "82"
                                },
                                {
                                    "(No column name)": "3",
                                    "SZALLAS_NEV": "Kentaur Hotel",
                                    "SZOBA_ID": "82"
                                },
                                {
                                    "(No column name)": "1",
                                    "SZALLAS_NEV": "Kentaur Hotel",
                                    "SZOBA_ID": "83"
                                },
                                {
                                    "(No column name)": "2",
                                    "SZALLAS_NEV": "Kentaur Hotel",
                                    "SZOBA_ID": "83"
                                },
                                {
                                    "(No column name)": "1",
                                    "SZALLAS_NEV": "Kentaur Hotel",
                                    "SZOBA_ID": "84"
                                },
                                {
                                    "(No column name)": "2",
                                    "SZALLAS_NEV": "Kentaur Hotel",
                                    "SZOBA_ID": "84"
                                },
                                {
                                    "(No column name)": "2",
                                    "SZALLAS_NEV": "Lagúna Hotel",
                                    "SZOBA_ID": "135"
                                },
                                {
                                    "(No column name)": "3",
                                    "SZALLAS_NEV": "Lagúna Hotel",
                                    "SZOBA_ID": "135"
                                },
                                {
                                    "(No column name)": "1",
                                    "SZALLAS_NEV": "Lagúna Hotel",
                                    "SZOBA_ID": "136"
                                },
                                {
                                    "(No column name)": "2",
                                    "SZALLAS_NEV": "Lagúna Hotel",
                                    "SZOBA_ID": "136"
                                },
                                {
                                    "(No column name)": "2",
                                    "SZALLAS_NEV": "Lagúna Hotel",
                                    "SZOBA_ID": "137"
                                },
                                {
                                    "(No column name)": "2",
                                    "SZALLAS_NEV": "Lagúna Hotel",
                                    "SZOBA_ID": "138"
                                },
                                {
                                    "(No column name)": "3",
                                    "SZALLAS_NEV": "Lagúna Hotel",
                                    "SZOBA_ID": "138"
                                },
                                {
                                    "(No column name)": "4",
                                    "SZALLAS_NEV": "Lagúna Hotel",
                                    "SZOBA_ID": "138"
                                },
                                {
                                    "(No column name)": "1",
                                    "SZALLAS_NEV": "Lagúna Hotel",
                                    "SZOBA_ID": "139"
                                },
                                {
                                    "(No column name)": "2",
                                    "SZALLAS_NEV": "Lagúna Hotel",
                                    "SZOBA_ID": "139"
                                },
                                {
                                    "(No column name)": "2",
                                    "SZALLAS_NEV": "Lagúna Hotel",
                                    "SZOBA_ID": "140"
                                },
                                {
                                    "(No column name)": "2",
                                    "SZALLAS_NEV": "Lagúna Hotel",
                                    "SZOBA_ID": "141"
                                },
                                {
                                    "(No column name)": "2",
                                    "SZALLAS_NEV": "Lagúna Hotel",
                                    "SZOBA_ID": "142"
                                },
                                {
                                    "(No column name)": "2",
                                    "SZALLAS_NEV": "Lagúna Hotel",
                                    "SZOBA_ID": "143"
                                },
                                {
                                    "(No column name)": "3",
                                    "SZALLAS_NEV": "Lagúna Hotel",
                                    "SZOBA_ID": "143"
                                },
                                {
                                    "(No column name)": "3",
                                    "SZALLAS_NEV": "Lagúna Hotel",
                                    "SZOBA_ID": "144"
                                },
                                {
                                    "(No column name)": "4",
                                    "SZALLAS_NEV": "Lagúna Hotel",
                                    "SZOBA_ID": "144"
                                },
                                {
                                    "(No column name)": "2",
                                    "SZALLAS_NEV": "Lagúna Hotel",
                                    "SZOBA_ID": "145"
                                },
                                {
                                    "(No column name)": "3",
                                    "SZALLAS_NEV": "Lagúna Hotel",
                                    "SZOBA_ID": "145"
                                },
                                {
                                    "(No column name)": "2",
                                    "SZALLAS_NEV": "Lagúna Hotel",
                                    "SZOBA_ID": "146"
                                },
                                {
                                    "(No column name)": "2",
                                    "SZALLAS_NEV": "Lagúna Hotel",
                                    "SZOBA_ID": "147"
                                },
                                {
                                    "(No column name)": "1",
                                    "SZALLAS_NEV": "Lagúna Hotel",
                                    "SZOBA_ID": "148"
                                },
                                {
                                    "(No column name)": "1",
                                    "SZALLAS_NEV": "Lagúna Hotel",
                                    "SZOBA_ID": "149"
                                },
                                {
                                    "(No column name)": "2",
                                    "SZALLAS_NEV": "Lagúna Hotel",
                                    "SZOBA_ID": "149"
                                },
                                {
                                    "(No column name)": "2",
                                    "SZALLAS_NEV": "Lagúna Hotel",
                                    "SZOBA_ID": "150"
                                },
                                {
                                    "(No column name)": "1",
                                    "SZALLAS_NEV": "Lagúna Hotel",
                                    "SZOBA_ID": "151"
                                },
                                {
                                    "(No column name)": "2",
                                    "SZALLAS_NEV": "Lagúna Hotel",
                                    "SZOBA_ID": "151"
                                },
                                {
                                    "(No column name)": "2",
                                    "SZALLAS_NEV": "Lagúna Hotel",
                                    "SZOBA_ID": "152"
                                },
                                {
                                    "(No column name)": "2",
                                    "SZALLAS_NEV": "Lagúna Hotel",
                                    "SZOBA_ID": "153"
                                },
                                {
                                    "(No column name)": "3",
                                    "SZALLAS_NEV": "Lagúna Hotel",
                                    "SZOBA_ID": "153"
                                },
                                {
                                    "(No column name)": "2",
                                    "SZALLAS_NEV": "Lagúna Hotel",
                                    "SZOBA_ID": "154"
                                },
                                {
                                    "(No column name)": "1",
                                    "SZALLAS_NEV": "Lagúna Hotel",
                                    "SZOBA_ID": "155"
                                },
                                {
                                    "(No column name)": "2",
                                    "SZALLAS_NEV": "Lagúna Hotel",
                                    "SZOBA_ID": "155"
                                },
                                {
                                    "(No column name)": "2",
                                    "SZALLAS_NEV": "Lagúna Hotel",
                                    "SZOBA_ID": "156"
                                },
                                {
                                    "(No column name)": "3",
                                    "SZALLAS_NEV": "Lagúna Hotel",
                                    "SZOBA_ID": "156"
                                },
                                {
                                    "(No column name)": "1",
                                    "SZALLAS_NEV": "Lagúna Hotel",
                                    "SZOBA_ID": "157"
                                },
                                {
                                    "(No column name)": "2",
                                    "SZALLAS_NEV": "Lagúna Hotel",
                                    "SZOBA_ID": "157"
                                },
                                {
                                    "(No column name)": "3",
                                    "SZALLAS_NEV": "Lagúna Hotel",
                                    "SZOBA_ID": "158"
                                },
                                {
                                    "(No column name)": "3",
                                    "SZALLAS_NEV": "Partiszél Vendégház",
                                    "SZOBA_ID": "160"
                                },
                                {
                                    "(No column name)": "2",
                                    "SZALLAS_NEV": "Partiszél Vendégház",
                                    "SZOBA_ID": "161"
                                },
                                {
                                    "(No column name)": "3",
                                    "SZALLAS_NEV": "Partiszél Vendégház",
                                    "SZOBA_ID": "161"
                                },
                                {
                                    "(No column name)": "2",
                                    "SZALLAS_NEV": "Partiszél Vendégház",
                                    "SZOBA_ID": "162"
                                },
                                {
                                    "(No column name)": "1",
                                    "SZALLAS_NEV": "Partiszél Vendégház",
                                    "SZOBA_ID": "163"
                                },
                                {
                                    "(No column name)": "2",
                                    "SZALLAS_NEV": "Partiszél Vendégház",
                                    "SZOBA_ID": "163"
                                },
                                {
                                    "(No column name)": "2",
                                    "SZALLAS_NEV": "Partiszél Vendégház",
                                    "SZOBA_ID": "164"
                                },
                                {
                                    "(No column name)": "1",
                                    "SZALLAS_NEV": "Sába-Ház",
                                    "SZOBA_ID": "1"
                                },
                                {
                                    "(No column name)": "2",
                                    "SZALLAS_NEV": "Sába-Ház",
                                    "SZOBA_ID": "1"
                                },
                                {
                                    "(No column name)": "3",
                                    "SZALLAS_NEV": "Sába-Ház",
                                    "SZOBA_ID": "1"
                                },
                                {
                                    "(No column name)": "3",
                                    "SZALLAS_NEV": "Sába-Ház",
                                    "SZOBA_ID": "2"
                                },
                                {
                                    "(No column name)": "4",
                                    "SZALLAS_NEV": "Sába-Ház",
                                    "SZOBA_ID": "2"
                                },
                                {
                                    "(No column name)": "2",
                                    "SZALLAS_NEV": "Sába-Ház",
                                    "SZOBA_ID": "3"
                                },
                                {
                                    "(No column name)": "3",
                                    "SZALLAS_NEV": "Sába-Ház",
                                    "SZOBA_ID": "3"
                                },
                                {
                                    "(No column name)": "1",
                                    "SZALLAS_NEV": "Sába-Ház",
                                    "SZOBA_ID": "4"
                                },
                                {
                                    "(No column name)": "2",
                                    "SZALLAS_NEV": "Sába-Ház",
                                    "SZOBA_ID": "4"
                                },
                                {
                                    "(No column name)": "1",
                                    "SZALLAS_NEV": "Sába-Ház",
                                    "SZOBA_ID": "5"
                                },
                                {
                                    "(No column name)": "2",
                                    "SZALLAS_NEV": "Sába-Ház",
                                    "SZOBA_ID": "5"
                                },
                                {
                                    "(No column name)": "2",
                                    "SZALLAS_NEV": "Sába-Ház",
                                    "SZOBA_ID": "6"
                                },
                                {
                                    "(No column name)": "3",
                                    "SZALLAS_NEV": "Sába-Ház",
                                    "SZOBA_ID": "6"
                                },
                                {
                                    "(No column name)": "1",
                                    "SZALLAS_NEV": "Sába-Ház",
                                    "SZOBA_ID": "7"
                                },
                                {
                                    "(No column name)": "2",
                                    "SZALLAS_NEV": "Sába-Ház",
                                    "SZOBA_ID": "8"
                                },
                                {
                                    "(No column name)": "3",
                                    "SZALLAS_NEV": "Sába-Ház",
                                    "SZOBA_ID": "8"
                                },
                                {
                                    "(No column name)": "3",
                                    "SZALLAS_NEV": "Sába-Ház",
                                    "SZOBA_ID": "9"
                                },
                                {
                                    "(No column name)": "4",
                                    "SZALLAS_NEV": "Sába-Ház",
                                    "SZOBA_ID": "9"
                                },
                                {
                                    "(No column name)": "2",
                                    "SZALLAS_NEV": "Sába-Ház",
                                    "SZOBA_ID": "10"
                                },
                                {
                                    "(No column name)": "1",
                                    "SZALLAS_NEV": "Sába-Ház",
                                    "SZOBA_ID": "11"
                                },
                                {
                                    "(No column name)": "2",
                                    "SZALLAS_NEV": "Sába-Ház",
                                    "SZOBA_ID": "11"
                                },
                                {
                                    "(No column name)": "1",
                                    "SZALLAS_NEV": "Sába-Ház",
                                    "SZOBA_ID": "12"
                                },
                                {
                                    "(No column name)": "2",
                                    "SZALLAS_NEV": "Sába-Ház",
                                    "SZOBA_ID": "12"
                                },
                                {
                                    "(No column name)": "2",
                                    "SZALLAS_NEV": "Szieszta Apartmanház",
                                    "SZOBA_ID": "85"
                                },
                                {
                                    "(No column name)": "1",
                                    "SZALLAS_NEV": "Szieszta Apartmanház",
                                    "SZOBA_ID": "86"
                                },
                                {
                                    "(No column name)": "2",
                                    "SZALLAS_NEV": "Szieszta Apartmanház",
                                    "SZOBA_ID": "86"
                                },
                                {
                                    "(No column name)": "3",
                                    "SZALLAS_NEV": "Szieszta Apartmanház",
                                    "SZOBA_ID": "86"
                                },
                                {
                                    "(No column name)": "2",
                                    "SZALLAS_NEV": "Szieszta Apartmanház",
                                    "SZOBA_ID": "87"
                                },
                                {
                                    "(No column name)": "3",
                                    "SZALLAS_NEV": "Szieszta Apartmanház",
                                    "SZOBA_ID": "87"
                                },
                                {
                                    "(No column name)": "2",
                                    "SZALLAS_NEV": "Szieszta Apartmanház",
                                    "SZOBA_ID": "88"
                                },
                                {
                                    "(No column name)": "2",
                                    "SZALLAS_NEV": "Szieszta Apartmanház",
                                    "SZOBA_ID": "89"
                                },
                                {
                                    "(No column name)": "3",
                                    "SZALLAS_NEV": "Szieszta Apartmanház",
                                    "SZOBA_ID": "89"
                                },
                                {
                                    "(No column name)": "2",
                                    "SZALLAS_NEV": "Szieszta Apartmanház",
                                    "SZOBA_ID": "90"
                                },
                                {
                                    "(No column name)": "3",
                                    "SZALLAS_NEV": "Szieszta Apartmanház",
                                    "SZOBA_ID": "90"
                                }
                            ],
                            "schema": {
                                "fields": [
                                    {
                                        "name": "SZALLAS_NEV"
                                    },
                                    {
                                        "name": "SZOBA_ID"
                                    },
                                    {
                                        "name": "(No column name)"
                                    }
                                ]
                            }
                        },
                        "text/html": [
                            "<table>\n",
                            "<tr><th>SZALLAS_NEV</th><th>SZOBA_ID</th><th>(No column name)</th></tr>\n",
                            "<tr><td>Családi Ház</td><td>13</td><td>1</td></tr>\n",
                            "<tr><td>Családi Ház</td><td>13</td><td>2</td></tr>\n",
                            "<tr><td>Családi Ház</td><td>14</td><td>3</td></tr>\n",
                            "<tr><td>Családi Ház</td><td>14</td><td>4</td></tr>\n",
                            "<tr><td>Családi Ház</td><td>15</td><td>2</td></tr>\n",
                            "<tr><td>Családi Ház</td><td>15</td><td>3</td></tr>\n",
                            "<tr><td>Családi Ház</td><td>16</td><td>2</td></tr>\n",
                            "<tr><td>Családi Ház</td><td>16</td><td>3</td></tr>\n",
                            "<tr><td>Fortuna Apartman</td><td>17</td><td>2</td></tr>\n",
                            "<tr><td>Fortuna Apartman</td><td>17</td><td>3</td></tr>\n",
                            "<tr><td>Fortuna Apartman</td><td>18</td><td>3</td></tr>\n",
                            "<tr><td>Fortuna Apartman</td><td>18</td><td>4</td></tr>\n",
                            "<tr><td>Fortuna Apartman</td><td>19</td><td>2</td></tr>\n",
                            "<tr><td>Fortuna Apartman</td><td>19</td><td>3</td></tr>\n",
                            "<tr><td>Fortuna Apartman</td><td>20</td><td>2</td></tr>\n",
                            "<tr><td>Fortuna Apartman</td><td>20</td><td>3</td></tr>\n",
                            "<tr><td>Fortuna Apartman</td><td>21</td><td>2</td></tr>\n",
                            "<tr><td>Fortuna Apartman</td><td>22</td><td>2</td></tr>\n",
                            "<tr><td>Fortuna Apartman</td><td>22</td><td>3</td></tr>\n",
                            "<tr><td>Fortuna Apartman</td><td>23</td><td>1</td></tr>\n",
                            "<tr><td>Fortuna Apartman</td><td>23</td><td>2</td></tr>\n",
                            "<tr><td>Fortuna Apartman</td><td>24</td><td>3</td></tr>\n",
                            "<tr><td>Fortuna Apartman</td><td>24</td><td>4</td></tr>\n",
                            "<tr><td>Fortuna Apartman</td><td>24</td><td>5</td></tr>\n",
                            "<tr><td>Fortuna panzió</td><td>25</td><td>3</td></tr>\n",
                            "<tr><td>Fortuna panzió</td><td>25</td><td>4</td></tr>\n",
                            "<tr><td>Fortuna panzió</td><td>26</td><td>2</td></tr>\n",
                            "<tr><td>Fortuna panzió</td><td>27</td><td>3</td></tr>\n",
                            "<tr><td>Fortuna panzió</td><td>28</td><td>2</td></tr>\n",
                            "<tr><td>Fortuna panzió</td><td>29</td><td>1</td></tr>\n",
                            "<tr><td>Fortuna panzió</td><td>30</td><td>1</td></tr>\n",
                            "<tr><td>Fortuna panzió</td><td>30</td><td>2</td></tr>\n",
                            "<tr><td>Fortuna panzió</td><td>31</td><td>4</td></tr>\n",
                            "<tr><td>Fortuna panzió</td><td>32</td><td>2</td></tr>\n",
                            "<tr><td>Fortuna panzió</td><td>33</td><td>2</td></tr>\n",
                            "<tr><td>Fortuna panzió</td><td>34</td><td>2</td></tr>\n",
                            "<tr><td>Fortuna panzió</td><td>34</td><td>3</td></tr>\n",
                            "<tr><td>Fortuna panzió</td><td>35</td><td>1</td></tr>\n",
                            "<tr><td>Fortuna panzió</td><td>35</td><td>2</td></tr>\n",
                            "<tr><td>Fortuna panzió</td><td>36</td><td>3</td></tr>\n",
                            "<tr><td>Fortuna panzió</td><td>36</td><td>4</td></tr>\n",
                            "<tr><td>Fortuna panzió</td><td>37</td><td>1</td></tr>\n",
                            "<tr><td>Fortuna panzió</td><td>37</td><td>2</td></tr>\n",
                            "<tr><td>Fortuna panzió</td><td>38</td><td>2</td></tr>\n",
                            "<tr><td>Fortuna panzió</td><td>38</td><td>3</td></tr>\n",
                            "<tr><td>Fortuna panzió</td><td>39</td><td>1</td></tr>\n",
                            "<tr><td>Fortuna panzió</td><td>39</td><td>2</td></tr>\n",
                            "<tr><td>Fortuna Panzió</td><td>40</td><td>2</td></tr>\n",
                            "<tr><td>Fortuna Panzió</td><td>40</td><td>3</td></tr>\n",
                            "<tr><td>Fortuna Panzió</td><td>41</td><td>3</td></tr>\n",
                            "<tr><td>Fortuna Panzió</td><td>42</td><td>2</td></tr>\n",
                            "<tr><td>Fortuna Panzió</td><td>43</td><td>2</td></tr>\n",
                            "<tr><td>Fortuna Panzió</td><td>44</td><td>3</td></tr>\n",
                            "<tr><td>Fortuna Panzió</td><td>45</td><td>1</td></tr>\n",
                            "<tr><td>Fortuna Panzió</td><td>45</td><td>2</td></tr>\n",
                            "<tr><td>Fortuna Panzió</td><td>46</td><td>2</td></tr>\n",
                            "<tr><td>Fortuna Panzió</td><td>46</td><td>3</td></tr>\n",
                            "<tr><td>Fortuna Panzió</td><td>47</td><td>1</td></tr>\n",
                            "<tr><td>Fortuna Panzió</td><td>48</td><td>1</td></tr>\n",
                            "<tr><td>Fortuna Panzió</td><td>48</td><td>2</td></tr>\n",
                            "<tr><td>Fortuna Panzió</td><td>48</td><td>3</td></tr>\n",
                            "<tr><td>Fortuna Panzió</td><td>49</td><td>2</td></tr>\n",
                            "<tr><td>Gold Hotel</td><td>165</td><td>1</td></tr>\n",
                            "<tr><td>Gold Hotel</td><td>165</td><td>2</td></tr>\n",
                            "<tr><td>Gold Hotel</td><td>166</td><td>2</td></tr>\n",
                            "<tr><td>Gold Hotel</td><td>166</td><td>3</td></tr>\n",
                            "<tr><td>Gold Hotel</td><td>167</td><td>2</td></tr>\n",
                            "<tr><td>Gold Hotel</td><td>167</td><td>3</td></tr>\n",
                            "<tr><td>Gold Hotel</td><td>168</td><td>2</td></tr>\n",
                            "<tr><td>Gold Hotel</td><td>168</td><td>3</td></tr>\n",
                            "<tr><td>Gold Hotel</td><td>169</td><td>2</td></tr>\n",
                            "<tr><td>Gold Hotel</td><td>170</td><td>1</td></tr>\n",
                            "<tr><td>Gold Hotel</td><td>171</td><td>1</td></tr>\n",
                            "<tr><td>Gold Hotel</td><td>171</td><td>2</td></tr>\n",
                            "<tr><td>Gold Hotel</td><td>172</td><td>1</td></tr>\n",
                            "<tr><td>Gold Hotel</td><td>172</td><td>2</td></tr>\n",
                            "<tr><td>Gold Hotel</td><td>173</td><td>1</td></tr>\n",
                            "<tr><td>Gold Hotel</td><td>173</td><td>2</td></tr>\n",
                            "<tr><td>Gold Hotel</td><td>174</td><td>1</td></tr>\n",
                            "<tr><td>Gold Hotel</td><td>174</td><td>2</td></tr>\n",
                            "<tr><td>Gold Hotel</td><td>175</td><td>1</td></tr>\n",
                            "<tr><td>Gold Hotel</td><td>175</td><td>2</td></tr>\n",
                            "<tr><td>Gold Hotel</td><td>176</td><td>2</td></tr>\n",
                            "<tr><td>Gold Hotel</td><td>176</td><td>3</td></tr>\n",
                            "<tr><td>Gold Hotel</td><td>177</td><td>3</td></tr>\n",
                            "<tr><td>Gold Hotel</td><td>177</td><td>4</td></tr>\n",
                            "<tr><td>Gold Hotel</td><td>178</td><td>3</td></tr>\n",
                            "<tr><td>Gold Hotel</td><td>179</td><td>3</td></tr>\n",
                            "<tr><td>Gold Hotel</td><td>180</td><td>3</td></tr>\n",
                            "<tr><td>Gold Hotel</td><td>180</td><td>4</td></tr>\n",
                            "<tr><td>Gold Hotel</td><td>181</td><td>3</td></tr>\n",
                            "<tr><td>Gold Hotel</td><td>182</td><td>1</td></tr>\n",
                            "<tr><td>Gold Hotel</td><td>183</td><td>2</td></tr>\n",
                            "<tr><td>Gold Hotel</td><td>183</td><td>3</td></tr>\n",
                            "<tr><td>Gold Hotel</td><td>184</td><td>1</td></tr>\n",
                            "<tr><td>Gold Hotel</td><td>185</td><td>2</td></tr>\n",
                            "<tr><td>Gold Hotel</td><td>185</td><td>3</td></tr>\n",
                            "<tr><td>Gold Hotel</td><td>186</td><td>3</td></tr>\n",
                            "<tr><td>Gold Hotel</td><td>186</td><td>4</td></tr>\n",
                            "<tr><td>Gold Hotel</td><td>187</td><td>2</td></tr>\n",
                            "<tr><td>Gold Hotel</td><td>187</td><td>3</td></tr>\n",
                            "<tr><td>Gold Hotel</td><td>188</td><td>2</td></tr>\n",
                            "<tr><td>Gold Hotel</td><td>189</td><td>1</td></tr>\n",
                            "<tr><td>Gold Hotel</td><td>189</td><td>2</td></tr>\n",
                            "<tr><td>Gold Hotel</td><td>190</td><td>1</td></tr>\n",
                            "<tr><td>Gold Hotel</td><td>190</td><td>2</td></tr>\n",
                            "<tr><td>Gold Hotel</td><td>191</td><td>1</td></tr>\n",
                            "<tr><td>Gold Hotel</td><td>191</td><td>2</td></tr>\n",
                            "<tr><td>Gold Hotel</td><td>192</td><td>2</td></tr>\n",
                            "<tr><td>Gold Hotel</td><td>193</td><td>4</td></tr>\n",
                            "<tr><td>Gold Hotel</td><td>194</td><td>3</td></tr>\n",
                            "<tr><td>Gold Hotel</td><td>195</td><td>1</td></tr>\n",
                            "<tr><td>Gold Hotel</td><td>195</td><td>2</td></tr>\n",
                            "<tr><td>Gold Hotel</td><td>196</td><td>2</td></tr>\n",
                            "<tr><td>Gold Hotel</td><td>196</td><td>3</td></tr>\n",
                            "<tr><td>Gold Hotel</td><td>197</td><td>2</td></tr>\n",
                            "<tr><td>Gold Hotel</td><td>197</td><td>3</td></tr>\n",
                            "<tr><td>Gold Hotel</td><td>198</td><td>1</td></tr>\n",
                            "<tr><td>Gold Hotel</td><td>198</td><td>2</td></tr>\n",
                            "<tr><td>Hotel Három Hattyú</td><td>91</td><td>1</td></tr>\n",
                            "<tr><td>Hotel Három Hattyú</td><td>91</td><td>2</td></tr>\n",
                            "<tr><td>Hotel Három Hattyú</td><td>92</td><td>3</td></tr>\n",
                            "<tr><td>Hotel Három Hattyú</td><td>92</td><td>4</td></tr>\n",
                            "<tr><td>Hotel Három Hattyú</td><td>93</td><td>3</td></tr>\n",
                            "<tr><td>Hotel Három Hattyú</td><td>93</td><td>4</td></tr>\n",
                            "<tr><td>Hotel Három Hattyú</td><td>93</td><td>5</td></tr>\n",
                            "<tr><td>Hotel Három Hattyú</td><td>94</td><td>1</td></tr>\n",
                            "<tr><td>Hotel Három Hattyú</td><td>94</td><td>2</td></tr>\n",
                            "<tr><td>Hotel Három Hattyú</td><td>95</td><td>1</td></tr>\n",
                            "<tr><td>Hotel Három Hattyú</td><td>95</td><td>2</td></tr>\n",
                            "<tr><td>Hotel Három Hattyú</td><td>96</td><td>2</td></tr>\n",
                            "<tr><td>Hotel Három Hattyú</td><td>96</td><td>3</td></tr>\n",
                            "<tr><td>Hotel Három Hattyú</td><td>97</td><td>2</td></tr>\n",
                            "<tr><td>Hotel Három Hattyú</td><td>97</td><td>3</td></tr>\n",
                            "<tr><td>Hotel Három Hattyú</td><td>98</td><td>1</td></tr>\n",
                            "<tr><td>Hotel Három Hattyú</td><td>98</td><td>2</td></tr>\n",
                            "<tr><td>Hotel Három Hattyú</td><td>99</td><td>2</td></tr>\n",
                            "<tr><td>Hotel Három Hattyú</td><td>100</td><td>2</td></tr>\n",
                            "<tr><td>Hotel Három Hattyú</td><td>100</td><td>3</td></tr>\n",
                            "<tr><td>Hotel Három Hattyú</td><td>101</td><td>2</td></tr>\n",
                            "<tr><td>Hotel Három Hattyú</td><td>102</td><td>1</td></tr>\n",
                            "<tr><td>Hotel Három Hattyú</td><td>102</td><td>2</td></tr>\n",
                            "<tr><td>Hotel Három Hattyú</td><td>103</td><td>2</td></tr>\n",
                            "<tr><td>Hotel Három Hattyú</td><td>104</td><td>2</td></tr>\n",
                            "<tr><td>Hotel Három Hattyú</td><td>105</td><td>2</td></tr>\n",
                            "<tr><td>Hotel Három Hattyú</td><td>106</td><td>1</td></tr>\n",
                            "<tr><td>Hotel Három Hattyú</td><td>106</td><td>2</td></tr>\n",
                            "<tr><td>Hotel Három Hattyú</td><td>107</td><td>2</td></tr>\n",
                            "<tr><td>Hotel Három Hattyú</td><td>107</td><td>3</td></tr>\n",
                            "<tr><td>Hotel Három Hattyú</td><td>108</td><td>1</td></tr>\n",
                            "<tr><td>Hotel Három Hattyú</td><td>108</td><td>2</td></tr>\n",
                            "<tr><td>Hotel Három Hattyú</td><td>109</td><td>2</td></tr>\n",
                            "<tr><td>Hotel Három Hattyú</td><td>110</td><td>1</td></tr>\n",
                            "<tr><td>Hotel Három Hattyú</td><td>110</td><td>2</td></tr>\n",
                            "<tr><td>Hotel Három Hattyú</td><td>111</td><td>2</td></tr>\n",
                            "<tr><td>Hotel Három Hattyú</td><td>111</td><td>3</td></tr>\n",
                            "<tr><td>Hotel Három Hattyú</td><td>112</td><td>3</td></tr>\n",
                            "<tr><td>Hotel Három Hattyú</td><td>113</td><td>4</td></tr>\n",
                            "<tr><td>Hotel Három Hattyú</td><td>114</td><td>2</td></tr>\n",
                            "<tr><td>Hotel Három Hattyú</td><td>114</td><td>3</td></tr>\n",
                            "<tr><td>Hotel Három Hattyú</td><td>115</td><td>2</td></tr>\n",
                            "<tr><td>Hotel Három Hattyú</td><td>115</td><td>3</td></tr>\n",
                            "<tr><td>Hotel Három Hattyú</td><td>116</td><td>2</td></tr>\n",
                            "<tr><td>Hotel Három Hattyú</td><td>116</td><td>3</td></tr>\n",
                            "<tr><td>Hotel Három Hattyú</td><td>117</td><td>2</td></tr>\n",
                            "<tr><td>Hotel Három Hattyú</td><td>117</td><td>3</td></tr>\n",
                            "<tr><td>Hotel Három Hattyú</td><td>117</td><td>4</td></tr>\n",
                            "<tr><td>Hotel Három Hattyú</td><td>118</td><td>2</td></tr>\n",
                            "<tr><td>Hotel Három Hattyú</td><td>119</td><td>1</td></tr>\n",
                            "<tr><td>Hotel Három Hattyú</td><td>119</td><td>2</td></tr>\n",
                            "<tr><td>Hotel Három Hattyú</td><td>120</td><td>2</td></tr>\n",
                            "<tr><td>Hotel Három Hattyú</td><td>120</td><td>3</td></tr>\n",
                            "<tr><td>Hotel Három Hattyú</td><td>120</td><td>4</td></tr>\n",
                            "<tr><td>Hotel Három Hattyú</td><td>121</td><td>2</td></tr>\n",
                            "<tr><td>Hotel Három Hattyú</td><td>121</td><td>3</td></tr>\n",
                            "<tr><td>Hotel Három Hattyú</td><td>122</td><td>3</td></tr>\n",
                            "<tr><td>Hotel Három Hattyú</td><td>122</td><td>4</td></tr>\n",
                            "<tr><td>Hotel Három Hattyú</td><td>123</td><td>2</td></tr>\n",
                            "<tr><td>Hotel Három Hattyú</td><td>123</td><td>3</td></tr>\n",
                            "<tr><td>Hotel Három Hattyú</td><td>124</td><td>2</td></tr>\n",
                            "<tr><td>Hotel Három Hattyú</td><td>124</td><td>3</td></tr>\n",
                            "<tr><td>Hotel Három Hattyú</td><td>125</td><td>3</td></tr>\n",
                            "<tr><td>Hotel Három Hattyú</td><td>126</td><td>1</td></tr>\n",
                            "<tr><td>Hotel Három Hattyú</td><td>126</td><td>2</td></tr>\n",
                            "<tr><td>Hotel Három Hattyú</td><td>126</td><td>3</td></tr>\n",
                            "<tr><td>Hotel Három Hattyú</td><td>127</td><td>2</td></tr>\n",
                            "<tr><td>Hotel Három Hattyú</td><td>127</td><td>3</td></tr>\n",
                            "<tr><td>Hotel Három Hattyú</td><td>128</td><td>2</td></tr>\n",
                            "<tr><td>Hotel Három Hattyú</td><td>129</td><td>2</td></tr>\n",
                            "<tr><td>Hotel Három Hattyú</td><td>129</td><td>3</td></tr>\n",
                            "<tr><td>Jáde panzió</td><td>130</td><td>1</td></tr>\n",
                            "<tr><td>Jáde panzió</td><td>130</td><td>2</td></tr>\n",
                            "<tr><td>Jáde panzió</td><td>131</td><td>1</td></tr>\n",
                            "<tr><td>Jáde panzió</td><td>131</td><td>2</td></tr>\n",
                            "<tr><td>Jáde panzió</td><td>132</td><td>2</td></tr>\n",
                            "<tr><td>Jáde panzió</td><td>132</td><td>3</td></tr>\n",
                            "<tr><td>Jáde panzió</td><td>133</td><td>2</td></tr>\n",
                            "<tr><td>Jáde panzió</td><td>133</td><td>3</td></tr>\n",
                            "<tr><td>Jáde panzió</td><td>134</td><td>2</td></tr>\n",
                            "<tr><td>Kentaur Hotel</td><td>50</td><td>1</td></tr>\n",
                            "<tr><td>Kentaur Hotel</td><td>50</td><td>2</td></tr>\n",
                            "<tr><td>Kentaur Hotel</td><td>51</td><td>2</td></tr>\n",
                            "<tr><td>Kentaur Hotel</td><td>51</td><td>3</td></tr>\n",
                            "<tr><td>Kentaur Hotel</td><td>51</td><td>4</td></tr>\n",
                            "<tr><td>Kentaur Hotel</td><td>52</td><td>1</td></tr>\n",
                            "<tr><td>Kentaur Hotel</td><td>52</td><td>2</td></tr>\n",
                            "<tr><td>Kentaur Hotel</td><td>52</td><td>3</td></tr>\n",
                            "<tr><td>Kentaur Hotel</td><td>53</td><td>2</td></tr>\n",
                            "<tr><td>Kentaur Hotel</td><td>54</td><td>2</td></tr>\n",
                            "<tr><td>Kentaur Hotel</td><td>55</td><td>2</td></tr>\n",
                            "<tr><td>Kentaur Hotel</td><td>55</td><td>3</td></tr>\n",
                            "<tr><td>Kentaur Hotel</td><td>56</td><td>1</td></tr>\n",
                            "<tr><td>Kentaur Hotel</td><td>56</td><td>2</td></tr>\n",
                            "<tr><td>Kentaur Hotel</td><td>57</td><td>1</td></tr>\n",
                            "<tr><td>Kentaur Hotel</td><td>58</td><td>2</td></tr>\n",
                            "<tr><td>Kentaur Hotel</td><td>59</td><td>2</td></tr>\n",
                            "<tr><td>Kentaur Hotel</td><td>59</td><td>3</td></tr>\n",
                            "<tr><td>Kentaur Hotel</td><td>60</td><td>2</td></tr>\n",
                            "<tr><td>Kentaur Hotel</td><td>61</td><td>2</td></tr>\n",
                            "<tr><td>Kentaur Hotel</td><td>61</td><td>3</td></tr>\n",
                            "<tr><td>Kentaur Hotel</td><td>62</td><td>1</td></tr>\n",
                            "<tr><td>Kentaur Hotel</td><td>62</td><td>2</td></tr>\n",
                            "<tr><td>Kentaur Hotel</td><td>63</td><td>1</td></tr>\n",
                            "<tr><td>Kentaur Hotel</td><td>64</td><td>2</td></tr>\n",
                            "<tr><td>Kentaur Hotel</td><td>65</td><td>2</td></tr>\n",
                            "<tr><td>Kentaur Hotel</td><td>66</td><td>3</td></tr>\n",
                            "<tr><td>Kentaur Hotel</td><td>67</td><td>2</td></tr>\n",
                            "<tr><td>Kentaur Hotel</td><td>67</td><td>3</td></tr>\n",
                            "<tr><td>Kentaur Hotel</td><td>68</td><td>4</td></tr>\n",
                            "<tr><td>Kentaur Hotel</td><td>69</td><td>2</td></tr>\n",
                            "<tr><td>Kentaur Hotel</td><td>69</td><td>4</td></tr>\n",
                            "<tr><td>Kentaur Hotel</td><td>70</td><td>2</td></tr>\n",
                            "<tr><td>Kentaur Hotel</td><td>71</td><td>2</td></tr>\n",
                            "<tr><td>Kentaur Hotel</td><td>71</td><td>3</td></tr>\n",
                            "<tr><td>Kentaur Hotel</td><td>72</td><td>1</td></tr>\n",
                            "<tr><td>Kentaur Hotel</td><td>73</td><td>1</td></tr>\n",
                            "<tr><td>Kentaur Hotel</td><td>73</td><td>2</td></tr>\n",
                            "<tr><td>Kentaur Hotel</td><td>74</td><td>3</td></tr>\n",
                            "<tr><td>Kentaur Hotel</td><td>75</td><td>2</td></tr>\n",
                            "<tr><td>Kentaur Hotel</td><td>75</td><td>3</td></tr>\n",
                            "<tr><td>Kentaur Hotel</td><td>76</td><td>1</td></tr>\n",
                            "<tr><td>Kentaur Hotel</td><td>76</td><td>2</td></tr>\n",
                            "<tr><td>Kentaur Hotel</td><td>77</td><td>1</td></tr>\n",
                            "<tr><td>Kentaur Hotel</td><td>77</td><td>2</td></tr>\n",
                            "<tr><td>Kentaur Hotel</td><td>78</td><td>2</td></tr>\n",
                            "<tr><td>Kentaur Hotel</td><td>78</td><td>3</td></tr>\n",
                            "<tr><td>Kentaur Hotel</td><td>79</td><td>2</td></tr>\n",
                            "<tr><td>Kentaur Hotel</td><td>80</td><td>1</td></tr>\n",
                            "<tr><td>Kentaur Hotel</td><td>80</td><td>2</td></tr>\n",
                            "<tr><td>Kentaur Hotel</td><td>81</td><td>1</td></tr>\n",
                            "<tr><td>Kentaur Hotel</td><td>81</td><td>2</td></tr>\n",
                            "<tr><td>Kentaur Hotel</td><td>82</td><td>2</td></tr>\n",
                            "<tr><td>Kentaur Hotel</td><td>82</td><td>3</td></tr>\n",
                            "<tr><td>Kentaur Hotel</td><td>83</td><td>1</td></tr>\n",
                            "<tr><td>Kentaur Hotel</td><td>83</td><td>2</td></tr>\n",
                            "<tr><td>Kentaur Hotel</td><td>84</td><td>1</td></tr>\n",
                            "<tr><td>Kentaur Hotel</td><td>84</td><td>2</td></tr>\n",
                            "<tr><td>Lagúna Hotel</td><td>135</td><td>2</td></tr>\n",
                            "<tr><td>Lagúna Hotel</td><td>135</td><td>3</td></tr>\n",
                            "<tr><td>Lagúna Hotel</td><td>136</td><td>1</td></tr>\n",
                            "<tr><td>Lagúna Hotel</td><td>136</td><td>2</td></tr>\n",
                            "<tr><td>Lagúna Hotel</td><td>137</td><td>2</td></tr>\n",
                            "<tr><td>Lagúna Hotel</td><td>138</td><td>2</td></tr>\n",
                            "<tr><td>Lagúna Hotel</td><td>138</td><td>3</td></tr>\n",
                            "<tr><td>Lagúna Hotel</td><td>138</td><td>4</td></tr>\n",
                            "<tr><td>Lagúna Hotel</td><td>139</td><td>1</td></tr>\n",
                            "<tr><td>Lagúna Hotel</td><td>139</td><td>2</td></tr>\n",
                            "<tr><td>Lagúna Hotel</td><td>140</td><td>2</td></tr>\n",
                            "<tr><td>Lagúna Hotel</td><td>141</td><td>2</td></tr>\n",
                            "<tr><td>Lagúna Hotel</td><td>142</td><td>2</td></tr>\n",
                            "<tr><td>Lagúna Hotel</td><td>143</td><td>2</td></tr>\n",
                            "<tr><td>Lagúna Hotel</td><td>143</td><td>3</td></tr>\n",
                            "<tr><td>Lagúna Hotel</td><td>144</td><td>3</td></tr>\n",
                            "<tr><td>Lagúna Hotel</td><td>144</td><td>4</td></tr>\n",
                            "<tr><td>Lagúna Hotel</td><td>145</td><td>2</td></tr>\n",
                            "<tr><td>Lagúna Hotel</td><td>145</td><td>3</td></tr>\n",
                            "<tr><td>Lagúna Hotel</td><td>146</td><td>2</td></tr>\n",
                            "<tr><td>Lagúna Hotel</td><td>147</td><td>2</td></tr>\n",
                            "<tr><td>Lagúna Hotel</td><td>148</td><td>1</td></tr>\n",
                            "<tr><td>Lagúna Hotel</td><td>149</td><td>1</td></tr>\n",
                            "<tr><td>Lagúna Hotel</td><td>149</td><td>2</td></tr>\n",
                            "<tr><td>Lagúna Hotel</td><td>150</td><td>2</td></tr>\n",
                            "<tr><td>Lagúna Hotel</td><td>151</td><td>1</td></tr>\n",
                            "<tr><td>Lagúna Hotel</td><td>151</td><td>2</td></tr>\n",
                            "<tr><td>Lagúna Hotel</td><td>152</td><td>2</td></tr>\n",
                            "<tr><td>Lagúna Hotel</td><td>153</td><td>2</td></tr>\n",
                            "<tr><td>Lagúna Hotel</td><td>153</td><td>3</td></tr>\n",
                            "<tr><td>Lagúna Hotel</td><td>154</td><td>2</td></tr>\n",
                            "<tr><td>Lagúna Hotel</td><td>155</td><td>1</td></tr>\n",
                            "<tr><td>Lagúna Hotel</td><td>155</td><td>2</td></tr>\n",
                            "<tr><td>Lagúna Hotel</td><td>156</td><td>2</td></tr>\n",
                            "<tr><td>Lagúna Hotel</td><td>156</td><td>3</td></tr>\n",
                            "<tr><td>Lagúna Hotel</td><td>157</td><td>1</td></tr>\n",
                            "<tr><td>Lagúna Hotel</td><td>157</td><td>2</td></tr>\n",
                            "<tr><td>Lagúna Hotel</td><td>158</td><td>3</td></tr>\n",
                            "<tr><td>Partiszél Vendégház</td><td>160</td><td>3</td></tr>\n",
                            "<tr><td>Partiszél Vendégház</td><td>161</td><td>2</td></tr>\n",
                            "<tr><td>Partiszél Vendégház</td><td>161</td><td>3</td></tr>\n",
                            "<tr><td>Partiszél Vendégház</td><td>162</td><td>2</td></tr>\n",
                            "<tr><td>Partiszél Vendégház</td><td>163</td><td>1</td></tr>\n",
                            "<tr><td>Partiszél Vendégház</td><td>163</td><td>2</td></tr>\n",
                            "<tr><td>Partiszél Vendégház</td><td>164</td><td>2</td></tr>\n",
                            "<tr><td>Sába-Ház</td><td>1</td><td>1</td></tr>\n",
                            "<tr><td>Sába-Ház</td><td>1</td><td>2</td></tr>\n",
                            "<tr><td>Sába-Ház</td><td>1</td><td>3</td></tr>\n",
                            "<tr><td>Sába-Ház</td><td>2</td><td>3</td></tr>\n",
                            "<tr><td>Sába-Ház</td><td>2</td><td>4</td></tr>\n",
                            "<tr><td>Sába-Ház</td><td>3</td><td>2</td></tr>\n",
                            "<tr><td>Sába-Ház</td><td>3</td><td>3</td></tr>\n",
                            "<tr><td>Sába-Ház</td><td>4</td><td>1</td></tr>\n",
                            "<tr><td>Sába-Ház</td><td>4</td><td>2</td></tr>\n",
                            "<tr><td>Sába-Ház</td><td>5</td><td>1</td></tr>\n",
                            "<tr><td>Sába-Ház</td><td>5</td><td>2</td></tr>\n",
                            "<tr><td>Sába-Ház</td><td>6</td><td>2</td></tr>\n",
                            "<tr><td>Sába-Ház</td><td>6</td><td>3</td></tr>\n",
                            "<tr><td>Sába-Ház</td><td>7</td><td>1</td></tr>\n",
                            "<tr><td>Sába-Ház</td><td>8</td><td>2</td></tr>\n",
                            "<tr><td>Sába-Ház</td><td>8</td><td>3</td></tr>\n",
                            "<tr><td>Sába-Ház</td><td>9</td><td>3</td></tr>\n",
                            "<tr><td>Sába-Ház</td><td>9</td><td>4</td></tr>\n",
                            "<tr><td>Sába-Ház</td><td>10</td><td>2</td></tr>\n",
                            "<tr><td>Sába-Ház</td><td>11</td><td>1</td></tr>\n",
                            "<tr><td>Sába-Ház</td><td>11</td><td>2</td></tr>\n",
                            "<tr><td>Sába-Ház</td><td>12</td><td>1</td></tr>\n",
                            "<tr><td>Sába-Ház</td><td>12</td><td>2</td></tr>\n",
                            "<tr><td>Szieszta Apartmanház</td><td>85</td><td>2</td></tr>\n",
                            "<tr><td>Szieszta Apartmanház</td><td>86</td><td>1</td></tr>\n",
                            "<tr><td>Szieszta Apartmanház</td><td>86</td><td>2</td></tr>\n",
                            "<tr><td>Szieszta Apartmanház</td><td>86</td><td>3</td></tr>\n",
                            "<tr><td>Szieszta Apartmanház</td><td>87</td><td>2</td></tr>\n",
                            "<tr><td>Szieszta Apartmanház</td><td>87</td><td>3</td></tr>\n",
                            "<tr><td>Szieszta Apartmanház</td><td>88</td><td>2</td></tr>\n",
                            "<tr><td>Szieszta Apartmanház</td><td>89</td><td>2</td></tr>\n",
                            "<tr><td>Szieszta Apartmanház</td><td>89</td><td>3</td></tr>\n",
                            "<tr><td>Szieszta Apartmanház</td><td>90</td><td>2</td></tr>\n",
                            "<tr><td>Szieszta Apartmanház</td><td>90</td><td>3</td></tr>\n",
                            "</table>"
                        ]
                    },
                    "execution_count": 25,
                    "metadata": {},
                    "output_type": "execute_result"
                }
            ],
            "source": [
                "SELECT DISTINCT szh.SZALLAS_NEV, sz.SZOBA_ID, avg(f.FELNOTT_SZAM+f.GYERMEK_SZAM)\n",
                "            OVER(Partition by sz.szoba_id ORDER BY f.mettol ROWS BETWEEN CUrrent row and 5 following)\n",
                "FROM Szallashely szh JOIN SZoba sz ON szh.SZALLAS_ID=sz.SZALLAS_FK\n",
                "                    JOIN Foglalas f ON sz.SZOBA_ID=f.SZOBA_FK"
            ]
        },
        {
            "attachments": {},
            "cell_type": "markdown",
            "metadata": {
                "azdata_cell_guid": "3303d3ff-b00a-4457-bc7d-c67c0dd540c6",
                "language": "sql"
            },
            "source": [
                "4\\. feladat"
            ]
        },
        {
            "cell_type": "code",
            "execution_count": 26,
            "metadata": {
                "azdata_cell_guid": "72e880cd-7e98-4525-aceb-f978d0e4ac16",
                "language": "sql"
            },
            "outputs": [
                {
                    "data": {
                        "text/html": [
                            "(41 rows affected)"
                        ]
                    },
                    "metadata": {},
                    "output_type": "display_data"
                },
                {
                    "data": {
                        "text/html": [
                            "Total execution time: 00:00:00.016"
                        ]
                    },
                    "metadata": {},
                    "output_type": "display_data"
                },
                {
                    "data": {
                        "application/vnd.dataresource+json": {
                            "data": [
                                {
                                    "(No column name)": "10",
                                    "POTAGY": "0",
                                    "SZALLAS_NEV": "Családi Ház"
                                },
                                {
                                    "(No column name)": "31",
                                    "POTAGY": "1",
                                    "SZALLAS_NEV": "Családi Ház"
                                },
                                {
                                    "(No column name)": "11",
                                    "POTAGY": "2",
                                    "SZALLAS_NEV": "Családi Ház"
                                },
                                {
                                    "(No column name)": "52",
                                    "POTAGY": "NULL",
                                    "SZALLAS_NEV": "Családi Ház"
                                },
                                {
                                    "(No column name)": "18",
                                    "POTAGY": "0",
                                    "SZALLAS_NEV": "Fortuna Apartman"
                                },
                                {
                                    "(No column name)": "52",
                                    "POTAGY": "1",
                                    "SZALLAS_NEV": "Fortuna Apartman"
                                },
                                {
                                    "(No column name)": "36",
                                    "POTAGY": "2",
                                    "SZALLAS_NEV": "Fortuna Apartman"
                                },
                                {
                                    "(No column name)": "106",
                                    "POTAGY": "NULL",
                                    "SZALLAS_NEV": "Fortuna Apartman"
                                },
                                {
                                    "(No column name)": "158",
                                    "POTAGY": "0",
                                    "SZALLAS_NEV": "Fortuna Panzió"
                                },
                                {
                                    "(No column name)": "113",
                                    "POTAGY": "1",
                                    "SZALLAS_NEV": "Fortuna panzió"
                                },
                                {
                                    "(No column name)": "40",
                                    "POTAGY": "2",
                                    "SZALLAS_NEV": "Fortuna panzió"
                                },
                                {
                                    "(No column name)": "311",
                                    "POTAGY": "NULL",
                                    "SZALLAS_NEV": "Fortuna Panzió"
                                },
                                {
                                    "(No column name)": "216",
                                    "POTAGY": "0",
                                    "SZALLAS_NEV": "Gold Hotel"
                                },
                                {
                                    "(No column name)": "93",
                                    "POTAGY": "1",
                                    "SZALLAS_NEV": "Gold Hotel"
                                },
                                {
                                    "(No column name)": "119",
                                    "POTAGY": "2",
                                    "SZALLAS_NEV": "Gold Hotel"
                                },
                                {
                                    "(No column name)": "428",
                                    "POTAGY": "NULL",
                                    "SZALLAS_NEV": "Gold Hotel"
                                },
                                {
                                    "(No column name)": "183",
                                    "POTAGY": "0",
                                    "SZALLAS_NEV": "Hotel Három Hattyú"
                                },
                                {
                                    "(No column name)": "258",
                                    "POTAGY": "1",
                                    "SZALLAS_NEV": "Hotel Három Hattyú"
                                },
                                {
                                    "(No column name)": "63",
                                    "POTAGY": "2",
                                    "SZALLAS_NEV": "Hotel Három Hattyú"
                                },
                                {
                                    "(No column name)": "504",
                                    "POTAGY": "NULL",
                                    "SZALLAS_NEV": "Hotel Három Hattyú"
                                },
                                {
                                    "(No column name)": "66",
                                    "POTAGY": "0",
                                    "SZALLAS_NEV": "Jáde panzió"
                                },
                                {
                                    "(No column name)": "66",
                                    "POTAGY": "NULL",
                                    "SZALLAS_NEV": "Jáde panzió"
                                },
                                {
                                    "(No column name)": "168",
                                    "POTAGY": "0",
                                    "SZALLAS_NEV": "Kentaur Hotel"
                                },
                                {
                                    "(No column name)": "224",
                                    "POTAGY": "1",
                                    "SZALLAS_NEV": "Kentaur Hotel"
                                },
                                {
                                    "(No column name)": "28",
                                    "POTAGY": "2",
                                    "SZALLAS_NEV": "Kentaur Hotel"
                                },
                                {
                                    "(No column name)": "420",
                                    "POTAGY": "NULL",
                                    "SZALLAS_NEV": "Kentaur Hotel"
                                },
                                {
                                    "(No column name)": "105",
                                    "POTAGY": "0",
                                    "SZALLAS_NEV": "Lagúna Hotel"
                                },
                                {
                                    "(No column name)": "150",
                                    "POTAGY": "1",
                                    "SZALLAS_NEV": "Lagúna Hotel"
                                },
                                {
                                    "(No column name)": "36",
                                    "POTAGY": "2",
                                    "SZALLAS_NEV": "Lagúna Hotel"
                                },
                                {
                                    "(No column name)": "291",
                                    "POTAGY": "NULL",
                                    "SZALLAS_NEV": "Lagúna Hotel"
                                },
                                {
                                    "(No column name)": "31",
                                    "POTAGY": "0",
                                    "SZALLAS_NEV": "Partiszél Vendégház"
                                },
                                {
                                    "(No column name)": "17",
                                    "POTAGY": "1",
                                    "SZALLAS_NEV": "Partiszél Vendégház"
                                },
                                {
                                    "(No column name)": "15",
                                    "POTAGY": "2",
                                    "SZALLAS_NEV": "Partiszél Vendégház"
                                },
                                {
                                    "(No column name)": "63",
                                    "POTAGY": "NULL",
                                    "SZALLAS_NEV": "Partiszél Vendégház"
                                },
                                {
                                    "(No column name)": "67",
                                    "POTAGY": "0",
                                    "SZALLAS_NEV": "Sába-Ház"
                                },
                                {
                                    "(No column name)": "99",
                                    "POTAGY": "1",
                                    "SZALLAS_NEV": "Sába-Ház"
                                },
                                {
                                    "(No column name)": "166",
                                    "POTAGY": "NULL",
                                    "SZALLAS_NEV": "Sába-Ház"
                                },
                                {
                                    "(No column name)": "64",
                                    "POTAGY": "0",
                                    "SZALLAS_NEV": "Szieszta Apartmanház"
                                },
                                {
                                    "(No column name)": "19",
                                    "POTAGY": "1",
                                    "SZALLAS_NEV": "Szieszta Apartmanház"
                                },
                                {
                                    "(No column name)": "83",
                                    "POTAGY": "NULL",
                                    "SZALLAS_NEV": "Szieszta Apartmanház"
                                },
                                {
                                    "(No column name)": "2490",
                                    "POTAGY": "NULL",
                                    "SZALLAS_NEV": "NULL"
                                }
                            ],
                            "schema": {
                                "fields": [
                                    {
                                        "name": "SZALLAS_NEV"
                                    },
                                    {
                                        "name": "POTAGY"
                                    },
                                    {
                                        "name": "(No column name)"
                                    }
                                ]
                            }
                        },
                        "text/html": [
                            "<table>\n",
                            "<tr><th>SZALLAS_NEV</th><th>POTAGY</th><th>(No column name)</th></tr>\n",
                            "<tr><td>Családi Ház</td><td>0</td><td>10</td></tr>\n",
                            "<tr><td>Családi Ház</td><td>1</td><td>31</td></tr>\n",
                            "<tr><td>Családi Ház</td><td>2</td><td>11</td></tr>\n",
                            "<tr><td>Családi Ház</td><td>NULL</td><td>52</td></tr>\n",
                            "<tr><td>Fortuna Apartman</td><td>0</td><td>18</td></tr>\n",
                            "<tr><td>Fortuna Apartman</td><td>1</td><td>52</td></tr>\n",
                            "<tr><td>Fortuna Apartman</td><td>2</td><td>36</td></tr>\n",
                            "<tr><td>Fortuna Apartman</td><td>NULL</td><td>106</td></tr>\n",
                            "<tr><td>Fortuna Panzió</td><td>0</td><td>158</td></tr>\n",
                            "<tr><td>Fortuna panzió</td><td>1</td><td>113</td></tr>\n",
                            "<tr><td>Fortuna panzió</td><td>2</td><td>40</td></tr>\n",
                            "<tr><td>Fortuna Panzió</td><td>NULL</td><td>311</td></tr>\n",
                            "<tr><td>Gold Hotel</td><td>0</td><td>216</td></tr>\n",
                            "<tr><td>Gold Hotel</td><td>1</td><td>93</td></tr>\n",
                            "<tr><td>Gold Hotel</td><td>2</td><td>119</td></tr>\n",
                            "<tr><td>Gold Hotel</td><td>NULL</td><td>428</td></tr>\n",
                            "<tr><td>Hotel Három Hattyú</td><td>0</td><td>183</td></tr>\n",
                            "<tr><td>Hotel Három Hattyú</td><td>1</td><td>258</td></tr>\n",
                            "<tr><td>Hotel Három Hattyú</td><td>2</td><td>63</td></tr>\n",
                            "<tr><td>Hotel Három Hattyú</td><td>NULL</td><td>504</td></tr>\n",
                            "<tr><td>Jáde panzió</td><td>0</td><td>66</td></tr>\n",
                            "<tr><td>Jáde panzió</td><td>NULL</td><td>66</td></tr>\n",
                            "<tr><td>Kentaur Hotel</td><td>0</td><td>168</td></tr>\n",
                            "<tr><td>Kentaur Hotel</td><td>1</td><td>224</td></tr>\n",
                            "<tr><td>Kentaur Hotel</td><td>2</td><td>28</td></tr>\n",
                            "<tr><td>Kentaur Hotel</td><td>NULL</td><td>420</td></tr>\n",
                            "<tr><td>Lagúna Hotel</td><td>0</td><td>105</td></tr>\n",
                            "<tr><td>Lagúna Hotel</td><td>1</td><td>150</td></tr>\n",
                            "<tr><td>Lagúna Hotel</td><td>2</td><td>36</td></tr>\n",
                            "<tr><td>Lagúna Hotel</td><td>NULL</td><td>291</td></tr>\n",
                            "<tr><td>Partiszél Vendégház</td><td>0</td><td>31</td></tr>\n",
                            "<tr><td>Partiszél Vendégház</td><td>1</td><td>17</td></tr>\n",
                            "<tr><td>Partiszél Vendégház</td><td>2</td><td>15</td></tr>\n",
                            "<tr><td>Partiszél Vendégház</td><td>NULL</td><td>63</td></tr>\n",
                            "<tr><td>Sába-Ház</td><td>0</td><td>67</td></tr>\n",
                            "<tr><td>Sába-Ház</td><td>1</td><td>99</td></tr>\n",
                            "<tr><td>Sába-Ház</td><td>NULL</td><td>166</td></tr>\n",
                            "<tr><td>Szieszta Apartmanház</td><td>0</td><td>64</td></tr>\n",
                            "<tr><td>Szieszta Apartmanház</td><td>1</td><td>19</td></tr>\n",
                            "<tr><td>Szieszta Apartmanház</td><td>NULL</td><td>83</td></tr>\n",
                            "<tr><td>NULL</td><td>NULL</td><td>2490</td></tr>\n",
                            "</table>"
                        ]
                    },
                    "execution_count": 26,
                    "metadata": {},
                    "output_type": "execute_result"
                }
            ],
            "source": [
                "SELECT szh.SZALLAS_NEV, sz.POTAGY, sum(f.FELNOTT_SZAM+f.GYERMEK_SZAM)\n",
                "FROM Szallashely szh JOIN Szoba sz ON szh.SZALLAS_ID=sz.SZALLAS_FK\n",
                "                    JOIN Foglalas f ON sz.SZOBA_ID=f.SZOBA_FK\n",
                "GROUP BY ROLLUP(szh.SZALLAS_NEV, sz.POTAGY)\n"
            ]
        },
        {
            "attachments": {},
            "cell_type": "markdown",
            "metadata": {
                "azdata_cell_guid": "20290406-2b06-4a84-8e57-926845d394ee",
                "language": "sql"
            },
            "source": [
                "5\\. feladat"
            ]
        },
        {
            "cell_type": "code",
            "execution_count": 42,
            "metadata": {
                "azdata_cell_guid": "c6e6ea03-6757-42c5-95f3-dc49636adcfc",
                "language": "sql",
                "tags": []
            },
            "outputs": [
                {
                    "data": {
                        "text/html": [
                            "(1 row affected)"
                        ]
                    },
                    "metadata": {},
                    "output_type": "display_data"
                },
                {
                    "data": {
                        "text/html": [
                            "Total execution time: 00:00:00.011"
                        ]
                    },
                    "metadata": {},
                    "output_type": "display_data"
                },
                {
                    "data": {
                        "application/vnd.dataresource+json": {
                            "data": [
                                {
                                    "Különböző értékek": "4",
                                    "Maximum": "4",
                                    "Minimum": "1",
                                    "not null értékek aránya": "1",
                                    "null értékek aránya": "0",
                                    "Átlag": "2"
                                }
                            ],
                            "schema": {
                                "fields": [
                                    {
                                        "name": "Minimum"
                                    },
                                    {
                                        "name": "Maximum"
                                    },
                                    {
                                        "name": "Átlag"
                                    },
                                    {
                                        "name": "Különböző értékek"
                                    },
                                    {
                                        "name": "null értékek aránya"
                                    },
                                    {
                                        "name": "not null értékek aránya"
                                    }
                                ]
                            }
                        },
                        "text/html": [
                            "<table>\n",
                            "<tr><th>Minimum</th><th>Maximum</th><th>Átlag</th><th>Különböző értékek</th><th>null értékek aránya</th><th>not null értékek aránya</th></tr>\n",
                            "<tr><td>1</td><td>4</td><td>2</td><td>4</td><td>0</td><td>1</td></tr>\n",
                            "</table>"
                        ]
                    },
                    "execution_count": 42,
                    "metadata": {},
                    "output_type": "execute_result"
                }
            ],
            "source": [
                "SELECT MIN(FEROHELY) as 'Minimum',MAX(FEROHELY) as 'Maximum', AVG(FEROHELY) as 'Átlag', COUNT(DISTINCT(FEROHELY)) as 'Különböző értékek',\n",
                "        SUM(IIF(FEROHELY IS NULL,1,0))/COUNT(FEROHELY) as 'null értékek aránya',\n",
                "        SUM(IIF(FEROHELY IS NOT NULL,1,0))/(COUNT(FEROHELY)) as 'not null értékek aránya'\n",
                "FROM Szoba"
            ]
        },
        {
            "attachments": {},
            "cell_type": "markdown",
            "metadata": {
                "azdata_cell_guid": "b6def46e-6a7c-4418-a012-e1903b184d5c",
                "language": "sql"
            },
            "source": [
                "6\\. feladat"
            ]
        },
        {
            "cell_type": "code",
            "execution_count": 35,
            "metadata": {
                "azdata_cell_guid": "55c6786e-023c-4aec-94f2-5941eef42d8a",
                "language": "sql"
            },
            "outputs": [
                {
                    "data": {
                        "text/html": [
                            "Commands completed successfully."
                        ]
                    },
                    "metadata": {},
                    "output_type": "display_data"
                },
                {
                    "data": {
                        "text/html": [
                            "Total execution time: 00:00:00"
                        ]
                    },
                    "metadata": {},
                    "output_type": "display_data"
                }
            ],
            "source": [
                "SET konyvtar_nev 'Budapesti konyvtar'\n",
                "HSET konyv:1 cim 'Kalandor' kiadas 1999 iro 'Kiss Bela'\n",
                "SADD mufajok drama krimi romantika\n",
                "RPUSH kolcsonzott_konyvek konyv:1 konyv:2 konyv:3\n",
                "ZADD konyv_cim_kolcsonzes 2 Kalandor 2 Tuskevar 4 'Pal utcai fiuk'\n"
            ]
        },
        {
            "attachments": {},
            "cell_type": "markdown",
            "metadata": {
                "azdata_cell_guid": "1b022e2a-9ec0-4a9b-a70e-351fd99db704",
                "language": "sql"
            },
            "source": [
                "7\\. feladat"
            ]
        },
        {
            "cell_type": "code",
            "execution_count": null,
            "metadata": {
                "azdata_cell_guid": "15f4a56e-187b-401a-8c39-df5409285d47",
                "language": "sql"
            },
            "outputs": [],
            "source": [
                "CREATE TABLE STUDENT(\n",
                "         ID INT PRIMARY KEY,\n",
                "         Nev TEXT,\n",
                "         Teljesitett_felevek LIST<INT>,\n",
                "         EREDMENYEK MAP<INT,FLOAT>,\n",
                "         NYELVTUDAS SET<TEXT>);\n",
                "\n",
                "\n",
                "INSERT INTO STUDENT (ID,Nev,Teljesitett_felevek,Eredmenyek,Nyelvtudas)\n",
                "            VALUES (1, 'Kiss Bela', [1,2,3], {1: 4.2, 2: 3.4, 3:4.2}, {'magyar','angol'});\n",
                "\n",
                "INSERT INTO STUDENT (ID,Nev,Teljesitett_felevek,Eredmenyek,Nyelvtudas) \n",
                "            VALUES (2, 'Toth Otto', [1,2], {1:2.1, 2: 3.8}, {'magyar'});"
            ]
        },
        {
            "attachments": {},
            "cell_type": "markdown",
            "metadata": {
                "azdata_cell_guid": "94b03b95-f2ac-492f-bcb1-c73c224bc189",
                "language": "sql"
            },
            "source": [
                "8\\. feladat"
            ]
        },
        {
            "cell_type": "code",
            "execution_count": null,
            "metadata": {
                "azdata_cell_guid": "aabe2e74-eb2a-40fb-b392-c1b3c3cd9ca8",
                "language": "sql"
            },
            "outputs": [],
            "source": [
                "MATCH(p1:Person)-[:ACTED_IN]->(m:MOVIE)<-[:ACTED_IN]-(p2:Person)\n",
                "WHERE p1.name = 'Tom Hanks' and p2.name <> 'Tom Hanks'\n",
                "RETURN DISTINCT p2.name"
            ]
        }
    ],
    "metadata": {
        "kernelspec": {
            "display_name": "SQL",
            "language": "sql",
            "name": "SQL"
        },
        "language_info": {
            "name": "sql",
            "version": ""
        }
    },
    "nbformat": 4,
    "nbformat_minor": 2
}
