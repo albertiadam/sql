{
    "metadata": {
        "kernelspec": {
            "name": "SQL",
            "display_name": "SQL",
            "language": "sql"
        },
        "language_info": {
            "name": "sql",
            "version": ""
        },
        "extensions": {
            "azuredatastudio": {
                "version": 1,
                "views": []
            }
        }
    },
    "nbformat_minor": 2,
    "nbformat": 4,
    "cells": [
        {
            "cell_type": "markdown",
            "source": [
                "**Az első 5 feladat ismétlés (többtáblás lekérdezések) a tanulmányi adatbázisból**\n",
                "\n",
                "1. Készítsünk listát arról, hogy melyik óra melyik teremben van!\n",
                "    \n",
                "    1. Jelenítsük meg az óra azonosítóját és a terem nevét!\n",
                "    2. A listát szűrjük a 3 karakter hosszú, \\[100;199\\] zárt intervallumba eső termekre! Feltesszük, hogy a 3 karakter hosszú terem nevek csak számjegyeket tartalmaznak."
            ],
            "metadata": {
                "azdata_cell_guid": "77f2d5b3-38e9-41cc-893f-f5afd02b97ef"
            },
            "attachments": {}
        },
        {
            "cell_type": "code",
            "source": [
                "SELECT o.ora_id, t.Terem\r\n",
                "FROM Orak o JOIN Termek t ON o.terem=t.Tkód\r\n",
                "WHERE len(t.Terem)=3 and t.Terem>=100 and t.Terem<=199"
            ],
            "metadata": {
                "azdata_cell_guid": "bd3cef1a-4e6e-4ece-9dc3-aaa9d2b5d66d",
                "language": "sql"
            },
            "outputs": [
                {
                    "output_type": "display_data",
                    "data": {
                        "text/html": "(30 rows affected)"
                    },
                    "metadata": {}
                },
                {
                    "output_type": "display_data",
                    "data": {
                        "text/html": "Total execution time: 00:00:00.005"
                    },
                    "metadata": {}
                },
                {
                    "output_type": "execute_result",
                    "execution_count": 4,
                    "data": {
                        "application/vnd.dataresource+json": {
                            "schema": {
                                "fields": [
                                    {
                                        "name": "ora_id"
                                    },
                                    {
                                        "name": "Terem"
                                    }
                                ]
                            },
                            "data": [
                                {
                                    "ora_id": "159",
                                    "Terem": "117"
                                },
                                {
                                    "ora_id": "160",
                                    "Terem": "118"
                                },
                                {
                                    "ora_id": "161",
                                    "Terem": "118"
                                },
                                {
                                    "ora_id": "162",
                                    "Terem": "119"
                                },
                                {
                                    "ora_id": "163",
                                    "Terem": "120"
                                },
                                {
                                    "ora_id": "164",
                                    "Terem": "119"
                                },
                                {
                                    "ora_id": "165",
                                    "Terem": "119"
                                },
                                {
                                    "ora_id": "166",
                                    "Terem": "119"
                                },
                                {
                                    "ora_id": "167",
                                    "Terem": "120"
                                },
                                {
                                    "ora_id": "170",
                                    "Terem": "120"
                                },
                                {
                                    "ora_id": "172",
                                    "Terem": "119"
                                },
                                {
                                    "ora_id": "173",
                                    "Terem": "119"
                                },
                                {
                                    "ora_id": "175",
                                    "Terem": "120"
                                },
                                {
                                    "ora_id": "176",
                                    "Terem": "118"
                                },
                                {
                                    "ora_id": "177",
                                    "Terem": "119"
                                },
                                {
                                    "ora_id": "179",
                                    "Terem": "120"
                                },
                                {
                                    "ora_id": "180",
                                    "Terem": "119"
                                },
                                {
                                    "ora_id": "181",
                                    "Terem": "118"
                                },
                                {
                                    "ora_id": "185",
                                    "Terem": "120"
                                },
                                {
                                    "ora_id": "192",
                                    "Terem": "119"
                                },
                                {
                                    "ora_id": "195",
                                    "Terem": "116"
                                },
                                {
                                    "ora_id": "197",
                                    "Terem": "116"
                                },
                                {
                                    "ora_id": "198",
                                    "Terem": "119"
                                },
                                {
                                    "ora_id": "204",
                                    "Terem": "120"
                                },
                                {
                                    "ora_id": "212",
                                    "Terem": "120"
                                },
                                {
                                    "ora_id": "218",
                                    "Terem": "118"
                                },
                                {
                                    "ora_id": "220",
                                    "Terem": "119"
                                },
                                {
                                    "ora_id": "222",
                                    "Terem": "116"
                                },
                                {
                                    "ora_id": "226",
                                    "Terem": "117"
                                },
                                {
                                    "ora_id": "227",
                                    "Terem": "116"
                                }
                            ]
                        },
                        "text/html": "<table><tr><th>ora_id</th><th>Terem</th></tr><tr><td>159</td><td>117</td></tr><tr><td>160</td><td>118</td></tr><tr><td>161</td><td>118</td></tr><tr><td>162</td><td>119</td></tr><tr><td>163</td><td>120</td></tr><tr><td>164</td><td>119</td></tr><tr><td>165</td><td>119</td></tr><tr><td>166</td><td>119</td></tr><tr><td>167</td><td>120</td></tr><tr><td>170</td><td>120</td></tr><tr><td>172</td><td>119</td></tr><tr><td>173</td><td>119</td></tr><tr><td>175</td><td>120</td></tr><tr><td>176</td><td>118</td></tr><tr><td>177</td><td>119</td></tr><tr><td>179</td><td>120</td></tr><tr><td>180</td><td>119</td></tr><tr><td>181</td><td>118</td></tr><tr><td>185</td><td>120</td></tr><tr><td>192</td><td>119</td></tr><tr><td>195</td><td>116</td></tr><tr><td>197</td><td>116</td></tr><tr><td>198</td><td>119</td></tr><tr><td>204</td><td>120</td></tr><tr><td>212</td><td>120</td></tr><tr><td>218</td><td>118</td></tr><tr><td>220</td><td>119</td></tr><tr><td>222</td><td>116</td></tr><tr><td>226</td><td>117</td></tr><tr><td>227</td><td>116</td></tr></table>"
                    },
                    "metadata": {}
                }
            ],
            "execution_count": 4
        },
        {
            "cell_type": "markdown",
            "source": [
                "2. <span style=\"font-weight: 600; color: rgb(36, 41, 47); font-family: -apple-system, BlinkMacSystemFont, &quot;Segoe UI&quot;, Helvetica, Arial, sans-serif, &quot;Apple Color Emoji&quot;, &quot;Segoe UI Emoji&quot;; font-size: 16px;\">Hány óra van összesen az egyes napokon?</span>\n",
                "\n",
                "1. Jelenítsük meg a napok nevét és az órák számát az adott napon!\n",
                "2. Az oszlopokat nevezzük el értelemszerűen!\n",
                "3. A listát rendezzük óraszám szerint növekvő sorrendbe!"
            ],
            "metadata": {
                "azdata_cell_guid": "88f5b4bb-f4c1-4bad-a0c7-b2592687b422"
            },
            "attachments": {}
        },
        {
            "cell_type": "code",
            "source": [
                "SELECT n.nap as 'Nap név', Count(*) as 'Órák száma'\r\n",
                "FROM Napok n JOIN Orak o ON o.nap = n.nap_id\r\n",
                "GROUP BY n.nap\r\n",
                "ORDER BY Count(*) ASC\r\n",
                ""
            ],
            "metadata": {
                "azdata_cell_guid": "e9de5726-f036-4fb9-8c33-a873955ed886",
                "language": "sql"
            },
            "outputs": [
                {
                    "output_type": "display_data",
                    "data": {
                        "text/html": "(5 rows affected)"
                    },
                    "metadata": {}
                },
                {
                    "output_type": "display_data",
                    "data": {
                        "text/html": "Total execution time: 00:00:00.009"
                    },
                    "metadata": {}
                },
                {
                    "output_type": "execute_result",
                    "execution_count": 7,
                    "data": {
                        "application/vnd.dataresource+json": {
                            "schema": {
                                "fields": [
                                    {
                                        "name": "Nap név"
                                    },
                                    {
                                        "name": "Órák száma"
                                    }
                                ]
                            },
                            "data": [
                                {
                                    "Nap név": "Péntek",
                                    "Órák száma": "6"
                                },
                                {
                                    "Nap név": "Szerda",
                                    "Órák száma": "6"
                                },
                                {
                                    "Nap név": "Kedd",
                                    "Órák száma": "13"
                                },
                                {
                                    "Nap név": "Csütörtök",
                                    "Órák száma": "19"
                                },
                                {
                                    "Nap név": "Hétfő",
                                    "Órák száma": "23"
                                }
                            ]
                        },
                        "text/html": "<table><tr><th>Nap név</th><th>Órák száma</th></tr><tr><td>Péntek</td><td>6</td></tr><tr><td>Szerda</td><td>6</td></tr><tr><td>Kedd</td><td>13</td></tr><tr><td>Csütörtök</td><td>19</td></tr><tr><td>Hétfő</td><td>23</td></tr></table>"
                    },
                    "metadata": {}
                }
            ],
            "execution_count": 7
        },
        {
            "cell_type": "markdown",
            "source": [
                "3. <span style=\"font-weight: 600; color: rgb(36, 41, 47); font-family: -apple-system, BlinkMacSystemFont, &quot;Segoe UI&quot;, Helvetica, Arial, sans-serif, &quot;Apple Color Emoji&quot;, &quot;Segoe UI Emoji&quot;; font-size: 16px;\">Készítsünk listát arról, hogy melyik oktatónak hány órája van az Órák táblában!</span>\n",
                "\n",
                "1. A lista jelenítse meg az oktatók nevét, és az órák számát!\n",
                "2. Az oszlopokat nevezzük el értelemszerűen!\n",
                "3. A listából hagyjuk ki az óraadókat!"
            ],
            "metadata": {
                "azdata_cell_guid": "9e7249de-1b59-43d8-84b1-26fa7d81fc5a"
            },
            "attachments": {}
        },
        {
            "cell_type": "code",
            "source": [
                "SELECT Oktatok.nev as 'Oktató neve', Count(*) as 'Órák száma'\r\n",
                "FROM Oktatok JOIN Orak on Oktatok.oktato_id=Orak.tanar JOIN Beosztasok ON Oktatok.beosztás = Beosztasok.beosztas_id\r\n",
                "WHERE Beosztasok.beosztasnev<>'Óraadó'\r\n",
                "GROUP BY Oktatok.nev"
            ],
            "metadata": {
                "azdata_cell_guid": "6405d3e8-a9b1-45d7-aa76-3b1e785ef6cc",
                "language": "sql",
                "tags": []
            },
            "outputs": [
                {
                    "output_type": "display_data",
                    "data": {
                        "text/html": "(15 rows affected)"
                    },
                    "metadata": {}
                },
                {
                    "output_type": "display_data",
                    "data": {
                        "text/html": "Total execution time: 00:00:00.009"
                    },
                    "metadata": {}
                },
                {
                    "output_type": "execute_result",
                    "execution_count": 35,
                    "data": {
                        "application/vnd.dataresource+json": {
                            "schema": {
                                "fields": [
                                    {
                                        "name": "Oktató neve"
                                    },
                                    {
                                        "name": "Órák száma"
                                    }
                                ]
                            },
                            "data": [
                                {
                                    "Oktató neve": "Balkán András",
                                    "Órák száma": "3"
                                },
                                {
                                    "Oktató neve": "Farkasos Piroska",
                                    "Órák száma": "7"
                                },
                                {
                                    "Oktató neve": "Jogrerős Pál",
                                    "Órák száma": "2"
                                },
                                {
                                    "Oktató neve": "Juhász András",
                                    "Órák száma": "2"
                                },
                                {
                                    "Oktató neve": "Kiss János",
                                    "Órák száma": "4"
                                },
                                {
                                    "Oktató neve": "Kovács László",
                                    "Órák száma": "4"
                                },
                                {
                                    "Oktató neve": "Pelikán József",
                                    "Órák száma": "6"
                                },
                                {
                                    "Oktató neve": "Róbert Gida",
                                    "Órák száma": "1"
                                },
                                {
                                    "Oktató neve": "Szénási ászló",
                                    "Órák száma": "2"
                                },
                                {
                                    "Oktató neve": "Szentágotai Istvás",
                                    "Órák száma": "8"
                                },
                                {
                                    "Oktató neve": "Szép llonka",
                                    "Órák száma": "4"
                                },
                                {
                                    "Oktató neve": "Szerb László",
                                    "Órák száma": "3"
                                },
                                {
                                    "Oktató neve": "Ujfalussi István",
                                    "Órák száma": "3"
                                },
                                {
                                    "Oktató neve": "Varga Kata",
                                    "Órák száma": "4"
                                },
                                {
                                    "Oktató neve": "Vitéz János",
                                    "Órák száma": "4"
                                }
                            ]
                        },
                        "text/html": "<table><tr><th>Oktató neve</th><th>Órák száma</th></tr><tr><td>Balkán András</td><td>3</td></tr><tr><td>Farkasos Piroska</td><td>7</td></tr><tr><td>Jogrerős Pál</td><td>2</td></tr><tr><td>Juhász András</td><td>2</td></tr><tr><td>Kiss János</td><td>4</td></tr><tr><td>Kovács László</td><td>4</td></tr><tr><td>Pelikán József</td><td>6</td></tr><tr><td>Róbert Gida</td><td>1</td></tr><tr><td>Szénási ászló</td><td>2</td></tr><tr><td>Szentágotai Istvás</td><td>8</td></tr><tr><td>Szép llonka</td><td>4</td></tr><tr><td>Szerb László</td><td>3</td></tr><tr><td>Ujfalussi István</td><td>3</td></tr><tr><td>Varga Kata</td><td>4</td></tr><tr><td>Vitéz János</td><td>4</td></tr></table>"
                    },
                    "metadata": {}
                }
            ],
            "execution_count": 35
        },
        {
            "cell_type": "markdown",
            "source": [
                "4. <span style=\"color: rgb(36, 41, 47); font-family: -apple-system, BlinkMacSystemFont, &quot;Segoe UI&quot;, Helvetica, Arial, sans-serif, &quot;Apple Color Emoji&quot;, &quot;Segoe UI Emoji&quot;; font-size: 16px;\">Van-e olyan tantárgy, amelyből nincs óra?</span>\n",
                "\n",
                "1. Jelentsük meg a tantárgy nevét és a tantárgyfelelős nevét!"
            ],
            "metadata": {
                "azdata_cell_guid": "6478e469-c094-472c-a772-ccd5b5c61516"
            },
            "attachments": {}
        },
        {
            "cell_type": "code",
            "source": [
                "SELECT asd.Tantárgynév, okt.nev\r\n",
                "FROM (SELECT Tantárgynév, Count(ora_id) as 'DB' FROM Tantárgyak t LEFT JOIN Orak o ON o.targy = t.Tkód GROUP BY t.Tantárgynév) asd JOIN Tantárgyak t ON t.Tantárgynév=asd.Tantárgynév JOIN Oktatok okt ON okt.oktato_id=t.Tantárgyfelelős\r\n",
                "WHERE asd.DB=0"
            ],
            "metadata": {
                "azdata_cell_guid": "02031ea2-3838-458d-839c-228e3b362b61",
                "language": "sql"
            },
            "outputs": [
                {
                    "output_type": "display_data",
                    "data": {
                        "text/html": "Warning: Null value is eliminated by an aggregate or other SET operation."
                    },
                    "metadata": {}
                },
                {
                    "output_type": "display_data",
                    "data": {
                        "text/html": "(1 row affected)"
                    },
                    "metadata": {}
                },
                {
                    "output_type": "display_data",
                    "data": {
                        "text/html": "Total execution time: 00:00:00.009"
                    },
                    "metadata": {}
                },
                {
                    "output_type": "execute_result",
                    "execution_count": 44,
                    "data": {
                        "application/vnd.dataresource+json": {
                            "schema": {
                                "fields": [
                                    {
                                        "name": "Tantárgynév"
                                    },
                                    {
                                        "name": "nev"
                                    }
                                ]
                            },
                            "data": [
                                {
                                    "Tantárgynév": "Folyami gáttan",
                                    "nev": "Varga Kata"
                                }
                            ]
                        },
                        "text/html": "<table><tr><th>Tantárgynév</th><th>nev</th></tr><tr><td>Folyami gáttan</td><td>Varga Kata</td></tr></table>"
                    },
                    "metadata": {}
                }
            ],
            "execution_count": 44
        },
        {
            "cell_type": "markdown",
            "source": [
                "5. <span style=\"background-color: rgb(255, 255, 255); color: rgb(36, 41, 47); font-family: -apple-system, BlinkMacSystemFont, &quot;Segoe UI&quot;, Helvetica, Arial, sans-serif, &quot;Apple Color Emoji&quot;, &quot;Segoe UI Emoji&quot;; font-size: 16px;\">Hány óra van összesen a 120-as teremben?</span>"
            ],
            "metadata": {
                "azdata_cell_guid": "9edbbaf9-c276-4898-9a01-e1b2993c089f"
            },
            "attachments": {}
        },
        {
            "cell_type": "code",
            "source": [
                "SELECT t.Terem, Count(*)\r\n",
                "FROM Termek t JOIN Orak o ON o.terem = t.Tkód\r\n",
                "GROUP BY t.Terem\r\n",
                "HAVING t.Terem=120"
            ],
            "metadata": {
                "azdata_cell_guid": "5ad5fdcb-2878-4111-861a-833bcd50e935",
                "language": "sql"
            },
            "outputs": [
                {
                    "output_type": "display_data",
                    "data": {
                        "text/html": "Total execution time: 00:00:00.005"
                    },
                    "metadata": {}
                },
                {
                    "output_type": "execute_result",
                    "execution_count": 51,
                    "data": {
                        "application/vnd.dataresource+json": {
                            "schema": {
                                "fields": [
                                    {
                                        "name": "Terem"
                                    },
                                    {
                                        "name": "(No column name)"
                                    }
                                ]
                            },
                            "data": [
                                {
                                    "Terem": "120",
                                    "(No column name)": "8"
                                }
                            ]
                        },
                        "text/html": "<table><tr><th>Terem</th><th>(No column name)</th></tr><tr><td>120</td><td>8</td></tr></table>"
                    },
                    "metadata": {}
                },
                {
                    "output_type": "error",
                    "ename": "",
                    "evalue": "Msg 245, Level 16, State 1, Line 1\r\nConversion failed when converting the nvarchar value 'E.2.238' to data type int.",
                    "traceback": []
                }
            ],
            "execution_count": 51
        },
        {
            "cell_type": "markdown",
            "source": [
                "**A 6-10 feladatokat halmazműveletek segítségével oldjuk meg, szintén a tanulmányi adatbázison**\n",
                "\n",
                "6. <span style=\"background-color:rgb(255, 255, 255);color:rgb(36, 41, 47);font-family:-apple-system, BlinkMacSystemFont, &quot;Segoe UI&quot;, Helvetica, Arial, sans-serif, &quot;Apple Color Emoji&quot;, &quot;Segoe UI Emoji&quot;;font-size:16px;font-weight:600;\">Jelenítsük meg azon tanárok azonosítóját és nevét, akik hétfői vagy keddi napokon tanítanak!</span>"
            ],
            "metadata": {
                "azdata_cell_guid": "5fe65c1c-2479-45ac-ad03-ec99d12eae21"
            },
            "attachments": {}
        },
        {
            "cell_type": "code",
            "source": [
                ""
            ],
            "metadata": {
                "azdata_cell_guid": "924f2dde-f1c2-4def-a7f9-dbf4bace7735",
                "language": "sql"
            },
            "outputs": [],
            "execution_count": null
        },
        {
            "cell_type": "markdown",
            "source": [
                "7. <span style=\"background-color: rgb(255, 255, 255); color: rgb(36, 41, 47); font-family: -apple-system, BlinkMacSystemFont, &quot;Segoe UI&quot;, Helvetica, Arial, sans-serif, &quot;Apple Color Emoji&quot;, &quot;Segoe UI Emoji&quot;; font-size: 16px; font-weight: 600;\">Melyek azok a tantárgyak, amelyek esetén van óra a 8.00-kor kezdődő sávban, de nincs a 12.30-kor kezdődő sávban?</span>"
            ],
            "metadata": {
                "azdata_cell_guid": "3aeb6bf5-b111-40d5-92b2-9712ce335696"
            },
            "attachments": {}
        },
        {
            "cell_type": "code",
            "source": [
                "--A lekérdezés: melyek kezdődnek 8kor\r\n",
                "SELECT t.Tantárgynév\r\n",
                "FROM Orak o JOIN Tantárgyak t ON o.targy=t.Tkód \r\n",
                "            JOIN Savok s ON o.Sav=s.Sav_id\r\n",
                "WHERE s.Időpont='8.00' and t.Tantárgynév NOT IN (SELECT t.Tantárgynév FROM Orak o JOIN Tantárgyak t ON o.targy=t.Tkód JOIN Savok s ON o.Sav=s.Sav_id WHERE s.Időpont='12.30')\r\n",
                "GROUP BY t.Tantárgynév\r\n",
                "--B lekérdezés: 12:30kor kezdődőek"
            ],
            "metadata": {
                "azdata_cell_guid": "3e89b651-f56f-4102-af52-30eb2bbe360d",
                "language": "sql"
            },
            "outputs": [
                {
                    "output_type": "display_data",
                    "data": {
                        "text/html": "(3 rows affected)"
                    },
                    "metadata": {}
                },
                {
                    "output_type": "display_data",
                    "data": {
                        "text/html": "Total execution time: 00:00:00.005"
                    },
                    "metadata": {}
                },
                {
                    "output_type": "execute_result",
                    "execution_count": 56,
                    "data": {
                        "application/vnd.dataresource+json": {
                            "schema": {
                                "fields": [
                                    {
                                        "name": "Tantárgynév"
                                    }
                                ]
                            },
                            "data": [
                                {
                                    "Tantárgynév": "Az ürgeöntés hydrológiai alapjai II."
                                },
                                {
                                    "Tantárgynév": "Fejezetek az ürgék jogaiból"
                                },
                                {
                                    "Tantárgynév": "Ürgevitel"
                                }
                            ]
                        },
                        "text/html": "<table><tr><th>Tantárgynév</th></tr><tr><td>Az ürgeöntés hydrológiai alapjai II.</td></tr><tr><td>Fejezetek az ürgék jogaiból</td></tr><tr><td>Ürgevitel</td></tr></table>"
                    },
                    "metadata": {}
                }
            ],
            "execution_count": 56
        },
        {
            "cell_type": "markdown",
            "source": [
                "8. <span style=\"background-color: rgb(255, 255, 255); color: rgb(36, 41, 47); font-family: -apple-system, BlinkMacSystemFont, &quot;Segoe UI&quot;, Helvetica, Arial, sans-serif, &quot;Apple Color Emoji&quot;, &quot;Segoe UI Emoji&quot;; font-size: 16px; font-weight: 600;\">Listázzuk azokat a termeket, amelyekben oktat Kovács László és van olyan tanóra a teremben, ahol a tantárgy nevében nem szerepel az 'ürge' szó!</span>"
            ],
            "metadata": {
                "azdata_cell_guid": "26a504dc-ff6a-439f-94c0-4580eca3eacf"
            },
            "attachments": {}
        },
        {
            "cell_type": "code",
            "source": [
                ""
            ],
            "metadata": {
                "azdata_cell_guid": "1cbb8aeb-78b5-4350-aa45-e3202fdab85b",
                "language": "sql"
            },
            "outputs": [],
            "execution_count": null
        },
        {
            "cell_type": "markdown",
            "source": [
                "9. <span style=\"font-weight: 600; color: rgb(36, 41, 47); font-family: -apple-system, BlinkMacSystemFont, &quot;Segoe UI&quot;, Helvetica, Arial, sans-serif, &quot;Apple Color Emoji&quot;, &quot;Segoe UI Emoji&quot;; font-size: 16px;\">Készítsünk listát arról, hogy melyik tanárnak hány órája van a (munka) hét elején (hétfőn), hét közben (kedd, szerda és csütörtök), illetve a hét végén (péntek)!</span>\n",
                "\n",
                "1. Jelenítsük meg a tanár azonosítóját, nevét, az időszakot (hét eleje - hét közben - hét vége), valamint az óraszámot!\n",
                "2. A három megjelölt időszakot külön kérdezzük le, majd fűzzük össze a lekérdezések eredményeit!\n",
                "3. Rendezzük a listát az oktató neve, azon belül időszak szerint!"
            ],
            "metadata": {
                "azdata_cell_guid": "435e2860-2dd5-4877-90f4-34a43baeb53c"
            },
            "attachments": {}
        },
        {
            "cell_type": "code",
            "source": [
                ""
            ],
            "metadata": {
                "azdata_cell_guid": "ce846351-ddbe-4d8e-b8fb-2a92c73ac80b",
                "language": "sql"
            },
            "outputs": [],
            "execution_count": null
        },
        {
            "cell_type": "markdown",
            "source": [
                "10. <span style=\"background-color: rgb(255, 255, 255); color: rgb(36, 41, 47); font-family: -apple-system, BlinkMacSystemFont, &quot;Segoe UI&quot;, Helvetica, Arial, sans-serif, &quot;Apple Color Emoji&quot;, &quot;Segoe UI Emoji&quot;; font-size: 16px; font-weight: 600;\">Melyik napokon nincs órája Pelikán Józsefnek?</span>"
            ],
            "metadata": {
                "azdata_cell_guid": "217c5772-afe2-4a7c-b913-e3a3e09d6411"
            },
            "attachments": {}
        },
        {
            "cell_type": "code",
            "source": [
                "--A lekérdezés: Összes nap\r\n",
                "--B lekézdezés: mely napokon van órája\r\n",
                "--A - B : mikor nincs\r\n",
                "SELECT nap\r\n",
                "FROM napok\r\n",
                "\r\n",
                "EXCEPT\r\n",
                "\r\n",
                "SELECT n.nap\r\n",
                "FROM Orak o JOIN Oktatok okt ON o.tanar = okt.oktato_id JOIN Napok n ON n.nap_id = o.nap\r\n",
                "WHERE okt.nev = 'Pelikán József'\r\n",
                "--teszt"
            ],
            "metadata": {
                "azdata_cell_guid": "a9cc0926-3dbd-4ed8-8179-1c39d64a0762",
                "language": "sql"
            },
            "outputs": [
                {
                    "output_type": "display_data",
                    "data": {
                        "text/html": "(3 rows affected)"
                    },
                    "metadata": {}
                },
                {
                    "output_type": "display_data",
                    "data": {
                        "text/html": "Total execution time: 00:00:00.004"
                    },
                    "metadata": {}
                },
                {
                    "output_type": "execute_result",
                    "execution_count": 62,
                    "data": {
                        "application/vnd.dataresource+json": {
                            "schema": {
                                "fields": [
                                    {
                                        "name": "nap"
                                    }
                                ]
                            },
                            "data": [
                                {
                                    "nap": "Csütörtök"
                                },
                                {
                                    "nap": "Péntek"
                                },
                                {
                                    "nap": "Szerda"
                                }
                            ]
                        },
                        "text/html": "<table><tr><th>nap</th></tr><tr><td>Csütörtök</td></tr><tr><td>Péntek</td></tr><tr><td>Szerda</td></tr></table>"
                    },
                    "metadata": {}
                }
            ],
            "execution_count": 62
        },
        {
            "cell_type": "markdown",
            "source": [
                "**A 11-15 feladatok gyakorlásra szolgálnak a közelgő zh-ra :-)**\n",
                "\n",
                "11. _Készítsünk listát az oktatók adatairól!_\n",
                "\n",
                "1. Az oktatók titulusa és neve összefűzve jelenjen meg, közöttük szóközzel!\n",
                "2. Ha valakinek nincs titulusa, akkor csak a neve jelenjen meg, szóköz nélkül!\n",
                "3. A listát rendezzük a beosztás kódja, azon belül a státusz kódja szerint növekvő sorrendbe!\n",
                "4. Az oszlopokat nevezzük el értelemszerűen!"
            ],
            "metadata": {
                "azdata_cell_guid": "d2340f5f-1614-473c-b937-85740d67f7c1"
            },
            "attachments": {}
        },
        {
            "cell_type": "code",
            "source": [
                ""
            ],
            "metadata": {
                "azdata_cell_guid": "e99c2c53-898f-4787-b0e6-182d106dc16f",
                "language": "sql"
            },
            "outputs": [],
            "execution_count": null
        },
        {
            "cell_type": "markdown",
            "source": [
                "<span style=\"color: #09885a;\">12</span>. Készítsünk listát, amely megmutatja, hogy összesen hány tantárgy van kreditenkénti csoportosításban!\n",
                "\n",
                "  \n",
                "\n",
                "A listából hagyjuk ki azokat a tételeket, ahol ez a darabszám <span style=\"color: #09885a;\">1</span>!\n",
                "\n",
                "A Folyami gáttan tantárgyat ne vegyük figyelembe!\n",
                "\n",
                "A listát rendezzük darabszám szerint csökkenő sorrendbe!\n",
                "\n",
                "Az oszlopokat nevezzük el értelemszerűen!"
            ],
            "metadata": {
                "azdata_cell_guid": "a765e9d6-58b3-4171-872a-78f3118fd6e3"
            },
            "attachments": {}
        },
        {
            "cell_type": "code",
            "source": [
                ""
            ],
            "metadata": {
                "azdata_cell_guid": "422e8127-b652-4d3a-bfd7-9b1637b5781e",
                "language": "sql"
            },
            "outputs": [],
            "execution_count": null
        },
        {
            "cell_type": "markdown",
            "source": [
                "13. _Készítsünk listát az oktatók nevéről, a beosztásuk alapján elvárt és a tényleges óraszámukról!_\n",
                "\n",
                "1. Az oszlopok neve legyen 'Oktató neve', 'Elvárt óraszám' és 'Tényleges óraszám'\n",
                "2. Szűrjük a listát azokra az oktatókra, ahol az elvárt és a tényleges óraszám azonos"
            ],
            "metadata": {
                "azdata_cell_guid": "3f9237ae-f109-401c-acb9-31d75e73331b"
            },
            "attachments": {}
        },
        {
            "cell_type": "code",
            "source": [
                ""
            ],
            "metadata": {
                "azdata_cell_guid": "4b31bb89-cfbc-46b1-8639-85c462877786",
                "language": "sql"
            },
            "outputs": [],
            "execution_count": null
        },
        {
            "cell_type": "markdown",
            "source": [
                "14. _Készítsünk listát, amely megmutatja, hogy mely tantárgyból nincs óra egyáltalán!_\n",
                "\n",
                "1. Csak a tantárgy neve jelenjen meg!"
            ],
            "metadata": {
                "azdata_cell_guid": "f634e09a-85ef-4e70-8ec6-ef355dfddaa7"
            },
            "attachments": {}
        },
        {
            "cell_type": "code",
            "source": [
                ""
            ],
            "metadata": {
                "azdata_cell_guid": "88abc55b-2c78-495b-a72f-3f8f4eb5fe70",
                "language": "sql"
            },
            "outputs": [],
            "execution_count": null
        },
        {
            "cell_type": "markdown",
            "source": [
                "15. _Hány órájuk van az óraadóknak napi bontásban?_\n",
                "\n",
                "1. Csak a napok nevét és az óraszámot jelenítsük meg!\n",
                "2. Rendezzük a listát óraszám szerint növekvő sorrendbe!"
            ],
            "metadata": {
                "azdata_cell_guid": "4cbf2f0d-a65d-480a-8186-ccdb24498443"
            },
            "attachments": {}
        },
        {
            "cell_type": "code",
            "source": [
                ""
            ],
            "metadata": {
                "azdata_cell_guid": "c148aee8-bc85-40bf-b80a-a4898a6c05cb",
                "language": "sql"
            },
            "outputs": [],
            "execution_count": null
        },
        {
            "cell_type": "code",
            "source": [
                "SELECT *, IIF(month(METTOL)=6 or MONTH(METTOL)=7 or Month(mettol)=8, 'Igen','Nem') as 'Nyári szezon?'\r\n",
                "FROM Foglalas\r\n",
                "WHERE UGYFEL_FK='laszlo2' AND GYERMEK_SZAM=0"
            ],
            "metadata": {
                "language": "sql",
                "azdata_cell_guid": "b37d1ab1-fc11-49fd-ad6a-33bd723ce1bb"
            },
            "outputs": [
                {
                    "output_type": "display_data",
                    "data": {
                        "text/html": "(1 row affected)"
                    },
                    "metadata": {}
                },
                {
                    "output_type": "display_data",
                    "data": {
                        "text/html": "Total execution time: 00:00:00.006"
                    },
                    "metadata": {}
                },
                {
                    "output_type": "execute_result",
                    "execution_count": 67,
                    "data": {
                        "application/vnd.dataresource+json": {
                            "schema": {
                                "fields": [
                                    {
                                        "name": "FOGLALAS_PK"
                                    },
                                    {
                                        "name": "UGYFEL_FK"
                                    },
                                    {
                                        "name": "SZOBA_FK"
                                    },
                                    {
                                        "name": "METTOL"
                                    },
                                    {
                                        "name": "MEDDIG"
                                    },
                                    {
                                        "name": "FELNOTT_SZAM"
                                    },
                                    {
                                        "name": "GYERMEK_SZAM"
                                    },
                                    {
                                        "name": "Nyári szezon?"
                                    }
                                ]
                            },
                            "data": [
                                {
                                    "FOGLALAS_PK": "561",
                                    "UGYFEL_FK": "laszlo2",
                                    "SZOBA_FK": "42",
                                    "METTOL": "2016-04-06",
                                    "MEDDIG": "2016-04-10",
                                    "FELNOTT_SZAM": "2",
                                    "GYERMEK_SZAM": "0",
                                    "Nyári szezon?": "Nem"
                                }
                            ]
                        },
                        "text/html": "<table><tr><th>FOGLALAS_PK</th><th>UGYFEL_FK</th><th>SZOBA_FK</th><th>METTOL</th><th>MEDDIG</th><th>FELNOTT_SZAM</th><th>GYERMEK_SZAM</th><th>Nyári szezon?</th></tr><tr><td>561</td><td>laszlo2</td><td>42</td><td>2016-04-06</td><td>2016-04-10</td><td>2</td><td>0</td><td>Nem</td></tr></table>"
                    },
                    "metadata": {}
                }
            ],
            "execution_count": 67
        },
        {
            "cell_type": "code",
            "source": [
                "SELECT szh.Tipus, Year(f.METTOL) as 'Év', Month(f.METTOL) as 'Hónap', \r\n",
                "        Count(*) as 'Foglalás száma'\r\n",
                "FROM Foglalas f JOIN Szoba sz on f.SZOBA_FK=sz.SZOBA_ID\r\n",
                "                JOIN Szallashely szh ON szh.SZALLAS_ID=sz.SZALLAS_FK\r\n",
                "WHERE DATEDIFF(day, METTOL, MEDDIG)>=5\r\n",
                "GROUP BY szh.Tipus, Year(f.METTOL), MONTH(f.METTOL)"
            ],
            "metadata": {
                "azdata_cell_guid": "8c462ec6-ab9e-46d6-9a0b-e87e1605cd25",
                "language": "sql",
                "tags": []
            },
            "outputs": [
                {
                    "output_type": "display_data",
                    "data": {
                        "text/html": "(45 rows affected)"
                    },
                    "metadata": {}
                },
                {
                    "output_type": "display_data",
                    "data": {
                        "text/html": "Total execution time: 00:00:00.016"
                    },
                    "metadata": {}
                },
                {
                    "output_type": "execute_result",
                    "execution_count": 75,
                    "data": {
                        "application/vnd.dataresource+json": {
                            "schema": {
                                "fields": [
                                    {
                                        "name": "Tipus"
                                    },
                                    {
                                        "name": "Év"
                                    },
                                    {
                                        "name": "Hónap"
                                    },
                                    {
                                        "name": "Foglalás száma"
                                    }
                                ]
                            },
                            "data": [
                                {
                                    "Tipus": "Apartman",
                                    "Év": "2016",
                                    "Hónap": "4",
                                    "Foglalás száma": "2"
                                },
                                {
                                    "Tipus": "Apartman",
                                    "Év": "2016",
                                    "Hónap": "5",
                                    "Foglalás száma": "1"
                                },
                                {
                                    "Tipus": "Apartman",
                                    "Év": "2016",
                                    "Hónap": "6",
                                    "Foglalás száma": "1"
                                },
                                {
                                    "Tipus": "Apartman",
                                    "Év": "2016",
                                    "Hónap": "7",
                                    "Foglalás száma": "1"
                                },
                                {
                                    "Tipus": "Apartman",
                                    "Év": "2016",
                                    "Hónap": "8",
                                    "Foglalás száma": "2"
                                },
                                {
                                    "Tipus": "Apartman",
                                    "Év": "2016",
                                    "Hónap": "9",
                                    "Foglalás száma": "3"
                                },
                                {
                                    "Tipus": "Apartman",
                                    "Év": "2016",
                                    "Hónap": "10",
                                    "Foglalás száma": "9"
                                },
                                {
                                    "Tipus": "Apartman",
                                    "Év": "2016",
                                    "Hónap": "11",
                                    "Foglalás száma": "3"
                                },
                                {
                                    "Tipus": "Apartman",
                                    "Év": "2016",
                                    "Hónap": "12",
                                    "Foglalás száma": "2"
                                },
                                {
                                    "Tipus": "Apartman",
                                    "Év": "2017",
                                    "Hónap": "1",
                                    "Foglalás száma": "1"
                                },
                                {
                                    "Tipus": "Apartman",
                                    "Év": "2017",
                                    "Hónap": "2",
                                    "Foglalás száma": "5"
                                },
                                {
                                    "Tipus": "Hotel",
                                    "Év": "2016",
                                    "Hónap": "4",
                                    "Foglalás száma": "16"
                                },
                                {
                                    "Tipus": "Hotel",
                                    "Év": "2016",
                                    "Hónap": "5",
                                    "Foglalás száma": "32"
                                },
                                {
                                    "Tipus": "Hotel",
                                    "Év": "2016",
                                    "Hónap": "6",
                                    "Foglalás száma": "29"
                                },
                                {
                                    "Tipus": "Hotel",
                                    "Év": "2016",
                                    "Hónap": "7",
                                    "Foglalás száma": "30"
                                },
                                {
                                    "Tipus": "Hotel",
                                    "Év": "2016",
                                    "Hónap": "8",
                                    "Foglalás száma": "22"
                                },
                                {
                                    "Tipus": "Hotel",
                                    "Év": "2016",
                                    "Hónap": "9",
                                    "Foglalás száma": "19"
                                },
                                {
                                    "Tipus": "Hotel",
                                    "Év": "2016",
                                    "Hónap": "10",
                                    "Foglalás száma": "36"
                                },
                                {
                                    "Tipus": "Hotel",
                                    "Év": "2016",
                                    "Hónap": "11",
                                    "Foglalás száma": "27"
                                },
                                {
                                    "Tipus": "Hotel",
                                    "Év": "2016",
                                    "Hónap": "12",
                                    "Foglalás száma": "25"
                                },
                                {
                                    "Tipus": "Hotel",
                                    "Év": "2017",
                                    "Hónap": "1",
                                    "Foglalás száma": "28"
                                },
                                {
                                    "Tipus": "Hotel",
                                    "Év": "2017",
                                    "Hónap": "2",
                                    "Foglalás száma": "21"
                                },
                                {
                                    "Tipus": "Hotel",
                                    "Év": "2017",
                                    "Hónap": "3",
                                    "Foglalás száma": "1"
                                },
                                {
                                    "Tipus": "panzió",
                                    "Év": "2016",
                                    "Hónap": "4",
                                    "Foglalás száma": "2"
                                },
                                {
                                    "Tipus": "panzió",
                                    "Év": "2016",
                                    "Hónap": "5",
                                    "Foglalás száma": "9"
                                },
                                {
                                    "Tipus": "panzió",
                                    "Év": "2016",
                                    "Hónap": "6",
                                    "Foglalás száma": "10"
                                },
                                {
                                    "Tipus": "panzió",
                                    "Év": "2016",
                                    "Hónap": "7",
                                    "Foglalás száma": "7"
                                },
                                {
                                    "Tipus": "panzió",
                                    "Év": "2016",
                                    "Hónap": "8",
                                    "Foglalás száma": "6"
                                },
                                {
                                    "Tipus": "panzió",
                                    "Év": "2016",
                                    "Hónap": "9",
                                    "Foglalás száma": "6"
                                },
                                {
                                    "Tipus": "panzió",
                                    "Év": "2016",
                                    "Hónap": "10",
                                    "Foglalás száma": "11"
                                },
                                {
                                    "Tipus": "panzió",
                                    "Év": "2016",
                                    "Hónap": "11",
                                    "Foglalás száma": "3"
                                },
                                {
                                    "Tipus": "panzió",
                                    "Év": "2016",
                                    "Hónap": "12",
                                    "Foglalás száma": "6"
                                },
                                {
                                    "Tipus": "panzió",
                                    "Év": "2017",
                                    "Hónap": "1",
                                    "Foglalás száma": "5"
                                },
                                {
                                    "Tipus": "panzió",
                                    "Év": "2017",
                                    "Hónap": "2",
                                    "Foglalás száma": "5"
                                },
                                {
                                    "Tipus": "panzió",
                                    "Év": "2017",
                                    "Hónap": "3",
                                    "Foglalás száma": "1"
                                },
                                {
                                    "Tipus": "vendégház",
                                    "Év": "2016",
                                    "Hónap": "4",
                                    "Foglalás száma": "2"
                                },
                                {
                                    "Tipus": "vendégház",
                                    "Év": "2016",
                                    "Hónap": "5",
                                    "Foglalás száma": "5"
                                },
                                {
                                    "Tipus": "vendégház",
                                    "Év": "2016",
                                    "Hónap": "6",
                                    "Foglalás száma": "3"
                                },
                                {
                                    "Tipus": "vendégház",
                                    "Év": "2016",
                                    "Hónap": "7",
                                    "Foglalás száma": "5"
                                },
                                {
                                    "Tipus": "vendégház",
                                    "Év": "2016",
                                    "Hónap": "8",
                                    "Foglalás száma": "5"
                                },
                                {
                                    "Tipus": "vendégház",
                                    "Év": "2016",
                                    "Hónap": "9",
                                    "Foglalás száma": "4"
                                },
                                {
                                    "Tipus": "vendégház",
                                    "Év": "2016",
                                    "Hónap": "10",
                                    "Foglalás száma": "7"
                                },
                                {
                                    "Tipus": "vendégház",
                                    "Év": "2016",
                                    "Hónap": "11",
                                    "Foglalás száma": "4"
                                },
                                {
                                    "Tipus": "vendégház",
                                    "Év": "2017",
                                    "Hónap": "1",
                                    "Foglalás száma": "1"
                                },
                                {
                                    "Tipus": "vendégház",
                                    "Év": "2017",
                                    "Hónap": "2",
                                    "Foglalás száma": "3"
                                }
                            ]
                        },
                        "text/html": "<table><tr><th>Tipus</th><th>Év</th><th>Hónap</th><th>Foglalás száma</th></tr><tr><td>Apartman</td><td>2016</td><td>4</td><td>2</td></tr><tr><td>Apartman</td><td>2016</td><td>5</td><td>1</td></tr><tr><td>Apartman</td><td>2016</td><td>6</td><td>1</td></tr><tr><td>Apartman</td><td>2016</td><td>7</td><td>1</td></tr><tr><td>Apartman</td><td>2016</td><td>8</td><td>2</td></tr><tr><td>Apartman</td><td>2016</td><td>9</td><td>3</td></tr><tr><td>Apartman</td><td>2016</td><td>10</td><td>9</td></tr><tr><td>Apartman</td><td>2016</td><td>11</td><td>3</td></tr><tr><td>Apartman</td><td>2016</td><td>12</td><td>2</td></tr><tr><td>Apartman</td><td>2017</td><td>1</td><td>1</td></tr><tr><td>Apartman</td><td>2017</td><td>2</td><td>5</td></tr><tr><td>Hotel</td><td>2016</td><td>4</td><td>16</td></tr><tr><td>Hotel</td><td>2016</td><td>5</td><td>32</td></tr><tr><td>Hotel</td><td>2016</td><td>6</td><td>29</td></tr><tr><td>Hotel</td><td>2016</td><td>7</td><td>30</td></tr><tr><td>Hotel</td><td>2016</td><td>8</td><td>22</td></tr><tr><td>Hotel</td><td>2016</td><td>9</td><td>19</td></tr><tr><td>Hotel</td><td>2016</td><td>10</td><td>36</td></tr><tr><td>Hotel</td><td>2016</td><td>11</td><td>27</td></tr><tr><td>Hotel</td><td>2016</td><td>12</td><td>25</td></tr><tr><td>Hotel</td><td>2017</td><td>1</td><td>28</td></tr><tr><td>Hotel</td><td>2017</td><td>2</td><td>21</td></tr><tr><td>Hotel</td><td>2017</td><td>3</td><td>1</td></tr><tr><td>panzió</td><td>2016</td><td>4</td><td>2</td></tr><tr><td>panzió</td><td>2016</td><td>5</td><td>9</td></tr><tr><td>panzió</td><td>2016</td><td>6</td><td>10</td></tr><tr><td>panzió</td><td>2016</td><td>7</td><td>7</td></tr><tr><td>panzió</td><td>2016</td><td>8</td><td>6</td></tr><tr><td>panzió</td><td>2016</td><td>9</td><td>6</td></tr><tr><td>panzió</td><td>2016</td><td>10</td><td>11</td></tr><tr><td>panzió</td><td>2016</td><td>11</td><td>3</td></tr><tr><td>panzió</td><td>2016</td><td>12</td><td>6</td></tr><tr><td>panzió</td><td>2017</td><td>1</td><td>5</td></tr><tr><td>panzió</td><td>2017</td><td>2</td><td>5</td></tr><tr><td>panzió</td><td>2017</td><td>3</td><td>1</td></tr><tr><td>vendégház</td><td>2016</td><td>4</td><td>2</td></tr><tr><td>vendégház</td><td>2016</td><td>5</td><td>5</td></tr><tr><td>vendégház</td><td>2016</td><td>6</td><td>3</td></tr><tr><td>vendégház</td><td>2016</td><td>7</td><td>5</td></tr><tr><td>vendégház</td><td>2016</td><td>8</td><td>5</td></tr><tr><td>vendégház</td><td>2016</td><td>9</td><td>4</td></tr><tr><td>vendégház</td><td>2016</td><td>10</td><td>7</td></tr><tr><td>vendégház</td><td>2016</td><td>11</td><td>4</td></tr><tr><td>vendégház</td><td>2017</td><td>1</td><td>1</td></tr><tr><td>vendégház</td><td>2017</td><td>2</td><td>3</td></tr></table>"
                    },
                    "metadata": {}
                }
            ],
            "execution_count": 75
        },
        {
            "cell_type": "code",
            "source": [
                "SELECT sz.SZOBA_ID, \r\n",
                "       IIF(sz.KLIMAS='i',20000,25000) as 'Napi ár'\r\n",
                "FROM Szoba sz LEFT JOIN Foglalas f ON f.SZOBA_FK=sz.SZOBA_ID\r\n",
                "WHERE f.SZOBA_FK IS NULL"
            ],
            "metadata": {
                "azdata_cell_guid": "a5124562-ca0e-4ecb-b823-aaed6999d9f6",
                "language": "sql"
            },
            "outputs": [
                {
                    "output_type": "display_data",
                    "data": {
                        "text/html": "(97 rows affected)"
                    },
                    "metadata": {}
                },
                {
                    "output_type": "display_data",
                    "data": {
                        "text/html": "Total execution time: 00:00:00.010"
                    },
                    "metadata": {}
                },
                {
                    "output_type": "execute_result",
                    "execution_count": 89,
                    "data": {
                        "application/vnd.dataresource+json": {
                            "schema": {
                                "fields": [
                                    {
                                        "name": "SZOBA_ID"
                                    },
                                    {
                                        "name": "Napi ár"
                                    }
                                ]
                            },
                            "data": [
                                {
                                    "SZOBA_ID": "261",
                                    "Napi ár": "25000"
                                },
                                {
                                    "SZOBA_ID": "238",
                                    "Napi ár": "20000"
                                },
                                {
                                    "SZOBA_ID": "215",
                                    "Napi ár": "20000"
                                },
                                {
                                    "SZOBA_ID": "209",
                                    "Napi ár": "25000"
                                },
                                {
                                    "SZOBA_ID": "284",
                                    "Napi ár": "20000"
                                },
                                {
                                    "SZOBA_ID": "232",
                                    "Napi ár": "20000"
                                },
                                {
                                    "SZOBA_ID": "278",
                                    "Napi ár": "20000"
                                },
                                {
                                    "SZOBA_ID": "221",
                                    "Napi ár": "20000"
                                },
                                {
                                    "SZOBA_ID": "201",
                                    "Napi ár": "25000"
                                },
                                {
                                    "SZOBA_ID": "244",
                                    "Napi ár": "20000"
                                },
                                {
                                    "SZOBA_ID": "252",
                                    "Napi ár": "20000"
                                },
                                {
                                    "SZOBA_ID": "258",
                                    "Napi ár": "20000"
                                },
                                {
                                    "SZOBA_ID": "264",
                                    "Napi ár": "20000"
                                },
                                {
                                    "SZOBA_ID": "281",
                                    "Napi ár": "25000"
                                },
                                {
                                    "SZOBA_ID": "212",
                                    "Napi ár": "25000"
                                },
                                {
                                    "SZOBA_ID": "235",
                                    "Napi ár": "20000"
                                },
                                {
                                    "SZOBA_ID": "218",
                                    "Napi ár": "20000"
                                },
                                {
                                    "SZOBA_ID": "229",
                                    "Napi ár": "20000"
                                },
                                {
                                    "SZOBA_ID": "275",
                                    "Napi ár": "25000"
                                },
                                {
                                    "SZOBA_ID": "272",
                                    "Napi ár": "20000"
                                },
                                {
                                    "SZOBA_ID": "255",
                                    "Napi ár": "25000"
                                },
                                {
                                    "SZOBA_ID": "292",
                                    "Napi ár": "20000"
                                },
                                {
                                    "SZOBA_ID": "241",
                                    "Napi ár": "20000"
                                },
                                {
                                    "SZOBA_ID": "213",
                                    "Napi ár": "20000"
                                },
                                {
                                    "SZOBA_ID": "236",
                                    "Napi ár": "25000"
                                },
                                {
                                    "SZOBA_ID": "259",
                                    "Napi ár": "20000"
                                },
                                {
                                    "SZOBA_ID": "267",
                                    "Napi ár": "25000"
                                },
                                {
                                    "SZOBA_ID": "230",
                                    "Napi ár": "20000"
                                },
                                {
                                    "SZOBA_ID": "276",
                                    "Napi ár": "20000"
                                },
                                {
                                    "SZOBA_ID": "273",
                                    "Napi ár": "20000"
                                },
                                {
                                    "SZOBA_ID": "250",
                                    "Napi ár": "25000"
                                },
                                {
                                    "SZOBA_ID": "207",
                                    "Napi ár": "20000"
                                },
                                {
                                    "SZOBA_ID": "256",
                                    "Napi ár": "20000"
                                },
                                {
                                    "SZOBA_ID": "293",
                                    "Napi ár": "20000"
                                },
                                {
                                    "SZOBA_ID": "239",
                                    "Napi ár": "20000"
                                },
                                {
                                    "SZOBA_ID": "216",
                                    "Napi ár": "20000"
                                },
                                {
                                    "SZOBA_ID": "287",
                                    "Napi ár": "25000"
                                },
                                {
                                    "SZOBA_ID": "233",
                                    "Napi ár": "25000"
                                },
                                {
                                    "SZOBA_ID": "210",
                                    "Napi ár": "20000"
                                },
                                {
                                    "SZOBA_ID": "279",
                                    "Napi ár": "20000"
                                },
                                {
                                    "SZOBA_ID": "270",
                                    "Napi ár": "25000"
                                },
                                {
                                    "SZOBA_ID": "224",
                                    "Napi ár": "20000"
                                },
                                {
                                    "SZOBA_ID": "227",
                                    "Napi ár": "20000"
                                },
                                {
                                    "SZOBA_ID": "204",
                                    "Napi ár": "20000"
                                },
                                {
                                    "SZOBA_ID": "253",
                                    "Napi ár": "20000"
                                },
                                {
                                    "SZOBA_ID": "290",
                                    "Napi ár": "20000"
                                },
                                {
                                    "SZOBA_ID": "247",
                                    "Napi ár": "20000"
                                },
                                {
                                    "SZOBA_ID": "211",
                                    "Napi ár": "20000"
                                },
                                {
                                    "SZOBA_ID": "282",
                                    "Napi ár": "20000"
                                },
                                {
                                    "SZOBA_ID": "288",
                                    "Napi ár": "20000"
                                },
                                {
                                    "SZOBA_ID": "234",
                                    "Napi ár": "20000"
                                },
                                {
                                    "SZOBA_ID": "219",
                                    "Napi ár": "25000"
                                },
                                {
                                    "SZOBA_ID": "265",
                                    "Napi ár": "20000"
                                },
                                {
                                    "SZOBA_ID": "271",
                                    "Napi ár": "20000"
                                },
                                {
                                    "SZOBA_ID": "228",
                                    "Napi ár": "20000"
                                },
                                {
                                    "SZOBA_ID": "205",
                                    "Napi ár": "20000"
                                },
                                {
                                    "SZOBA_ID": "291",
                                    "Napi ár": "20000"
                                },
                                {
                                    "SZOBA_ID": "242",
                                    "Napi ár": "20000"
                                },
                                {
                                    "SZOBA_ID": "254",
                                    "Napi ár": "20000"
                                },
                                {
                                    "SZOBA_ID": "199",
                                    "Napi ár": "20000"
                                },
                                {
                                    "SZOBA_ID": "248",
                                    "Napi ár": "20000"
                                },
                                {
                                    "SZOBA_ID": "285",
                                    "Napi ár": "20000"
                                },
                                {
                                    "SZOBA_ID": "262",
                                    "Napi ár": "25000"
                                },
                                {
                                    "SZOBA_ID": "231",
                                    "Napi ár": "20000"
                                },
                                {
                                    "SZOBA_ID": "268",
                                    "Napi ár": "25000"
                                },
                                {
                                    "SZOBA_ID": "222",
                                    "Napi ár": "25000"
                                },
                                {
                                    "SZOBA_ID": "202",
                                    "Napi ár": "20000"
                                },
                                {
                                    "SZOBA_ID": "225",
                                    "Napi ár": "20000"
                                },
                                {
                                    "SZOBA_ID": "274",
                                    "Napi ár": "20000"
                                },
                                {
                                    "SZOBA_ID": "251",
                                    "Napi ár": "25000"
                                },
                                {
                                    "SZOBA_ID": "159",
                                    "Napi ár": "25000"
                                },
                                {
                                    "SZOBA_ID": "208",
                                    "Napi ár": "20000"
                                },
                                {
                                    "SZOBA_ID": "294",
                                    "Napi ár": "20000"
                                },
                                {
                                    "SZOBA_ID": "245",
                                    "Napi ár": "20000"
                                },
                                {
                                    "SZOBA_ID": "286",
                                    "Napi ár": "20000"
                                },
                                {
                                    "SZOBA_ID": "263",
                                    "Napi ár": "20000"
                                },
                                {
                                    "SZOBA_ID": "240",
                                    "Napi ár": "20000"
                                },
                                {
                                    "SZOBA_ID": "257",
                                    "Napi ár": "20000"
                                },
                                {
                                    "SZOBA_ID": "280",
                                    "Napi ár": "25000"
                                },
                                {
                                    "SZOBA_ID": "217",
                                    "Napi ár": "25000"
                                },
                                {
                                    "SZOBA_ID": "223",
                                    "Napi ár": "20000"
                                },
                                {
                                    "SZOBA_ID": "269",
                                    "Napi ár": "20000"
                                },
                                {
                                    "SZOBA_ID": "226",
                                    "Napi ár": "25000"
                                },
                                {
                                    "SZOBA_ID": "203",
                                    "Napi ár": "20000"
                                },
                                {
                                    "SZOBA_ID": "289",
                                    "Napi ár": "20000"
                                },
                                {
                                    "SZOBA_ID": "246",
                                    "Napi ár": "20000"
                                },
                                {
                                    "SZOBA_ID": "214",
                                    "Napi ár": "20000"
                                },
                                {
                                    "SZOBA_ID": "237",
                                    "Napi ár": "25000"
                                },
                                {
                                    "SZOBA_ID": "260",
                                    "Napi ár": "20000"
                                },
                                {
                                    "SZOBA_ID": "283",
                                    "Napi ár": "25000"
                                },
                                {
                                    "SZOBA_ID": "220",
                                    "Napi ár": "20000"
                                },
                                {
                                    "SZOBA_ID": "266",
                                    "Napi ár": "20000"
                                },
                                {
                                    "SZOBA_ID": "277",
                                    "Napi ár": "20000"
                                },
                                {
                                    "SZOBA_ID": "249",
                                    "Napi ár": "25000"
                                },
                                {
                                    "SZOBA_ID": "206",
                                    "Napi ár": "20000"
                                },
                                {
                                    "SZOBA_ID": "243",
                                    "Napi ár": "20000"
                                },
                                {
                                    "SZOBA_ID": "200",
                                    "Napi ár": "20000"
                                }
                            ]
                        },
                        "text/html": "<table><tr><th>SZOBA_ID</th><th>Napi ár</th></tr><tr><td>261</td><td>25000</td></tr><tr><td>238</td><td>20000</td></tr><tr><td>215</td><td>20000</td></tr><tr><td>209</td><td>25000</td></tr><tr><td>284</td><td>20000</td></tr><tr><td>232</td><td>20000</td></tr><tr><td>278</td><td>20000</td></tr><tr><td>221</td><td>20000</td></tr><tr><td>201</td><td>25000</td></tr><tr><td>244</td><td>20000</td></tr><tr><td>252</td><td>20000</td></tr><tr><td>258</td><td>20000</td></tr><tr><td>264</td><td>20000</td></tr><tr><td>281</td><td>25000</td></tr><tr><td>212</td><td>25000</td></tr><tr><td>235</td><td>20000</td></tr><tr><td>218</td><td>20000</td></tr><tr><td>229</td><td>20000</td></tr><tr><td>275</td><td>25000</td></tr><tr><td>272</td><td>20000</td></tr><tr><td>255</td><td>25000</td></tr><tr><td>292</td><td>20000</td></tr><tr><td>241</td><td>20000</td></tr><tr><td>213</td><td>20000</td></tr><tr><td>236</td><td>25000</td></tr><tr><td>259</td><td>20000</td></tr><tr><td>267</td><td>25000</td></tr><tr><td>230</td><td>20000</td></tr><tr><td>276</td><td>20000</td></tr><tr><td>273</td><td>20000</td></tr><tr><td>250</td><td>25000</td></tr><tr><td>207</td><td>20000</td></tr><tr><td>256</td><td>20000</td></tr><tr><td>293</td><td>20000</td></tr><tr><td>239</td><td>20000</td></tr><tr><td>216</td><td>20000</td></tr><tr><td>287</td><td>25000</td></tr><tr><td>233</td><td>25000</td></tr><tr><td>210</td><td>20000</td></tr><tr><td>279</td><td>20000</td></tr><tr><td>270</td><td>25000</td></tr><tr><td>224</td><td>20000</td></tr><tr><td>227</td><td>20000</td></tr><tr><td>204</td><td>20000</td></tr><tr><td>253</td><td>20000</td></tr><tr><td>290</td><td>20000</td></tr><tr><td>247</td><td>20000</td></tr><tr><td>211</td><td>20000</td></tr><tr><td>282</td><td>20000</td></tr><tr><td>288</td><td>20000</td></tr><tr><td>234</td><td>20000</td></tr><tr><td>219</td><td>25000</td></tr><tr><td>265</td><td>20000</td></tr><tr><td>271</td><td>20000</td></tr><tr><td>228</td><td>20000</td></tr><tr><td>205</td><td>20000</td></tr><tr><td>291</td><td>20000</td></tr><tr><td>242</td><td>20000</td></tr><tr><td>254</td><td>20000</td></tr><tr><td>199</td><td>20000</td></tr><tr><td>248</td><td>20000</td></tr><tr><td>285</td><td>20000</td></tr><tr><td>262</td><td>25000</td></tr><tr><td>231</td><td>20000</td></tr><tr><td>268</td><td>25000</td></tr><tr><td>222</td><td>25000</td></tr><tr><td>202</td><td>20000</td></tr><tr><td>225</td><td>20000</td></tr><tr><td>274</td><td>20000</td></tr><tr><td>251</td><td>25000</td></tr><tr><td>159</td><td>25000</td></tr><tr><td>208</td><td>20000</td></tr><tr><td>294</td><td>20000</td></tr><tr><td>245</td><td>20000</td></tr><tr><td>286</td><td>20000</td></tr><tr><td>263</td><td>20000</td></tr><tr><td>240</td><td>20000</td></tr><tr><td>257</td><td>20000</td></tr><tr><td>280</td><td>25000</td></tr><tr><td>217</td><td>25000</td></tr><tr><td>223</td><td>20000</td></tr><tr><td>269</td><td>20000</td></tr><tr><td>226</td><td>25000</td></tr><tr><td>203</td><td>20000</td></tr><tr><td>289</td><td>20000</td></tr><tr><td>246</td><td>20000</td></tr><tr><td>214</td><td>20000</td></tr><tr><td>237</td><td>25000</td></tr><tr><td>260</td><td>20000</td></tr><tr><td>283</td><td>25000</td></tr><tr><td>220</td><td>20000</td></tr><tr><td>266</td><td>20000</td></tr><tr><td>277</td><td>20000</td></tr><tr><td>249</td><td>25000</td></tr><tr><td>206</td><td>20000</td></tr><tr><td>243</td><td>20000</td></tr><tr><td>200</td><td>20000</td></tr></table>"
                    },
                    "metadata": {}
                }
            ],
            "execution_count": 89
        }
    ]
}